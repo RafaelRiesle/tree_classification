{
 "cells": [
  {
   "cell_type": "markdown",
   "id": "fccfa5a8",
   "metadata": {},
   "source": [
    "# Time series classification/ anomaly detection"
   ]
  },
  {
   "cell_type": "markdown",
   "id": "4dc58dba",
   "metadata": {},
   "source": [
    "This notebook aims to develop a thorough understanding of the data and to extract and visualize key insights for subsequent analyses."
   ]
  },
  {
   "cell_type": "markdown",
   "id": "43ba346e",
   "metadata": {},
   "source": [
    "## Table of contents\n",
    "\n",
    "1. Setup & Imports\n",
    "2. Feature Engineering\n"
   ]
  },
  {
   "cell_type": "markdown",
   "id": "b87af494",
   "metadata": {},
   "source": [
    "## Setup & Imports"
   ]
  },
  {
   "cell_type": "code",
   "execution_count": 1,
   "id": "6f136bb0",
   "metadata": {},
   "outputs": [],
   "source": [
    "from utils.constants import spectral_bands\n",
    "from utils.data_loader import DataLoader\n",
    "from utils.calculate_indices import CalculateIndices\n",
    "from utils.basic_analysis import BasicDataAnalysis\n",
    "\n",
    "from utils.time_series_aggregate import TimeSeriesAggregate\n",
    "from utils.correlation_analysis import CorrelationAnalysis\n",
    "from utils.sits_outlier_cleaner import SITSOutlierCleaner\n",
    "from utils.analysis_disturbed import DisturbedYearAnalysis\n",
    "from utils.dimensionality_reduction import SITS_DimensionalityReduction\n",
    "\n",
    "\n",
    "from utils.visualization_utils.visualization_histogram import HistogramDataVisualization\n",
    "from utils.visualization_utils.visualization_spectral import SpectralBandPlotter\n",
    "from utils.visualization_utils.visualization_time_series import (\n",
    "    plot_date_diff_distribution,\n",
    ")\n",
    "from utils.visualization_utils.visualization_function import (\n",
    "    plot_intervals_timestamps,\n",
    "    plot_top_correlations,\n",
    "    plot_autocorrelation_bands,\n",
    "    plot_band_differences,\n",
    ")\n",
    "from utils.visualization_utils.visualization_anomaly_detection import (\n",
    "    plot_with_outliers_subplot,\n",
    "    plot_outlier_detection_grid,\n",
    ")"
   ]
  },
  {
   "cell_type": "markdown",
   "id": "fe13bd81",
   "metadata": {},
   "source": [
    "## Load Dataset"
   ]
  },
  {
   "cell_type": "code",
   "execution_count": 2,
   "id": "0cfa76d0",
   "metadata": {},
   "outputs": [],
   "source": [
    "dataloader = DataLoader()\n",
    "df_base = dataloader.load_transform(\"../data/raw/raw_trainset.csv\")"
   ]
  },
  {
   "cell_type": "markdown",
   "id": "df39c560",
   "metadata": {},
   "source": [
    "## Basic Dataset Analysis"
   ]
  },
  {
   "cell_type": "code",
   "execution_count": 3,
   "id": "60c42e91",
   "metadata": {},
   "outputs": [
    {
     "name": "stdout",
     "output_type": "stream",
     "text": [
      "time                datetime64[ns]\n",
      "id                           int64\n",
      "disturbance_year           float64\n",
      "doy                        float64\n",
      "b2                         float64\n",
      "b3                         float64\n",
      "b4                         float64\n",
      "b5                         float64\n",
      "b6                         float64\n",
      "b7                         float64\n",
      "b8                         float64\n",
      "b8a                        float64\n",
      "b11                        float64\n",
      "b12                        float64\n",
      "species                     object\n",
      "dtype: object\n"
     ]
    }
   ],
   "source": [
    "basicanalysis = BasicDataAnalysis(df_base)\n",
    "print(basicanalysis.get_dtypes())"
   ]
  },
  {
   "cell_type": "code",
   "execution_count": 4,
   "id": "50de5ed4",
   "metadata": {},
   "outputs": [
    {
     "name": "stdout",
     "output_type": "stream",
     "text": [
      "Number of rows: 3927272\n",
      "Number of columns: 15\n",
      "Unique IDs: 28212\n",
      "Unique species: 7\n",
      "Earliest time: 2017-01-01 00:00:00\n",
      "Latest time: 2022-11-02 00:00:00\n",
      "Is id + species unique? True\n"
     ]
    }
   ],
   "source": [
    "basicanalysis.show_overview()"
   ]
  },
  {
   "cell_type": "code",
   "execution_count": 5,
   "id": "3666fd8a",
   "metadata": {},
   "outputs": [
    {
     "data": {
      "application/vnd.microsoft.datawrangler.viewer.v0+json": {
       "columns": [
        {
         "name": "index",
         "rawType": "object",
         "type": "string"
        },
        {
         "name": "time",
         "rawType": "object",
         "type": "unknown"
        },
        {
         "name": "id",
         "rawType": "float64",
         "type": "float"
        },
        {
         "name": "disturbance_year",
         "rawType": "float64",
         "type": "float"
        },
        {
         "name": "doy",
         "rawType": "float64",
         "type": "float"
        },
        {
         "name": "b2",
         "rawType": "float64",
         "type": "float"
        },
        {
         "name": "b3",
         "rawType": "float64",
         "type": "float"
        },
        {
         "name": "b4",
         "rawType": "float64",
         "type": "float"
        },
        {
         "name": "b5",
         "rawType": "float64",
         "type": "float"
        },
        {
         "name": "b6",
         "rawType": "float64",
         "type": "float"
        },
        {
         "name": "b7",
         "rawType": "float64",
         "type": "float"
        },
        {
         "name": "b8",
         "rawType": "float64",
         "type": "float"
        },
        {
         "name": "b8a",
         "rawType": "float64",
         "type": "float"
        },
        {
         "name": "b11",
         "rawType": "float64",
         "type": "float"
        },
        {
         "name": "b12",
         "rawType": "float64",
         "type": "float"
        }
       ],
       "ref": "76bd3bf7-c3e7-43fa-9b68-fca686023b7b",
       "rows": [
        [
         "count",
         "3927272",
         "3927272.0",
         "3927272.0",
         "3927272.0",
         "3927272.0",
         "3927272.0",
         "3927272.0",
         "3927272.0",
         "3927272.0",
         "3927272.0",
         "3927272.0",
         "3927272.0",
         "3927272.0",
         "3927272.0"
        ],
        [
         "mean",
         "2020-02-03 09:45:20.828504064",
         "14087.714192447072",
         "252.28134669561976",
         "176.66846885064237",
         "272.11597443891475",
         "430.34196735885166",
         "345.67889063112193",
         "675.5291880725347",
         "1682.3208994691463",
         "2039.3585514745769",
         "2166.00005470294",
         "2289.724096947364",
         "1156.0464053249518",
         "599.9256117223356"
        ],
        [
         "min",
         "2017-01-01 00:00:00",
         "1.0",
         "0.0",
         "1.0",
         "0.0",
         "1.0",
         "0.0",
         "0.0",
         "0.0",
         "0.0",
         "1.0",
         "0.0",
         "0.0",
         "1.0"
        ],
        [
         "25%",
         "2018-09-21 00:00:00",
         "7040.0",
         "0.0",
         "106.0",
         "156.0",
         "281.0",
         "175.0",
         "460.0",
         "1268.0",
         "1528.0",
         "1629.0",
         "1740.0",
         "728.0",
         "335.0"
        ],
        [
         "50%",
         "2020-03-11 00:00:00",
         "14064.0",
         "0.0",
         "176.0",
         "223.0",
         "370.0",
         "257.0",
         "588.0",
         "1547.0",
         "1856.0",
         "1971.0",
         "2091.0",
         "1008.0",
         "480.0"
        ],
        [
         "75%",
         "2021-06-15 00:00:00",
         "21135.0",
         "0.0",
         "245.0",
         "321.0",
         "502.0",
         "398.0",
         "782.0",
         "1923.0",
         "2326.0",
         "2462.0",
         "2608.0",
         "1438.0",
         "707.0"
        ],
        [
         "max",
         "2022-11-02 00:00:00",
         "28212.0",
         "2020.0",
         "366.0",
         "20087.0",
         "17534.0",
         "17524.0",
         "17940.0",
         "19827.0",
         "21439.0",
         "21811.0",
         "24694.0",
         "18554.0",
         "17587.0"
        ],
        [
         "std",
         null,
         "8145.142535819479",
         "667.4802046397294",
         "85.40809972306768",
         "220.15655640662646",
         "259.88066062866415",
         "307.9291126024111",
         "347.6790486694419",
         "645.4288980751908",
         "802.0606090714184",
         "852.8701318663628",
         "859.3424761150485",
         "608.010289591034",
         "418.43143463099307"
        ]
       ],
       "shape": {
        "columns": 14,
        "rows": 8
       }
      },
      "text/html": [
       "<div>\n",
       "<style scoped>\n",
       "    .dataframe tbody tr th:only-of-type {\n",
       "        vertical-align: middle;\n",
       "    }\n",
       "\n",
       "    .dataframe tbody tr th {\n",
       "        vertical-align: top;\n",
       "    }\n",
       "\n",
       "    .dataframe thead th {\n",
       "        text-align: right;\n",
       "    }\n",
       "</style>\n",
       "<table border=\"1\" class=\"dataframe\">\n",
       "  <thead>\n",
       "    <tr style=\"text-align: right;\">\n",
       "      <th></th>\n",
       "      <th>time</th>\n",
       "      <th>id</th>\n",
       "      <th>disturbance_year</th>\n",
       "      <th>doy</th>\n",
       "      <th>b2</th>\n",
       "      <th>b3</th>\n",
       "      <th>b4</th>\n",
       "      <th>b5</th>\n",
       "      <th>b6</th>\n",
       "      <th>b7</th>\n",
       "      <th>b8</th>\n",
       "      <th>b8a</th>\n",
       "      <th>b11</th>\n",
       "      <th>b12</th>\n",
       "    </tr>\n",
       "  </thead>\n",
       "  <tbody>\n",
       "    <tr>\n",
       "      <th>count</th>\n",
       "      <td>3927272</td>\n",
       "      <td>3.927272e+06</td>\n",
       "      <td>3.927272e+06</td>\n",
       "      <td>3.927272e+06</td>\n",
       "      <td>3.927272e+06</td>\n",
       "      <td>3.927272e+06</td>\n",
       "      <td>3.927272e+06</td>\n",
       "      <td>3.927272e+06</td>\n",
       "      <td>3.927272e+06</td>\n",
       "      <td>3.927272e+06</td>\n",
       "      <td>3.927272e+06</td>\n",
       "      <td>3.927272e+06</td>\n",
       "      <td>3.927272e+06</td>\n",
       "      <td>3.927272e+06</td>\n",
       "    </tr>\n",
       "    <tr>\n",
       "      <th>mean</th>\n",
       "      <td>2020-02-03 09:45:20.828504064</td>\n",
       "      <td>1.408771e+04</td>\n",
       "      <td>2.522813e+02</td>\n",
       "      <td>1.766685e+02</td>\n",
       "      <td>2.721160e+02</td>\n",
       "      <td>4.303420e+02</td>\n",
       "      <td>3.456789e+02</td>\n",
       "      <td>6.755292e+02</td>\n",
       "      <td>1.682321e+03</td>\n",
       "      <td>2.039359e+03</td>\n",
       "      <td>2.166000e+03</td>\n",
       "      <td>2.289724e+03</td>\n",
       "      <td>1.156046e+03</td>\n",
       "      <td>5.999256e+02</td>\n",
       "    </tr>\n",
       "    <tr>\n",
       "      <th>min</th>\n",
       "      <td>2017-01-01 00:00:00</td>\n",
       "      <td>1.000000e+00</td>\n",
       "      <td>0.000000e+00</td>\n",
       "      <td>1.000000e+00</td>\n",
       "      <td>0.000000e+00</td>\n",
       "      <td>1.000000e+00</td>\n",
       "      <td>0.000000e+00</td>\n",
       "      <td>0.000000e+00</td>\n",
       "      <td>0.000000e+00</td>\n",
       "      <td>0.000000e+00</td>\n",
       "      <td>1.000000e+00</td>\n",
       "      <td>0.000000e+00</td>\n",
       "      <td>0.000000e+00</td>\n",
       "      <td>1.000000e+00</td>\n",
       "    </tr>\n",
       "    <tr>\n",
       "      <th>25%</th>\n",
       "      <td>2018-09-21 00:00:00</td>\n",
       "      <td>7.040000e+03</td>\n",
       "      <td>0.000000e+00</td>\n",
       "      <td>1.060000e+02</td>\n",
       "      <td>1.560000e+02</td>\n",
       "      <td>2.810000e+02</td>\n",
       "      <td>1.750000e+02</td>\n",
       "      <td>4.600000e+02</td>\n",
       "      <td>1.268000e+03</td>\n",
       "      <td>1.528000e+03</td>\n",
       "      <td>1.629000e+03</td>\n",
       "      <td>1.740000e+03</td>\n",
       "      <td>7.280000e+02</td>\n",
       "      <td>3.350000e+02</td>\n",
       "    </tr>\n",
       "    <tr>\n",
       "      <th>50%</th>\n",
       "      <td>2020-03-11 00:00:00</td>\n",
       "      <td>1.406400e+04</td>\n",
       "      <td>0.000000e+00</td>\n",
       "      <td>1.760000e+02</td>\n",
       "      <td>2.230000e+02</td>\n",
       "      <td>3.700000e+02</td>\n",
       "      <td>2.570000e+02</td>\n",
       "      <td>5.880000e+02</td>\n",
       "      <td>1.547000e+03</td>\n",
       "      <td>1.856000e+03</td>\n",
       "      <td>1.971000e+03</td>\n",
       "      <td>2.091000e+03</td>\n",
       "      <td>1.008000e+03</td>\n",
       "      <td>4.800000e+02</td>\n",
       "    </tr>\n",
       "    <tr>\n",
       "      <th>75%</th>\n",
       "      <td>2021-06-15 00:00:00</td>\n",
       "      <td>2.113500e+04</td>\n",
       "      <td>0.000000e+00</td>\n",
       "      <td>2.450000e+02</td>\n",
       "      <td>3.210000e+02</td>\n",
       "      <td>5.020000e+02</td>\n",
       "      <td>3.980000e+02</td>\n",
       "      <td>7.820000e+02</td>\n",
       "      <td>1.923000e+03</td>\n",
       "      <td>2.326000e+03</td>\n",
       "      <td>2.462000e+03</td>\n",
       "      <td>2.608000e+03</td>\n",
       "      <td>1.438000e+03</td>\n",
       "      <td>7.070000e+02</td>\n",
       "    </tr>\n",
       "    <tr>\n",
       "      <th>max</th>\n",
       "      <td>2022-11-02 00:00:00</td>\n",
       "      <td>2.821200e+04</td>\n",
       "      <td>2.020000e+03</td>\n",
       "      <td>3.660000e+02</td>\n",
       "      <td>2.008700e+04</td>\n",
       "      <td>1.753400e+04</td>\n",
       "      <td>1.752400e+04</td>\n",
       "      <td>1.794000e+04</td>\n",
       "      <td>1.982700e+04</td>\n",
       "      <td>2.143900e+04</td>\n",
       "      <td>2.181100e+04</td>\n",
       "      <td>2.469400e+04</td>\n",
       "      <td>1.855400e+04</td>\n",
       "      <td>1.758700e+04</td>\n",
       "    </tr>\n",
       "    <tr>\n",
       "      <th>std</th>\n",
       "      <td>NaN</td>\n",
       "      <td>8.145143e+03</td>\n",
       "      <td>6.674802e+02</td>\n",
       "      <td>8.540810e+01</td>\n",
       "      <td>2.201566e+02</td>\n",
       "      <td>2.598807e+02</td>\n",
       "      <td>3.079291e+02</td>\n",
       "      <td>3.476790e+02</td>\n",
       "      <td>6.454289e+02</td>\n",
       "      <td>8.020606e+02</td>\n",
       "      <td>8.528701e+02</td>\n",
       "      <td>8.593425e+02</td>\n",
       "      <td>6.080103e+02</td>\n",
       "      <td>4.184314e+02</td>\n",
       "    </tr>\n",
       "  </tbody>\n",
       "</table>\n",
       "</div>"
      ],
      "text/plain": [
       "                                time            id  disturbance_year  \\\n",
       "count                        3927272  3.927272e+06      3.927272e+06   \n",
       "mean   2020-02-03 09:45:20.828504064  1.408771e+04      2.522813e+02   \n",
       "min              2017-01-01 00:00:00  1.000000e+00      0.000000e+00   \n",
       "25%              2018-09-21 00:00:00  7.040000e+03      0.000000e+00   \n",
       "50%              2020-03-11 00:00:00  1.406400e+04      0.000000e+00   \n",
       "75%              2021-06-15 00:00:00  2.113500e+04      0.000000e+00   \n",
       "max              2022-11-02 00:00:00  2.821200e+04      2.020000e+03   \n",
       "std                              NaN  8.145143e+03      6.674802e+02   \n",
       "\n",
       "                doy            b2            b3            b4            b5  \\\n",
       "count  3.927272e+06  3.927272e+06  3.927272e+06  3.927272e+06  3.927272e+06   \n",
       "mean   1.766685e+02  2.721160e+02  4.303420e+02  3.456789e+02  6.755292e+02   \n",
       "min    1.000000e+00  0.000000e+00  1.000000e+00  0.000000e+00  0.000000e+00   \n",
       "25%    1.060000e+02  1.560000e+02  2.810000e+02  1.750000e+02  4.600000e+02   \n",
       "50%    1.760000e+02  2.230000e+02  3.700000e+02  2.570000e+02  5.880000e+02   \n",
       "75%    2.450000e+02  3.210000e+02  5.020000e+02  3.980000e+02  7.820000e+02   \n",
       "max    3.660000e+02  2.008700e+04  1.753400e+04  1.752400e+04  1.794000e+04   \n",
       "std    8.540810e+01  2.201566e+02  2.598807e+02  3.079291e+02  3.476790e+02   \n",
       "\n",
       "                 b6            b7            b8           b8a           b11  \\\n",
       "count  3.927272e+06  3.927272e+06  3.927272e+06  3.927272e+06  3.927272e+06   \n",
       "mean   1.682321e+03  2.039359e+03  2.166000e+03  2.289724e+03  1.156046e+03   \n",
       "min    0.000000e+00  0.000000e+00  1.000000e+00  0.000000e+00  0.000000e+00   \n",
       "25%    1.268000e+03  1.528000e+03  1.629000e+03  1.740000e+03  7.280000e+02   \n",
       "50%    1.547000e+03  1.856000e+03  1.971000e+03  2.091000e+03  1.008000e+03   \n",
       "75%    1.923000e+03  2.326000e+03  2.462000e+03  2.608000e+03  1.438000e+03   \n",
       "max    1.982700e+04  2.143900e+04  2.181100e+04  2.469400e+04  1.855400e+04   \n",
       "std    6.454289e+02  8.020606e+02  8.528701e+02  8.593425e+02  6.080103e+02   \n",
       "\n",
       "                b12  \n",
       "count  3.927272e+06  \n",
       "mean   5.999256e+02  \n",
       "min    1.000000e+00  \n",
       "25%    3.350000e+02  \n",
       "50%    4.800000e+02  \n",
       "75%    7.070000e+02  \n",
       "max    1.758700e+04  \n",
       "std    4.184314e+02  "
      ]
     },
     "execution_count": 5,
     "metadata": {},
     "output_type": "execute_result"
    }
   ],
   "source": [
    "basicanalysis.get_description()"
   ]
  },
  {
   "cell_type": "code",
   "execution_count": 6,
   "id": "b6c97295",
   "metadata": {},
   "outputs": [
    {
     "data": {
      "application/vnd.microsoft.datawrangler.viewer.v0+json": {
       "columns": [
        {
         "name": "index",
         "rawType": "int64",
         "type": "integer"
        },
        {
         "name": "column_name",
         "rawType": "object",
         "type": "string"
        },
        {
         "name": "missing_count",
         "rawType": "int64",
         "type": "integer"
        }
       ],
       "ref": "79a3fce1-89f7-449c-881c-d3b0391f833f",
       "rows": [
        [
         "0",
         "time",
         "0"
        ],
        [
         "1",
         "id",
         "0"
        ],
        [
         "2",
         "disturbance_year",
         "0"
        ],
        [
         "3",
         "doy",
         "0"
        ],
        [
         "4",
         "b2",
         "0"
        ],
        [
         "5",
         "b3",
         "0"
        ],
        [
         "6",
         "b4",
         "0"
        ],
        [
         "7",
         "b5",
         "0"
        ],
        [
         "8",
         "b6",
         "0"
        ],
        [
         "9",
         "b7",
         "0"
        ],
        [
         "10",
         "b8",
         "0"
        ],
        [
         "11",
         "b8a",
         "0"
        ],
        [
         "12",
         "b11",
         "0"
        ],
        [
         "13",
         "b12",
         "0"
        ],
        [
         "14",
         "species",
         "0"
        ]
       ],
       "shape": {
        "columns": 2,
        "rows": 15
       }
      },
      "text/html": [
       "<div>\n",
       "<style scoped>\n",
       "    .dataframe tbody tr th:only-of-type {\n",
       "        vertical-align: middle;\n",
       "    }\n",
       "\n",
       "    .dataframe tbody tr th {\n",
       "        vertical-align: top;\n",
       "    }\n",
       "\n",
       "    .dataframe thead th {\n",
       "        text-align: right;\n",
       "    }\n",
       "</style>\n",
       "<table border=\"1\" class=\"dataframe\">\n",
       "  <thead>\n",
       "    <tr style=\"text-align: right;\">\n",
       "      <th></th>\n",
       "      <th>column_name</th>\n",
       "      <th>missing_count</th>\n",
       "    </tr>\n",
       "  </thead>\n",
       "  <tbody>\n",
       "    <tr>\n",
       "      <th>0</th>\n",
       "      <td>time</td>\n",
       "      <td>0</td>\n",
       "    </tr>\n",
       "    <tr>\n",
       "      <th>1</th>\n",
       "      <td>id</td>\n",
       "      <td>0</td>\n",
       "    </tr>\n",
       "    <tr>\n",
       "      <th>2</th>\n",
       "      <td>disturbance_year</td>\n",
       "      <td>0</td>\n",
       "    </tr>\n",
       "    <tr>\n",
       "      <th>3</th>\n",
       "      <td>doy</td>\n",
       "      <td>0</td>\n",
       "    </tr>\n",
       "    <tr>\n",
       "      <th>4</th>\n",
       "      <td>b2</td>\n",
       "      <td>0</td>\n",
       "    </tr>\n",
       "    <tr>\n",
       "      <th>5</th>\n",
       "      <td>b3</td>\n",
       "      <td>0</td>\n",
       "    </tr>\n",
       "    <tr>\n",
       "      <th>6</th>\n",
       "      <td>b4</td>\n",
       "      <td>0</td>\n",
       "    </tr>\n",
       "    <tr>\n",
       "      <th>7</th>\n",
       "      <td>b5</td>\n",
       "      <td>0</td>\n",
       "    </tr>\n",
       "    <tr>\n",
       "      <th>8</th>\n",
       "      <td>b6</td>\n",
       "      <td>0</td>\n",
       "    </tr>\n",
       "    <tr>\n",
       "      <th>9</th>\n",
       "      <td>b7</td>\n",
       "      <td>0</td>\n",
       "    </tr>\n",
       "    <tr>\n",
       "      <th>10</th>\n",
       "      <td>b8</td>\n",
       "      <td>0</td>\n",
       "    </tr>\n",
       "    <tr>\n",
       "      <th>11</th>\n",
       "      <td>b8a</td>\n",
       "      <td>0</td>\n",
       "    </tr>\n",
       "    <tr>\n",
       "      <th>12</th>\n",
       "      <td>b11</td>\n",
       "      <td>0</td>\n",
       "    </tr>\n",
       "    <tr>\n",
       "      <th>13</th>\n",
       "      <td>b12</td>\n",
       "      <td>0</td>\n",
       "    </tr>\n",
       "    <tr>\n",
       "      <th>14</th>\n",
       "      <td>species</td>\n",
       "      <td>0</td>\n",
       "    </tr>\n",
       "  </tbody>\n",
       "</table>\n",
       "</div>"
      ],
      "text/plain": [
       "         column_name  missing_count\n",
       "0               time              0\n",
       "1                 id              0\n",
       "2   disturbance_year              0\n",
       "3                doy              0\n",
       "4                 b2              0\n",
       "5                 b3              0\n",
       "6                 b4              0\n",
       "7                 b5              0\n",
       "8                 b6              0\n",
       "9                 b7              0\n",
       "10                b8              0\n",
       "11               b8a              0\n",
       "12               b11              0\n",
       "13               b12              0\n",
       "14           species              0"
      ]
     },
     "execution_count": 6,
     "metadata": {},
     "output_type": "execute_result"
    }
   ],
   "source": [
    "basicanalysis.get_missing_counts()"
   ]
  },
  {
   "cell_type": "markdown",
   "id": "f3334ff8",
   "metadata": {},
   "source": [
    "## Feature Engineering"
   ]
  },
  {
   "cell_type": "markdown",
   "id": "9e45041a",
   "metadata": {},
   "source": [
    "### Basic Feature Engineering"
   ]
  },
  {
   "cell_type": "code",
   "execution_count": 7,
   "id": "1bbf903c",
   "metadata": {},
   "outputs": [],
   "source": [
    "df = dataloader.feature_extraction(df_base)"
   ]
  },
  {
   "cell_type": "markdown",
   "id": "d5721f83",
   "metadata": {},
   "source": [
    "### Datetime Feature Engineering"
   ]
  },
  {
   "cell_type": "code",
   "execution_count": 8,
   "id": "7a455f2c",
   "metadata": {},
   "outputs": [],
   "source": [
    "df = dataloader.date_feature_extraction(df)"
   ]
  },
  {
   "cell_type": "markdown",
   "id": "4f12c950",
   "metadata": {},
   "source": [
    "### Advanced Feature Engineering"
   ]
  },
  {
   "cell_type": "code",
   "execution_count": null,
   "id": "98577f05",
   "metadata": {},
   "outputs": [],
   "source": [
    "calcindices = CalculateIndices()\n",
    "df = calcindices.add_all_indices(df)"
   ]
  },
  {
   "cell_type": "markdown",
   "id": "19092883",
   "metadata": {},
   "source": [
    "## Exploratory Data Analysis"
   ]
  },
  {
   "cell_type": "markdown",
   "id": "622cd01e",
   "metadata": {},
   "source": [
    "### Visualization of the base dataframe "
   ]
  },
  {
   "cell_type": "code",
   "execution_count": null,
   "id": "2df97968",
   "metadata": {},
   "outputs": [],
   "source": [
    "hist = HistogramDataVisualization(df)\n",
    "hist.plot_unique_ids(\"year\")"
   ]
  },
  {
   "cell_type": "markdown",
   "id": "cd2be4e7",
   "metadata": {},
   "source": [
    "<div class=\"alert-info\">\n",
    "The distribution over the years clearly shows that the frequencies fluctuate only within a very narrow range.\n",
    "</div>"
   ]
  },
  {
   "cell_type": "code",
   "execution_count": null,
   "id": "d49ce157",
   "metadata": {},
   "outputs": [],
   "source": [
    "hist.plot_unique_ids(\"month_num\")"
   ]
  },
  {
   "cell_type": "markdown",
   "id": "ade5575a",
   "metadata": {},
   "source": [
    "<div class=\"alert-info\">\n",
    "The distribution of the occurring IDs shows that in the winter months of January and December, there is a noticeably lower frequency compared to the other months. It is assumed that this is due to the preprocessing step, during which many cloudy images were removed. Therefore, for the subsequent analysis, the aggregation of the data should be performed using an appropriate resampling interval that ensures the results remain meaningful and representative.\n",
    "</div>"
   ]
  },
  {
   "cell_type": "code",
   "execution_count": null,
   "id": "f2f568d3",
   "metadata": {},
   "outputs": [],
   "source": [
    "hist.plot_unique_ids(\"species\")"
   ]
  },
  {
   "cell_type": "markdown",
   "id": "14f790f9",
   "metadata": {},
   "source": [
    "<div class=\"alert-info\">\n",
    "The seven categories show a clear difference in their frequency of occurrence. In general, they represent five tree species (including a mixed category), one disturbed class, and one soil class.\n",
    "</div>"
   ]
  },
  {
   "cell_type": "code",
   "execution_count": null,
   "id": "517695fd",
   "metadata": {},
   "outputs": [],
   "source": [
    "hist.plot_id_distribution()"
   ]
  },
  {
   "cell_type": "code",
   "execution_count": null,
   "id": "3ceb4d10",
   "metadata": {},
   "outputs": [],
   "source": [
    "hist.plot_median_id_distribution()"
   ]
  },
  {
   "cell_type": "code",
   "execution_count": null,
   "id": "8158343b",
   "metadata": {},
   "outputs": [],
   "source": [
    "plot_date_diff_distribution(df)"
   ]
  },
  {
   "cell_type": "markdown",
   "id": "4e48a4c3",
   "metadata": {},
   "source": [
    "<div class=\"alert-info\">\n",
    "The difference in the various time gaps has a median of 8 days but shows high variance. It becomes evident that time series contain only rarely occurring observations.\n",
    "</div>"
   ]
  },
  {
   "cell_type": "markdown",
   "id": "3c7259da",
   "metadata": {},
   "source": [
    "### Correlation Analysis"
   ]
  },
  {
   "cell_type": "code",
   "execution_count": null,
   "id": "a8fb19f6",
   "metadata": {},
   "outputs": [],
   "source": [
    "correlation = CorrelationAnalysis(df)\n",
    "corr_matrix = correlation.get_correlation_matrix()\n",
    "corr_matrix"
   ]
  },
  {
   "cell_type": "code",
   "execution_count": null,
   "id": "8f8d9c8d",
   "metadata": {},
   "outputs": [],
   "source": [
    "correlation.plot_correlation_matrix()"
   ]
  },
  {
   "cell_type": "code",
   "execution_count": null,
   "id": "e2d59338",
   "metadata": {},
   "outputs": [],
   "source": [
    "top_corr_df = correlation.get_top_correlations(top_n=10)\n",
    "plot_top_correlations(top_corr_df)"
   ]
  },
  {
   "cell_type": "markdown",
   "id": "11afe105",
   "metadata": {},
   "source": [
    "<div class=\"alert-info\">\n",
    "In the Pearson correlation, we observe strong correlations forming between the indices; however, these are not very meaningful. Therefore, it is necessary to use other methods to capture the true relationships.\n",
    "</div>\n"
   ]
  },
  {
   "cell_type": "markdown",
   "id": "607896f7",
   "metadata": {},
   "source": [
    "### Analysis of Distrubed"
   ]
  },
  {
   "cell_type": "code",
   "execution_count": null,
   "id": "fa81f2c7",
   "metadata": {},
   "outputs": [],
   "source": [
    "analysis = DisturbedYearAnalysis(df)\n",
    "analysis.summary_unique_years()"
   ]
  },
  {
   "cell_type": "code",
   "execution_count": null,
   "id": "ef75bde8",
   "metadata": {},
   "outputs": [],
   "source": [
    "analysis.plot_disturbed_counts()"
   ]
  },
  {
   "cell_type": "code",
   "execution_count": null,
   "id": "b42c3a82",
   "metadata": {},
   "outputs": [],
   "source": [
    "analysis.plot_disturbance_by_species()"
   ]
  },
  {
   "cell_type": "markdown",
   "id": "edf5c04e",
   "metadata": {},
   "source": [
    "<div class=\"alert-info\">\n",
    "\n",
    "- The distribution of disturbance year and the corresponding species can be observed, going back up to 30 years from the marking year.\n",
    "\n",
    "- The affected species are **soil and disturbed**.\n",
    "</div>"
   ]
  },
  {
   "cell_type": "markdown",
   "id": "0666bf58",
   "metadata": {},
   "source": [
    "## Explore Spectral-Bands"
   ]
  },
  {
   "cell_type": "code",
   "execution_count": null,
   "id": "f5492a19",
   "metadata": {},
   "outputs": [],
   "source": [
    "spectral = SpectralBandPlotter(df)\n",
    "spectral.plot_all_years(sample_size=5000, showfliers=False)"
   ]
  },
  {
   "cell_type": "code",
   "execution_count": null,
   "id": "a41c23bd",
   "metadata": {},
   "outputs": [],
   "source": [
    "spectral.plot_species_season_distribution()"
   ]
  },
  {
   "cell_type": "markdown",
   "id": "752ddc2f",
   "metadata": {},
   "source": [
    "## Time Series Analysis"
   ]
  },
  {
   "cell_type": "markdown",
   "id": "afdd47ae",
   "metadata": {},
   "source": [
    "<div class=\"alert-info\">\n",
    "\n",
    "In the time series analysis, **ID10** is used as an example to demonstrate different aggregations and methods, which can later be applied to the entire dataset.\n",
    "</div>"
   ]
  },
  {
   "cell_type": "markdown",
   "id": "d37899e7",
   "metadata": {},
   "source": [
    "### Anomaly Detection"
   ]
  },
  {
   "cell_type": "code",
   "execution_count": null,
   "id": "2b54be92",
   "metadata": {},
   "outputs": [],
   "source": [
    "id_df = df[df[\"id\"] == 10]\n",
    "cleaner = SITSOutlierCleaner()\n",
    "cleaner.fit_transform(id_df, band_columns=spectral_bands)\n",
    "df_with_any_flag = cleaner.add_any_outlier_flag()\n",
    "plot_with_outliers_subplot(df_with_any_flag, spectral_bands)"
   ]
  },
  {
   "cell_type": "code",
   "execution_count": null,
   "id": "ce82424c",
   "metadata": {},
   "outputs": [],
   "source": [
    "plot_outlier_detection_grid(df_with_any_flag, bands=spectral_bands)"
   ]
  },
  {
   "cell_type": "code",
   "execution_count": null,
   "id": "e14339d9",
   "metadata": {},
   "outputs": [],
   "source": [
    "score = cleaner.remaining_outliers_ratio()\n",
    "print(f\"Remaining outlier ratio (IsolationForest): {score:.2%}\")\n",
    "\n",
    "ratio = cleaner.zscore_outlier_ratio()\n",
    "print(f\"Outlier ratio (Z-Score method): {ratio:.2%}\")"
   ]
  },
  {
   "cell_type": "markdown",
   "id": "7d3d88b8",
   "metadata": {},
   "source": [
    "<div class=\"alert-info\">\n",
    "\n",
    "**Interpretation**\n",
    "\n",
    "Remaining outlier ratio (IsolationForest): Shows the percentage of records that the IsolationForest model still considers outliers after cleaning. A lower value means the cleaning was more effective in removing anomalies according to the model.\n",
    "\n",
    "Outlier ratio (Z-Score method): Indicates the share of records that are statistical outliers (e.g., more than 3 standard deviations away from the mean in at least one feature). This gives a complementary, more “classical” perspective on how extreme your data points are.\n",
    "</div>"
   ]
  },
  {
   "cell_type": "markdown",
   "id": "415fc799",
   "metadata": {},
   "source": [
    "### Time series progression"
   ]
  },
  {
   "cell_type": "code",
   "execution_count": null,
   "id": "ad42bd21",
   "metadata": {},
   "outputs": [],
   "source": [
    "cleaned_id_df = cleaner.get_interpolated_only()"
   ]
  },
  {
   "cell_type": "code",
   "execution_count": null,
   "id": "ba2b84d8",
   "metadata": {},
   "outputs": [],
   "source": [
    "cleaned_id_df = cleaner.get_interpolated_only()\n",
    "ts_agg = TimeSeriesAggregate(cleaned_id_df)\n",
    "df_2w = ts_agg.aggregate_timeseries(freq=\"2W\", method=\"mean\")\n",
    "dataloader = DataLoader()\n",
    "df_2w_agg = dataloader.date_feature_extraction(df_2w)"
   ]
  },
  {
   "cell_type": "code",
   "execution_count": null,
   "id": "3b288d02",
   "metadata": {},
   "outputs": [],
   "source": [
    "spectral = SpectralBandPlotter(df_2w_agg)\n",
    "spectral.plot_spectral_development_over_years(addition=\"aggregated\")"
   ]
  },
  {
   "cell_type": "code",
   "execution_count": null,
   "id": "ea403e82",
   "metadata": {},
   "outputs": [],
   "source": [
    "plot_intervals_timestamps(df_2w_agg, addition=\"aggregated\")"
   ]
  },
  {
   "cell_type": "markdown",
   "id": "9172b30a",
   "metadata": {},
   "source": [
    "#### Autocorrelation"
   ]
  },
  {
   "cell_type": "code",
   "execution_count": null,
   "id": "68accc7a",
   "metadata": {},
   "outputs": [],
   "source": [
    "plot_autocorrelation_bands(df_2w_agg, spectral_bands, lags=26)"
   ]
  },
  {
   "cell_type": "markdown",
   "id": "b1959a41",
   "metadata": {},
   "source": [
    "<div class=\"alert-info\">\n",
    "\n",
    "**The ACF and PACF plots indicate that:**\n",
    "- The time series exhibit short-term autocorrelation but no strong long-term or seasonal structure.\n",
    "- The decay patterns and PACF cutoffs suggest that simple autoregressive models (e.g., AR(1)) may sufficiently describe the temporal dependencies in these variables.\n",
    "- The data appear stationary, which is favorable for modeling approaches like ARIMA or LSTM without further differencing.\n",
    "</div>"
   ]
  },
  {
   "cell_type": "markdown",
   "id": "29b92461",
   "metadata": {},
   "source": [
    "### Time Series Cycle Analysis"
   ]
  },
  {
   "cell_type": "code",
   "execution_count": null,
   "id": "5134b8b5",
   "metadata": {},
   "outputs": [],
   "source": [
    "plot_band_differences(df_2w_agg, shift_years=1)"
   ]
  },
  {
   "cell_type": "markdown",
   "id": "cb09aba1",
   "metadata": {},
   "source": [
    "<div class=\"alert-info\">\n",
    "\n",
    "**Seasonal Patterns:**\n",
    "\n",
    "Both the original (blue) and shifted (red) time series show strong seasonal cycles.\n",
    "Peaks and troughs repeat roughly on an annual basis, which is typical for vegetation or water-related indices in satellite data.\n",
    "\n",
    "**Shifted Series Alignment:**\n",
    "\n",
    "The shifted series (+1 year, red) generally aligns well with the previous year’s patterns.\n",
    "There are slight offsets in peak timing in some years, indicating inter-annual variability.\n",
    "\n",
    "**Differences (Green Dotted Line):**\n",
    "\n",
    "The difference (Original − Shifted) fluctuates around zero but shows pronounced deviations during certain years.\n",
    "Positive spikes indicate that the current year’s values are higher than the previous year at the same period.\n",
    "Negative spikes indicate that the current year’s values are lower than the previous year.\n",
    "</div>"
   ]
  },
  {
   "cell_type": "markdown",
   "id": "55e8377f",
   "metadata": {},
   "source": [
    "### PCA-Analysis"
   ]
  },
  {
   "cell_type": "code",
   "execution_count": null,
   "id": "db42b690",
   "metadata": {},
   "outputs": [],
   "source": [
    "dr = SITS_DimensionalityReduction(method=\"PCA\", n_components=3)\n",
    "dr.fit(df, label_col=\"species\")\n",
    "dr.plot_2d()"
   ]
  },
  {
   "cell_type": "markdown",
   "id": "4b11dbcd",
   "metadata": {},
   "source": [
    "<div class=\"alert-info\">\n",
    "\n",
    "- Clear separation of soil: **Soil points** are spread along PC1 (and partially PC2), indicating soil samples are clearly distinct from vegetation classes.\n",
    "- Vegetation classes overlap: Tree species **(Norway spruce, Scots pine, oak, beech)** cluster near the center, showing similar feature patterns and no clear separation.\n",
    "- Disturbed & mixed classes: These overlap strongly with other vegetation, suggesting no distinct patterns.\n",
    "</div>"
   ]
  },
  {
   "cell_type": "code",
   "execution_count": null,
   "id": "80b0023a",
   "metadata": {},
   "outputs": [],
   "source": [
    "df_sample = dataloader.get_sample(df, n_ids = 6000)\n",
    "dr_tsne = SITS_DimensionalityReduction(method=\"tSNE\", n_components=2, perplexity=50)\n",
    "dr_tsne.fit(df_sample, label_col=\"species\")\n",
    "dr_tsne.plot_2d()"
   ]
  },
  {
   "cell_type": "markdown",
   "id": "e9fef3b1",
   "metadata": {},
   "source": [
    "<div class=\"alert-info\">\n",
    "\n",
    "- Clear clusters: **soil** and **beech** form compact, well-separated clusters.\n",
    "- Overlap: **Norway_spruce**, **Norway_spruce_mixed** and **Scots_pine** strongly overlap and are hard to separate.\n",
    "- **Disturbed** partially mixes with conifer clusters.\n",
    "- Summary: Some classes **(soil, beech)** are clearly separable, while conifer species show strong overlap.\n",
    "</div>"
   ]
  }
 ],
 "metadata": {
  "kernelspec": {
   "display_name": ".venv (3.12.3)",
   "language": "python",
   "name": "python3"
  },
  "language_info": {
   "codemirror_mode": {
    "name": "ipython",
    "version": 3
   },
   "file_extension": ".py",
   "mimetype": "text/x-python",
   "name": "python",
   "nbconvert_exporter": "python",
   "pygments_lexer": "ipython3",
   "version": "3.12.3"
  }
 },
 "nbformat": 4,
 "nbformat_minor": 5
}
