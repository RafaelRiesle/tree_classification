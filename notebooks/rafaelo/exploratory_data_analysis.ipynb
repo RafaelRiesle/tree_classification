{
 "cells": [
  {
   "cell_type": "code",
   "execution_count": 1,
   "id": "1154db1e",
   "metadata": {},
   "outputs": [],
   "source": [
    "import os\n",
    "import sys\n",
    "import pandas as pd\n",
    "import plotly.express as px\n",
    "import matplotlib.pyplot as plt\n",
    "\n",
    "module_path = os.path.abspath(os.path.join(\"..\"))\n",
    "if module_path not in sys.path:\n",
    "    sys.path.append(module_path)"
   ]
  },
  {
   "cell_type": "code",
   "execution_count": 2,
   "id": "2f133bb4",
   "metadata": {},
   "outputs": [],
   "source": [
    "from utils.data_loader import DataLoader\n",
    "from utils.calculate_indices import CalculateIndices\n",
    "from utils.basic_analysis import BasicDataAnalysis\n",
    "from utils.visualization_histogram import HistogramDataVisualization\n",
    "from utils.time_series_aggregate import TimeSeriesAggregate\n",
    "from utils.visualization_spectral import SpectralBandPlotter\n",
    "from utils.correlation_analysis import CorrelationAnalysis\n",
    "from utils.visualization_time_series import plot_date_diff_distribution\n",
    "from utils.sits_outlier_cleaner import SITSOutlierCleaner\n",
    "\n",
    "from utils.visualization_anomaly_detection import (\n",
    "    plot_with_outliers_subplot,\n",
    "    plot_outlier_detection_grid,\n",
    ")\n",
    "from utils.constants import spectral_bands"
   ]
  },
  {
   "cell_type": "markdown",
   "id": "2241968a",
   "metadata": {},
   "source": [
    "# Tree Classification"
   ]
  },
  {
   "cell_type": "code",
   "execution_count": 3,
   "id": "abb8927e",
   "metadata": {},
   "outputs": [],
   "source": [
    "def get_sample(df, id_col=\"id\", time_col=\"time\", n_ids=40):\n",
    "    df_sorted = df.sort_values(by=[id_col, time_col])\n",
    "    unique_ids = df_sorted[id_col].drop_duplicates().head(n_ids)\n",
    "    return df_sorted[df_sorted[id_col].isin(unique_ids)]"
   ]
  },
  {
   "cell_type": "code",
   "execution_count": 4,
   "id": "92656350",
   "metadata": {},
   "outputs": [],
   "source": [
    "dataloader = DataLoader()\n",
    "df_base = dataloader.load_transform(\"../../data/raw/raw_trainset.csv\")"
   ]
  },
  {
   "cell_type": "code",
   "execution_count": 5,
   "id": "f29ade1a",
   "metadata": {},
   "outputs": [],
   "source": [
    "df = dataloader.feature_extraction(df_base)"
   ]
  },
  {
   "cell_type": "code",
   "execution_count": 6,
   "id": "7839e0ba",
   "metadata": {},
   "outputs": [],
   "source": [
    "df = get_sample(df= df,n_ids=60)\n",
    "df['species'] = df['species'].astype(str)\n"
   ]
  },
  {
   "cell_type": "code",
   "execution_count": null,
   "id": "a70e7dd6",
   "metadata": {},
   "outputs": [
    {
     "name": "stderr",
     "output_type": "stream",
     "text": [
      "/Users/rafaelriesle/Documents/Rafael Riesle/Studium/Semster 7/AWP2/tree_classification/venv/lib/python3.11/site-packages/keras/src/layers/core/masking.py:48: UserWarning: Do not pass an `input_shape`/`input_dim` argument to a layer. When using Sequential models, prefer using an `Input(shape)` object as the first layer in the model instead.\n",
      "  super().__init__(**kwargs)\n"
     ]
    },
    {
     "name": "stdout",
     "output_type": "stream",
     "text": [
      "Epoch 1/50\n",
      "\u001b[1m6/6\u001b[0m \u001b[32m━━━━━━━━━━━━━━━━━━━━\u001b[0m\u001b[37m\u001b[0m \u001b[1m3s\u001b[0m 89ms/step - accuracy: 0.2292 - loss: 2.0444 - val_accuracy: 0.3333 - val_loss: 1.8057\n",
      "Epoch 2/50\n",
      "\u001b[1m6/6\u001b[0m \u001b[32m━━━━━━━━━━━━━━━━━━━━\u001b[0m\u001b[37m\u001b[0m \u001b[1m0s\u001b[0m 16ms/step - accuracy: 0.2292 - loss: 1.8767 - val_accuracy: 0.3333 - val_loss: 1.7639\n",
      "Epoch 3/50\n",
      "\u001b[1m6/6\u001b[0m \u001b[32m━━━━━━━━━━━━━━━━━━━━\u001b[0m\u001b[37m\u001b[0m \u001b[1m0s\u001b[0m 16ms/step - accuracy: 0.2292 - loss: 1.8200 - val_accuracy: 0.3333 - val_loss: 1.7205\n",
      "Epoch 4/50\n",
      "\u001b[1m6/6\u001b[0m \u001b[32m━━━━━━━━━━━━━━━━━━━━\u001b[0m\u001b[37m\u001b[0m \u001b[1m0s\u001b[0m 16ms/step - accuracy: 0.2292 - loss: 1.7678 - val_accuracy: 0.3333 - val_loss: 1.6384\n",
      "Epoch 5/50\n",
      "\u001b[1m6/6\u001b[0m \u001b[32m━━━━━━━━━━━━━━━━━━━━\u001b[0m\u001b[37m\u001b[0m \u001b[1m0s\u001b[0m 16ms/step - accuracy: 0.2292 - loss: 1.7261 - val_accuracy: 0.1667 - val_loss: 1.6631\n",
      "Epoch 6/50\n",
      "\u001b[1m6/6\u001b[0m \u001b[32m━━━━━━━━━━━━━━━━━━━━\u001b[0m\u001b[37m\u001b[0m \u001b[1m0s\u001b[0m 16ms/step - accuracy: 0.1250 - loss: 1.7193 - val_accuracy: 0.2500 - val_loss: 1.6464\n",
      "Epoch 7/50\n",
      "\u001b[1m6/6\u001b[0m \u001b[32m━━━━━━━━━━━━━━━━━━━━\u001b[0m\u001b[37m\u001b[0m \u001b[1m0s\u001b[0m 16ms/step - accuracy: 0.1875 - loss: 1.7099 - val_accuracy: 0.2500 - val_loss: 1.5934\n",
      "Epoch 8/50\n",
      "\u001b[1m6/6\u001b[0m \u001b[32m━━━━━━━━━━━━━━━━━━━━\u001b[0m\u001b[37m\u001b[0m \u001b[1m0s\u001b[0m 16ms/step - accuracy: 0.2500 - loss: 1.6893 - val_accuracy: 0.2500 - val_loss: 1.5887\n",
      "Epoch 9/50\n",
      "\u001b[1m6/6\u001b[0m \u001b[32m━━━━━━━━━━━━━━━━━━━━\u001b[0m\u001b[37m\u001b[0m \u001b[1m0s\u001b[0m 16ms/step - accuracy: 0.2708 - loss: 1.6642 - val_accuracy: 0.2500 - val_loss: 1.5854\n",
      "Epoch 10/50\n",
      "\u001b[1m6/6\u001b[0m \u001b[32m━━━━━━━━━━━━━━━━━━━━\u001b[0m\u001b[37m\u001b[0m \u001b[1m0s\u001b[0m 16ms/step - accuracy: 0.2500 - loss: 1.6497 - val_accuracy: 0.4167 - val_loss: 1.5689\n",
      "Epoch 11/50\n",
      "\u001b[1m6/6\u001b[0m \u001b[32m━━━━━━━━━━━━━━━━━━━━\u001b[0m\u001b[37m\u001b[0m \u001b[1m0s\u001b[0m 16ms/step - accuracy: 0.2708 - loss: 1.6360 - val_accuracy: 0.4167 - val_loss: 1.5544\n",
      "Epoch 12/50\n",
      "\u001b[1m6/6\u001b[0m \u001b[32m━━━━━━━━━━━━━━━━━━━━\u001b[0m\u001b[37m\u001b[0m \u001b[1m0s\u001b[0m 16ms/step - accuracy: 0.2500 - loss: 1.6288 - val_accuracy: 0.5833 - val_loss: 1.5428\n",
      "Epoch 13/50\n",
      "\u001b[1m6/6\u001b[0m \u001b[32m━━━━━━━━━━━━━━━━━━━━\u001b[0m\u001b[37m\u001b[0m \u001b[1m0s\u001b[0m 16ms/step - accuracy: 0.2708 - loss: 1.6143 - val_accuracy: 0.3333 - val_loss: 1.5362\n",
      "Epoch 14/50\n",
      "\u001b[1m6/6\u001b[0m \u001b[32m━━━━━━━━━━━━━━━━━━━━\u001b[0m\u001b[37m\u001b[0m \u001b[1m0s\u001b[0m 16ms/step - accuracy: 0.3125 - loss: 1.5984 - val_accuracy: 0.5833 - val_loss: 1.5261\n",
      "Epoch 15/50\n",
      "\u001b[1m6/6\u001b[0m \u001b[32m━━━━━━━━━━━━━━━━━━━━\u001b[0m\u001b[37m\u001b[0m \u001b[1m0s\u001b[0m 16ms/step - accuracy: 0.3750 - loss: 1.5868 - val_accuracy: 0.3333 - val_loss: 1.5170\n",
      "Epoch 16/50\n",
      "\u001b[1m6/6\u001b[0m \u001b[32m━━━━━━━━━━━━━━━━━━━━\u001b[0m\u001b[37m\u001b[0m \u001b[1m0s\u001b[0m 30ms/step - accuracy: 0.3542 - loss: 1.5766 - val_accuracy: 0.3333 - val_loss: 1.5160\n",
      "Epoch 17/50\n",
      "\u001b[1m6/6\u001b[0m \u001b[32m━━━━━━━━━━━━━━━━━━━━\u001b[0m\u001b[37m\u001b[0m \u001b[1m0s\u001b[0m 21ms/step - accuracy: 0.3542 - loss: 1.5669 - val_accuracy: 0.3333 - val_loss: 1.5129\n",
      "Epoch 18/50\n",
      "\u001b[1m6/6\u001b[0m \u001b[32m━━━━━━━━━━━━━━━━━━━━\u001b[0m\u001b[37m\u001b[0m \u001b[1m0s\u001b[0m 16ms/step - accuracy: 0.3333 - loss: 1.5489 - val_accuracy: 0.3333 - val_loss: 1.5111\n",
      "Epoch 19/50\n",
      "\u001b[1m6/6\u001b[0m \u001b[32m━━━━━━━━━━━━━━━━━━━━\u001b[0m\u001b[37m\u001b[0m \u001b[1m0s\u001b[0m 16ms/step - accuracy: 0.2500 - loss: 1.5456 - val_accuracy: 0.2500 - val_loss: 1.5198\n",
      "Epoch 20/50\n",
      "\u001b[1m6/6\u001b[0m \u001b[32m━━━━━━━━━━━━━━━━━━━━\u001b[0m\u001b[37m\u001b[0m \u001b[1m0s\u001b[0m 17ms/step - accuracy: 0.3750 - loss: 1.5318 - val_accuracy: 0.2500 - val_loss: 1.5165\n",
      "Epoch 21/50\n",
      "\u001b[1m6/6\u001b[0m \u001b[32m━━━━━━━━━━━━━━━━━━━━\u001b[0m\u001b[37m\u001b[0m \u001b[1m0s\u001b[0m 17ms/step - accuracy: 0.3958 - loss: 1.5170 - val_accuracy: 0.1667 - val_loss: 1.4934\n",
      "Epoch 22/50\n",
      "\u001b[1m6/6\u001b[0m \u001b[32m━━━━━━━━━━━━━━━━━━━━\u001b[0m\u001b[37m\u001b[0m \u001b[1m0s\u001b[0m 16ms/step - accuracy: 0.4583 - loss: 1.5049 - val_accuracy: 0.3333 - val_loss: 1.4644\n",
      "Epoch 23/50\n",
      "\u001b[1m6/6\u001b[0m \u001b[32m━━━━━━━━━━━━━━━━━━━━\u001b[0m\u001b[37m\u001b[0m \u001b[1m0s\u001b[0m 16ms/step - accuracy: 0.3958 - loss: 1.4993 - val_accuracy: 0.4167 - val_loss: 1.4573\n",
      "Epoch 24/50\n",
      "\u001b[1m6/6\u001b[0m \u001b[32m━━━━━━━━━━━━━━━━━━━━\u001b[0m\u001b[37m\u001b[0m \u001b[1m0s\u001b[0m 17ms/step - accuracy: 0.2917 - loss: 1.4960 - val_accuracy: 0.1667 - val_loss: 1.4661\n",
      "Epoch 25/50\n",
      "\u001b[1m6/6\u001b[0m \u001b[32m━━━━━━━━━━━━━━━━━━━━\u001b[0m\u001b[37m\u001b[0m \u001b[1m0s\u001b[0m 16ms/step - accuracy: 0.3542 - loss: 1.4842 - val_accuracy: 0.1667 - val_loss: 1.4781\n",
      "Epoch 26/50\n",
      "\u001b[1m6/6\u001b[0m \u001b[32m━━━━━━━━━━━━━━━━━━━━\u001b[0m\u001b[37m\u001b[0m \u001b[1m0s\u001b[0m 16ms/step - accuracy: 0.3542 - loss: 1.4820 - val_accuracy: 0.1667 - val_loss: 1.4698\n",
      "Epoch 27/50\n",
      "\u001b[1m6/6\u001b[0m \u001b[32m━━━━━━━━━━━━━━━━━━━━\u001b[0m\u001b[37m\u001b[0m \u001b[1m0s\u001b[0m 18ms/step - accuracy: 0.3750 - loss: 1.4733 - val_accuracy: 0.1667 - val_loss: 1.4568\n",
      "Epoch 28/50\n",
      "\u001b[1m6/6\u001b[0m \u001b[32m━━━━━━━━━━━━━━━━━━━━\u001b[0m\u001b[37m\u001b[0m \u001b[1m0s\u001b[0m 16ms/step - accuracy: 0.4375 - loss: 1.4682 - val_accuracy: 0.3333 - val_loss: 1.4495\n",
      "Epoch 29/50\n",
      "\u001b[1m6/6\u001b[0m \u001b[32m━━━━━━━━━━━━━━━━━━━━\u001b[0m\u001b[37m\u001b[0m \u001b[1m0s\u001b[0m 17ms/step - accuracy: 0.4167 - loss: 1.4705 - val_accuracy: 0.4167 - val_loss: 1.4367\n",
      "Epoch 30/50\n",
      "\u001b[1m6/6\u001b[0m \u001b[32m━━━━━━━━━━━━━━━━━━━━\u001b[0m\u001b[37m\u001b[0m \u001b[1m0s\u001b[0m 17ms/step - accuracy: 0.3542 - loss: 1.4630 - val_accuracy: 0.5833 - val_loss: 1.4125\n",
      "Epoch 31/50\n",
      "\u001b[1m6/6\u001b[0m \u001b[32m━━━━━━━━━━━━━━━━━━━━\u001b[0m\u001b[37m\u001b[0m \u001b[1m0s\u001b[0m 16ms/step - accuracy: 0.4375 - loss: 1.4643 - val_accuracy: 0.5000 - val_loss: 1.4228\n",
      "Epoch 32/50\n",
      "\u001b[1m6/6\u001b[0m \u001b[32m━━━━━━━━━━━━━━━━━━━━\u001b[0m\u001b[37m\u001b[0m \u001b[1m0s\u001b[0m 16ms/step - accuracy: 0.4792 - loss: 1.4697 - val_accuracy: 0.5000 - val_loss: 1.4086\n",
      "Epoch 33/50\n",
      "\u001b[1m6/6\u001b[0m \u001b[32m━━━━━━━━━━━━━━━━━━━━\u001b[0m\u001b[37m\u001b[0m \u001b[1m0s\u001b[0m 16ms/step - accuracy: 0.4583 - loss: 1.4666 - val_accuracy: 0.3333 - val_loss: 1.4167\n",
      "Epoch 34/50\n",
      "\u001b[1m6/6\u001b[0m \u001b[32m━━━━━━━━━━━━━━━━━━━━\u001b[0m\u001b[37m\u001b[0m \u001b[1m0s\u001b[0m 16ms/step - accuracy: 0.3958 - loss: 1.4629 - val_accuracy: 0.3333 - val_loss: 1.4207\n",
      "Epoch 35/50\n",
      "\u001b[1m6/6\u001b[0m \u001b[32m━━━━━━━━━━━━━━━━━━━━\u001b[0m\u001b[37m\u001b[0m \u001b[1m0s\u001b[0m 16ms/step - accuracy: 0.3333 - loss: 1.4567 - val_accuracy: 0.1667 - val_loss: 1.4276\n",
      "Epoch 36/50\n",
      "\u001b[1m6/6\u001b[0m \u001b[32m━━━━━━━━━━━━━━━━━━━━\u001b[0m\u001b[37m\u001b[0m \u001b[1m0s\u001b[0m 19ms/step - accuracy: 0.3542 - loss: 1.4506 - val_accuracy: 0.1667 - val_loss: 1.4276\n",
      "Epoch 37/50\n",
      "\u001b[1m6/6\u001b[0m \u001b[32m━━━━━━━━━━━━━━━━━━━━\u001b[0m\u001b[37m\u001b[0m \u001b[1m0s\u001b[0m 16ms/step - accuracy: 0.3750 - loss: 1.4451 - val_accuracy: 0.1667 - val_loss: 1.4218\n",
      "Epoch 38/50\n",
      "\u001b[1m6/6\u001b[0m \u001b[32m━━━━━━━━━━━━━━━━━━━━\u001b[0m\u001b[37m\u001b[0m \u001b[1m0s\u001b[0m 16ms/step - accuracy: 0.3750 - loss: 1.4412 - val_accuracy: 0.1667 - val_loss: 1.4244\n",
      "Epoch 39/50\n",
      "\u001b[1m6/6\u001b[0m \u001b[32m━━━━━━━━━━━━━━━━━━━━\u001b[0m\u001b[37m\u001b[0m \u001b[1m0s\u001b[0m 16ms/step - accuracy: 0.3750 - loss: 1.4457 - val_accuracy: 0.1667 - val_loss: 1.4276\n",
      "Epoch 40/50\n",
      "\u001b[1m6/6\u001b[0m \u001b[32m━━━━━━━━━━━━━━━━━━━━\u001b[0m\u001b[37m\u001b[0m \u001b[1m0s\u001b[0m 16ms/step - accuracy: 0.3542 - loss: 1.4440 - val_accuracy: 0.1667 - val_loss: 1.4233\n",
      "Epoch 41/50\n",
      "\u001b[1m6/6\u001b[0m \u001b[32m━━━━━━━━━━━━━━━━━━━━\u001b[0m\u001b[37m\u001b[0m \u001b[1m0s\u001b[0m 16ms/step - accuracy: 0.3958 - loss: 1.4459 - val_accuracy: 0.4167 - val_loss: 1.4016\n",
      "Epoch 42/50\n",
      "\u001b[1m6/6\u001b[0m \u001b[32m━━━━━━━━━━━━━━━━━━━━\u001b[0m\u001b[37m\u001b[0m \u001b[1m0s\u001b[0m 16ms/step - accuracy: 0.4167 - loss: 1.4473 - val_accuracy: 0.4167 - val_loss: 1.3869\n",
      "Epoch 43/50\n",
      "\u001b[1m6/6\u001b[0m \u001b[32m━━━━━━━━━━━━━━━━━━━━\u001b[0m\u001b[37m\u001b[0m \u001b[1m0s\u001b[0m 18ms/step - accuracy: 0.4583 - loss: 1.4453 - val_accuracy: 0.4167 - val_loss: 1.3849\n",
      "Epoch 44/50\n",
      "\u001b[1m6/6\u001b[0m \u001b[32m━━━━━━━━━━━━━━━━━━━━\u001b[0m\u001b[37m\u001b[0m \u001b[1m0s\u001b[0m 17ms/step - accuracy: 0.5000 - loss: 1.4248 - val_accuracy: 0.5000 - val_loss: 1.3760\n",
      "Epoch 45/50\n",
      "\u001b[1m6/6\u001b[0m \u001b[32m━━━━━━━━━━━━━━━━━━━━\u001b[0m\u001b[37m\u001b[0m \u001b[1m0s\u001b[0m 19ms/step - accuracy: 0.3958 - loss: 1.4324 - val_accuracy: 0.1667 - val_loss: 1.4309\n",
      "Epoch 46/50\n",
      "\u001b[1m6/6\u001b[0m \u001b[32m━━━━━━━━━━━━━━━━━━━━\u001b[0m\u001b[37m\u001b[0m \u001b[1m0s\u001b[0m 29ms/step - accuracy: 0.3750 - loss: 1.4344 - val_accuracy: 0.1667 - val_loss: 1.4294\n",
      "Epoch 47/50\n",
      "\u001b[1m6/6\u001b[0m \u001b[32m━━━━━━━━━━━━━━━━━━━━\u001b[0m\u001b[37m\u001b[0m \u001b[1m0s\u001b[0m 17ms/step - accuracy: 0.3958 - loss: 1.4449 - val_accuracy: 0.1667 - val_loss: 1.4009\n",
      "Epoch 48/50\n",
      "\u001b[1m6/6\u001b[0m \u001b[32m━━━━━━━━━━━━━━━━━━━━\u001b[0m\u001b[37m\u001b[0m \u001b[1m0s\u001b[0m 16ms/step - accuracy: 0.3958 - loss: 1.4322 - val_accuracy: 0.1667 - val_loss: 1.3811\n",
      "Epoch 49/50\n",
      "\u001b[1m6/6\u001b[0m \u001b[32m━━━━━━━━━━━━━━━━━━━━\u001b[0m\u001b[37m\u001b[0m \u001b[1m0s\u001b[0m 16ms/step - accuracy: 0.3958 - loss: 1.4269 - val_accuracy: 0.1667 - val_loss: 1.3797\n",
      "Epoch 50/50\n",
      "\u001b[1m6/6\u001b[0m \u001b[32m━━━━━━━━━━━━━━━━━━━━\u001b[0m\u001b[37m\u001b[0m \u001b[1m0s\u001b[0m 16ms/step - accuracy: 0.3958 - loss: 1.4053 - val_accuracy: 0.1667 - val_loss: 1.3724\n",
      "\u001b[1m1/1\u001b[0m \u001b[32m━━━━━━━━━━━━━━━━━━━━\u001b[0m\u001b[37m\u001b[0m \u001b[1m0s\u001b[0m 42ms/step - accuracy: 0.1667 - loss: 1.3724\n",
      "Test Accuracy: 16.67%\n"
     ]
    }
   ],
   "source": [
    "import pandas as pd\n",
    "import numpy as np\n",
    "from sklearn.preprocessing import LabelEncoder\n",
    "from tensorflow.keras.utils import to_categorical\n",
    "from tensorflow.keras.models import Sequential\n",
    "from tensorflow.keras.layers import LSTM, Dense, Masking\n",
    "from tensorflow.keras.preprocessing.sequence import pad_sequences\n",
    "from sklearn.model_selection import train_test_split\n",
    "\n",
    "# === 2. Sortieren und Feature-Auswahl ===\n",
    "df = df.sort_values([\"id\", \"time\"])\n",
    "feature_cols = [\"b2\", \"b3\", \"b4\", \"b5\", \"b6\", \"b7\", \"b8\", \"b8a\", \"b11\", \"b12\"]\n",
    "label_col = \"species\"\n",
    "\n",
    "# === 3. Gruppieren nach Standort (id) ===\n",
    "sequences = []\n",
    "labels = []\n",
    "\n",
    "for id_, group in df.groupby(\"id\"):\n",
    "    if len(group) < 5:\n",
    "        continue  # Überspringe zu kurze Zeitreihen\n",
    "    X = group[feature_cols].values\n",
    "    y = group[label_col].iloc[0]  # Annahme: eine Art pro id\n",
    "    sequences.append(X)\n",
    "    labels.append(y)\n",
    "\n",
    "# === 4. Padding (vereinheitliche Länge) ===\n",
    "max_seq_len = 10  # oder mehr, je nach deinen Daten\n",
    "X_seq = pad_sequences(\n",
    "    sequences, maxlen=max_seq_len, dtype=\"float32\", padding=\"post\", truncating=\"post\"\n",
    ")\n",
    "\n",
    "# === 5. Labels zu numerisch → One-Hot ===\n",
    "label_encoder = LabelEncoder()\n",
    "y_encoded = label_encoder.fit_transform(labels)\n",
    "y_onehot = to_categorical(y_encoded)  # shape = (n_samples, 7)\n",
    "\n",
    "# === 6. Train/Test Split ===\n",
    "X_train, X_test, y_train, y_test = train_test_split(\n",
    "    X_seq, y_onehot, test_size=0.2, random_state=42\n",
    ")\n",
    "\n",
    "# === 7. LSTM Modell ===\n",
    "model = Sequential()\n",
    "model.add(Masking(mask_value=0.0, input_shape=(max_seq_len, len(feature_cols))))\n",
    "model.add(LSTM(64, return_sequences=False))\n",
    "model.add(Dense(32, activation=\"relu\"))\n",
    "model.add(Dense(y_onehot.shape[1], activation=\"softmax\"))  # 7 Klassen\n",
    "\n",
    "model.compile(loss=\"categorical_crossentropy\", optimizer=\"adam\", metrics=[\"accuracy\"])\n",
    "\n",
    "# === 8. Modell trainieren ===\n",
    "model.fit(X_train, y_train, epochs=50, batch_size=8, validation_data=(X_test, y_test))\n",
    "\n",
    "# === 9. Evaluieren ===\n",
    "loss, acc = model.evaluate(X_test, y_test)\n",
    "print(f\"Test Accuracy: {acc:.2%}\")\n"
   ]
  },
  {
   "cell_type": "code",
   "execution_count": null,
   "id": "20fd37e9",
   "metadata": {},
   "outputs": [],
   "source": []
  },
  {
   "cell_type": "code",
   "execution_count": null,
   "id": "00d18753",
   "metadata": {},
   "outputs": [],
   "source": []
  },
  {
   "cell_type": "code",
   "execution_count": null,
   "id": "73039028",
   "metadata": {},
   "outputs": [],
   "source": [
    "import pandas as pd\n",
    "import numpy as np\n",
    "from sklearn.decomposition import PCA\n",
    "from sklearn.preprocessing import StandardScaler\n",
    "import plotly.express as px\n",
    "\n",
    "class SITS_PCA:\n",
    "    def __init__(self, n_components=None, scale=True):\n",
    "        \"\"\"\n",
    "        Parameters\n",
    "        ----------\n",
    "        n_components : int, float, or None\n",
    "            Anzahl PCA-Komponenten oder Anteil erklärter Varianz (z. B. 0.95)\n",
    "        scale : bool\n",
    "            Ob die Features standardisiert werden sollen\n",
    "        \"\"\"\n",
    "        self.n_components = n_components\n",
    "        self.scale = scale\n",
    "        self.scaler = None\n",
    "        self.pca = None\n",
    "        self.transformed_ = None\n",
    "        self.explained_variance_ratio_ = None\n",
    "        self.components_ = None\n",
    "        self.feature_names_ = None\n",
    "        self.labels_ = None\n",
    "\n",
    "    def fit(self, df, label_col=None, band_prefix='b'):\n",
    "        \"\"\"\n",
    "        Führt PCA auf den spektralen Bändern eines SITS-DataFrames aus.\n",
    "\n",
    "        Parameters\n",
    "        ----------\n",
    "        df : pd.DataFrame\n",
    "            DataFrame mit Spalten wie b2,b3,...,b12 und evtl. Metadaten.\n",
    "        label_col : str, optional\n",
    "            Spaltenname der Klassenlabels (z. B. 'species').\n",
    "        band_prefix : str\n",
    "            Präfix der Bandsäulen (Standard: 'b')\n",
    "        \"\"\"\n",
    "        band_cols = [c for c in df.columns if c.startswith(band_prefix)]\n",
    "        if not band_cols:\n",
    "            raise ValueError(f\"Keine Bänder mit Präfix '{band_prefix}' gefunden.\")\n",
    "\n",
    "        X = df[band_cols].values\n",
    "        self.feature_names_ = band_cols\n",
    "\n",
    "        if self.scale:\n",
    "            self.scaler = StandardScaler()\n",
    "            X = self.scaler.fit_transform(X)\n",
    "\n",
    "        self.pca = PCA(n_components=self.n_components)\n",
    "        self.transformed_ = self.pca.fit_transform(X)\n",
    "        self.explained_variance_ratio_ = self.pca.explained_variance_ratio_\n",
    "        self.components_ = self.pca.components_\n",
    "\n",
    "        if label_col and label_col in df.columns:\n",
    "            self.labels_ = df[label_col].values\n",
    "\n",
    "        return self\n",
    "\n",
    "    def plot_variance(self):\n",
    "        \"\"\"Interaktiver Plot der kumulativen erklärten Varianz.\"\"\"\n",
    "        if self.explained_variance_ratio_ is None:\n",
    "            raise RuntimeError(\"Bitte zuerst fit() ausführen.\")\n",
    "        cumvar = np.cumsum(self.explained_variance_ratio_)\n",
    "        fig = px.line(\n",
    "            x=np.arange(1, len(cumvar) + 1),\n",
    "            y=cumvar,\n",
    "            markers=True,\n",
    "            labels={\"x\": \"Anzahl Komponenten\", \"y\": \"Kumulative erklärte Varianz\"},\n",
    "            title=\"PCA – erklärte Varianz\"\n",
    "        )\n",
    "        fig.update_layout(yaxis_range=[0, 1])\n",
    "        fig.show()\n",
    "\n",
    "    def plot_2d(self):\n",
    "        \"\"\"Interaktiver 2D-Plot der ersten beiden PCA-Komponenten.\"\"\"\n",
    "        if self.transformed_ is None:\n",
    "            raise RuntimeError(\"Bitte zuerst fit() ausführen.\")\n",
    "        df_plot = pd.DataFrame(self.transformed_[:, :2], columns=['PC1', 'PC2'])\n",
    "        if self.labels_ is not None:\n",
    "            df_plot['Label'] = self.labels_\n",
    "        else:\n",
    "            df_plot['Label'] = 'Sample'\n",
    "        fig = px.scatter(\n",
    "            df_plot,\n",
    "            x='PC1',\n",
    "            y='PC2',\n",
    "            color='Label',\n",
    "            title='SITS PCA 2D-Projektion',\n",
    "            opacity=0.8\n",
    "        )\n",
    "        fig.show()\n",
    "\n",
    "    def plot_3d(self):\n",
    "        \"\"\"Interaktiver 3D-Plot der ersten drei PCA-Komponenten.\"\"\"\n",
    "        if self.transformed_ is None:\n",
    "            raise RuntimeError(\"Bitte zuerst fit() ausführen.\")\n",
    "        if self.transformed_.shape[1] < 3:\n",
    "            raise ValueError(\"Mindestens 3 PCA-Komponenten nötig für 3D-Plot.\")\n",
    "        df_plot = pd.DataFrame(self.transformed_[:, :3], columns=['PC1', 'PC2', 'PC3'])\n",
    "        if self.labels_ is not None:\n",
    "            df_plot['Label'] = self.labels_\n",
    "        else:\n",
    "            df_plot['Label'] = 'Sample'\n",
    "        fig = px.scatter_3d(\n",
    "            df_plot,\n",
    "            x='PC1',\n",
    "            y='PC2',\n",
    "            z='PC3',\n",
    "            color='Label',\n",
    "            title='SITS PCA 3D-Projektion',\n",
    "            opacity=0.8,\n",
    "        )\n",
    "        fig.show()\n",
    "    def show_components(self):\n",
    "        \"\"\"Zeigt die Gewichte (Loadings) der PCA-Komponenten.\"\"\"\n",
    "        if self.components_ is None or self.feature_names_ is None:\n",
    "            raise RuntimeError(\"Bitte zuerst fit() ausführen.\")\n",
    "        loadings = pd.DataFrame(\n",
    "            self.components_,\n",
    "            columns=self.feature_names_,\n",
    "            index=[f'PC{i+1}' for i in range(self.components_.shape[0])]\n",
    "        )\n",
    "        display(loadings.T.style.background_gradient(cmap='coolwarm'))\n",
    "        return loadings\n"
   ]
  },
  {
   "cell_type": "code",
   "execution_count": null,
   "id": "43040852",
   "metadata": {},
   "outputs": [],
   "source": [
    "pca = SITS_PCA(n_components=0.95)\n",
    "\n",
    "pca.fit(df, label_col='species')\n",
    "\n",
    "pca.plot_variance()\n",
    "pca.plot_2d()"
   ]
  },
  {
   "cell_type": "code",
   "execution_count": null,
   "id": "d66c0eed",
   "metadata": {},
   "outputs": [],
   "source": [
    "pca.show_components()"
   ]
  },
  {
   "cell_type": "code",
   "execution_count": null,
   "id": "5cfa892c",
   "metadata": {},
   "outputs": [],
   "source": [
    "import pandas as pd\n",
    "import numpy as np\n",
    "from sklearn.decomposition import PCA\n",
    "from sklearn.preprocessing import StandardScaler\n",
    "from sklearn.manifold import TSNE\n",
    "import umap\n",
    "import plotly.express as px\n",
    "\n",
    "class SITS_DimensionalityReduction:\n",
    "    def __init__(self, method='PCA', n_components=2, scale=True, random_state=42, **kwargs):\n",
    "        \"\"\"\n",
    "        Parameters\n",
    "        ----------\n",
    "        method : str\n",
    "            Reduktionsmethode: 'PCA', 'tSNE' oder 'UMAP'\n",
    "        n_components : int\n",
    "            Anzahl der Dimensionen der Projektion\n",
    "        scale : bool\n",
    "            Ob die Features standardisiert werden sollen\n",
    "        random_state : int\n",
    "            Zufallsseed für Reproduzierbarkeit\n",
    "        kwargs : dict\n",
    "            Zusätzliche Parameter für t-SNE oder UMAP\n",
    "        \"\"\"\n",
    "        self.method = method\n",
    "        self.n_components = n_components\n",
    "        self.scale = scale\n",
    "        self.random_state = random_state\n",
    "        self.kwargs = kwargs\n",
    "        self.model = None\n",
    "        self.transformed_ = None\n",
    "        self.labels_ = None\n",
    "        self.feature_names_ = None\n",
    "\n",
    "    def fit(self, df, label_col=None, band_prefix='b'):\n",
    "        band_cols = [c for c in df.columns if c.startswith(band_prefix)]\n",
    "        if not band_cols:\n",
    "            raise ValueError(f\"Keine Bänder mit Präfix '{band_prefix}' gefunden.\")\n",
    "        \n",
    "        X = df[band_cols].values\n",
    "        self.feature_names_ = band_cols\n",
    "\n",
    "        if self.scale:\n",
    "            scaler = StandardScaler()\n",
    "            X = scaler.fit_transform(X)\n",
    "\n",
    "        if label_col and label_col in df.columns:\n",
    "            self.labels_ = df[label_col].values\n",
    "\n",
    "        if self.method.upper() == 'PCA':\n",
    "            self.model = PCA(n_components=self.n_components, random_state=self.random_state)\n",
    "            self.transformed_ = self.model.fit_transform(X)\n",
    "        elif self.method.upper() == 'TSNE':\n",
    "            self.model = TSNE(n_components=self.n_components, random_state=self.random_state, **self.kwargs)\n",
    "            self.transformed_ = self.model.fit_transform(X)\n",
    "        elif self.method.upper() == 'UMAP':\n",
    "            self.model = umap.UMAP(n_components=self.n_components, random_state=self.random_state, **self.kwargs)\n",
    "            self.transformed_ = self.model.fit_transform(X)\n",
    "        else:\n",
    "            raise ValueError(\"Methode muss 'PCA', 'tSNE' oder 'UMAP' sein.\")\n",
    "\n",
    "        return self\n",
    "\n",
    "    def plot_2d(self):\n",
    "        if self.transformed_ is None:\n",
    "            raise RuntimeError(\"Bitte zuerst fit() ausführen.\")\n",
    "        if self.transformed_.shape[1] < 2:\n",
    "            raise ValueError(\"Mindestens 2 Komponenten nötig für 2D-Plot.\")\n",
    "        \n",
    "        df_plot = pd.DataFrame(self.transformed_[:, :2], columns=['Dim1', 'Dim2'])\n",
    "        df_plot['Label'] = self.labels_ if self.labels_ is not None else 'Sample'\n",
    "        fig = px.scatter(df_plot, x='Dim1', y='Dim2', color='Label', title=f'{self.method} 2D-Projektion', opacity=0.8)\n",
    "        fig.show()\n",
    "\n",
    "    def plot_3d(self):\n",
    "        if self.transformed_ is None:\n",
    "            raise RuntimeError(\"Bitte zuerst fit() ausführen.\")\n",
    "        if self.transformed_.shape[1] < 3:\n",
    "            raise ValueError(\"Mindestens 3 Komponenten nötig für 3D-Plot.\")\n",
    "        \n",
    "        df_plot = pd.DataFrame(self.transformed_[:, :3], columns=['Dim1', 'Dim2', 'Dim3'])\n",
    "        df_plot['Label'] = self.labels_ if self.labels_ is not None else 'Sample'\n",
    "        fig = px.scatter_3d(df_plot, x='Dim1', y='Dim2', z='Dim3', color='Label', title=f'{self.method} 3D-Projektion', opacity=0.8)\n",
    "        fig.show()\n"
   ]
  },
  {
   "cell_type": "code",
   "execution_count": null,
   "id": "04f8298a",
   "metadata": {},
   "outputs": [],
   "source": [
    "# PCA Beispiel\n",
    "dr = SITS_DimensionalityReduction(method='PCA', n_components=3)\n",
    "dr.fit(df, label_col='species')\n",
    "dr.plot_2d()\n",
    "\n",
    "# t-SNE Beispiel\n",
    "dr_tsne = SITS_DimensionalityReduction(method='tSNE', n_components=2, perplexity=30)\n",
    "dr_tsne.fit(df, label_col='species')\n",
    "dr_tsne.plot_2d()\n",
    "\n",
    "# UMAP Beispiel\n",
    "dr_umap = SITS_DimensionalityReduction(method='UMAP', n_components=2, n_neighbors=15, min_dist=0.1)\n",
    "dr_umap.fit(df, label_col='species')\n",
    "dr_umap.plot_2d()\n"
   ]
  },
  {
   "cell_type": "code",
   "execution_count": null,
   "id": "f36ebcfd",
   "metadata": {},
   "outputs": [],
   "source": [
    "a"
   ]
  },
  {
   "cell_type": "code",
   "execution_count": null,
   "id": "7fdee8fb",
   "metadata": {},
   "outputs": [],
   "source": [
    "import numpy as np\n",
    "import tensorflow as tf\n",
    "from tensorflow.keras.models import Sequential\n",
    "from tensorflow.keras.layers import LSTM, Dense, Dropout\n",
    "from tensorflow.keras.utils import to_categorical\n",
    "from sklearn.model_selection import train_test_split\n",
    "from sklearn.preprocessing import StandardScaler\n",
    "\n",
    "# ---------------------------------------------------------\n",
    "# 1. Dummy-Daten (ersetze später durch echte SITS-Daten)\n",
    "# ---------------------------------------------------------\n",
    "n_samples = 5000       # Anzahl Beobachtungen\n",
    "timesteps = 12         # z. B. 12 Monate\n",
    "n_features = 10        # z. B. 10 spektrale Bänder\n",
    "n_classes = 5          # z. B. 5 Landnutzungsklassen\n",
    "\n",
    "X = np.random.rand(n_samples, timesteps, n_features)\n",
    "y = np.random.randint(0, n_classes, size=(n_samples,))\n",
    "\n",
    "# Optional: One-hot-Encoding\n",
    "y_cat = to_categorical(y, num_classes=n_classes)\n",
    "\n",
    "# ---------------------------------------------------------\n",
    "# 2. Train/Test Split\n",
    "# ---------------------------------------------------------\n",
    "X_train, X_test, y_train, y_test = train_test_split(X, y_cat, test_size=0.2, random_state=42)\n",
    "\n",
    "# ---------------------------------------------------------\n",
    "# 3. (Optional) Skalierung über Features\n",
    "# ---------------------------------------------------------\n",
    "# Skaliere über Features pro Zeitstempel\n",
    "scaler = StandardScaler()\n",
    "X_train_scaled = X_train.reshape(-1, n_features)\n",
    "X_train_scaled = scaler.fit_transform(X_train_scaled)\n",
    "X_train_scaled = X_train_scaled.reshape(-1, timesteps, n_features)\n",
    "\n",
    "X_test_scaled = X_test.reshape(-1, n_features)\n",
    "X_test_scaled = scaler.transform(X_test_scaled)\n",
    "X_test_scaled = X_test_scaled.reshape(-1, timesteps, n_features)\n",
    "\n",
    "# ---------------------------------------------------------\n",
    "# 4. Modellaufbau\n",
    "# ---------------------------------------------------------\n",
    "model = Sequential([\n",
    "    LSTM(64, input_shape=(timesteps, n_features), return_sequences=False),\n",
    "    Dropout(0.3),\n",
    "    Dense(64, activation='relu'),\n",
    "    Dense(n_classes, activation='softmax')\n",
    "])\n",
    "\n",
    "model.compile(\n",
    "    optimizer='adam',\n",
    "    loss='categorical_crossentropy',\n",
    "    metrics=['accuracy']\n",
    ")\n",
    "\n",
    "model.summary()\n",
    "\n",
    "# ---------------------------------------------------------\n",
    "# 5. Training\n",
    "# ---------------------------------------------------------\n",
    "history = model.fit(\n",
    "    X_train_scaled, y_train,\n",
    "    validation_data=(X_test_scaled, y_test),\n",
    "    epochs=20,\n",
    "    batch_size=64\n",
    ")\n",
    "\n",
    "# ---------------------------------------------------------\n",
    "# 6. Evaluation\n",
    "# ---------------------------------------------------------\n",
    "test_loss, test_acc = model.evaluate(X_test_scaled, y_test)\n",
    "print(f\"Test Accuracy: {test_acc:.3f}\")\n"
   ]
  },
  {
   "cell_type": "code",
   "execution_count": null,
   "id": "0e384efc",
   "metadata": {},
   "outputs": [],
   "source": [
    "pip install tensorflow"
   ]
  },
  {
   "cell_type": "code",
   "execution_count": null,
   "id": "cb52ec87",
   "metadata": {},
   "outputs": [],
   "source": []
  },
  {
   "cell_type": "markdown",
   "id": "66ec294a",
   "metadata": {},
   "source": [
    "# alt"
   ]
  },
  {
   "cell_type": "code",
   "execution_count": null,
   "id": "37d2077e",
   "metadata": {},
   "outputs": [],
   "source": [
    "df_base.shape"
   ]
  },
  {
   "cell_type": "code",
   "execution_count": null,
   "id": "2e26235f",
   "metadata": {},
   "outputs": [],
   "source": [
    "df_base = df_base.drop_duplicates()"
   ]
  },
  {
   "cell_type": "code",
   "execution_count": null,
   "id": "8d1853c5",
   "metadata": {},
   "outputs": [],
   "source": [
    "df_base[df_base[\"id\"] == 16404].sort_values(by=\"time\")"
   ]
  },
  {
   "cell_type": "code",
   "execution_count": null,
   "id": "4fef6345",
   "metadata": {},
   "outputs": [],
   "source": [
    "df[df[\"id\"] == 16404].sort_values(by=\"time\")"
   ]
  },
  {
   "cell_type": "markdown",
   "id": "3e408bb2",
   "metadata": {},
   "source": [
    "## Basic Data Analysis"
   ]
  },
  {
   "cell_type": "code",
   "execution_count": null,
   "id": "3d3cd6ca",
   "metadata": {},
   "outputs": [],
   "source": [
    "basicanalysis = BasicDataAnalysis(df_base)\n",
    "basicanalysis.get_dtypes()"
   ]
  },
  {
   "cell_type": "code",
   "execution_count": null,
   "id": "a8679948",
   "metadata": {},
   "outputs": [],
   "source": [
    "print(f\"Raw Dataset cols:{basicanalysis.get_num_cols()}\")\n",
    "print(f\"Raw Dataset rows:{basicanalysis.get_num_rows()}\")"
   ]
  },
  {
   "cell_type": "code",
   "execution_count": null,
   "id": "98447354",
   "metadata": {},
   "outputs": [],
   "source": [
    "basicanalysis.get_desricption()"
   ]
  },
  {
   "cell_type": "code",
   "execution_count": null,
   "id": "757995f7",
   "metadata": {},
   "outputs": [],
   "source": [
    "basicanalysis.get_missing_counts()"
   ]
  },
  {
   "cell_type": "markdown",
   "id": "9c26b036",
   "metadata": {},
   "source": [
    "## Feature Engineering"
   ]
  },
  {
   "cell_type": "markdown",
   "id": "63ebc76e",
   "metadata": {},
   "source": [
    "### Basic Feature Engineering"
   ]
  },
  {
   "cell_type": "code",
   "execution_count": null,
   "id": "88c3d7d8",
   "metadata": {},
   "outputs": [],
   "source": [
    "df = dataloader.feature_extraction(df_base)"
   ]
  },
  {
   "cell_type": "markdown",
   "id": "4243be7f",
   "metadata": {},
   "source": [
    "### Datetime Feature Engineering"
   ]
  },
  {
   "cell_type": "code",
   "execution_count": null,
   "id": "89e2dbf0",
   "metadata": {},
   "outputs": [],
   "source": [
    "df = dataloader.date_feature_extraction(df)"
   ]
  },
  {
   "cell_type": "markdown",
   "id": "fc0c4c45",
   "metadata": {},
   "source": [
    "### Advanced Feature Engineering"
   ]
  },
  {
   "cell_type": "code",
   "execution_count": null,
   "id": "6f8101a1",
   "metadata": {},
   "outputs": [],
   "source": [
    "calcindices = CalculateIndices()\n",
    "df = calcindices.add_all_indices(df)"
   ]
  },
  {
   "cell_type": "code",
   "execution_count": null,
   "id": "900bf57e",
   "metadata": {},
   "outputs": [],
   "source": []
  },
  {
   "cell_type": "markdown",
   "id": "84f9bc56",
   "metadata": {},
   "source": [
    "## Exploratory Data Analysis"
   ]
  },
  {
   "cell_type": "markdown",
   "id": "8626b430",
   "metadata": {},
   "source": [
    "### Visualization Base-Dataframe "
   ]
  },
  {
   "cell_type": "code",
   "execution_count": null,
   "id": "0fdf9bdb",
   "metadata": {},
   "outputs": [],
   "source": [
    "hist = HistogramDataVisualization(df)\n",
    "hist.plot_unique_ids(\"year\")"
   ]
  },
  {
   "cell_type": "code",
   "execution_count": null,
   "id": "929708de",
   "metadata": {},
   "outputs": [],
   "source": [
    "hist.plot_unique_ids(\"month_num\")"
   ]
  },
  {
   "cell_type": "code",
   "execution_count": null,
   "id": "017bc605",
   "metadata": {},
   "outputs": [],
   "source": [
    "hist.plot_unique_ids(\"species\")"
   ]
  },
  {
   "cell_type": "code",
   "execution_count": null,
   "id": "914aa930",
   "metadata": {},
   "outputs": [],
   "source": [
    "hist.plot_median_id_distribution()"
   ]
  },
  {
   "cell_type": "markdown",
   "id": "c781a189",
   "metadata": {},
   "source": [
    "## Correlation Analysis"
   ]
  },
  {
   "cell_type": "code",
   "execution_count": null,
   "id": "c6b0ddd1",
   "metadata": {},
   "outputs": [],
   "source": [
    "correlation = CorrelationAnalysis(df)\n",
    "corr_matrix = correlation.get_correlation_matrix()\n",
    "corr_matrix"
   ]
  },
  {
   "cell_type": "code",
   "execution_count": null,
   "id": "65acf2fb",
   "metadata": {},
   "outputs": [],
   "source": [
    "correlation.plot_correlation_matrix()"
   ]
  },
  {
   "cell_type": "code",
   "execution_count": null,
   "id": "ca100235",
   "metadata": {},
   "outputs": [],
   "source": [
    "top_corr_df = correlation.get_top_correlations(top_n=15)\n",
    "plot_top_correlations(top_corr_df)"
   ]
  },
  {
   "cell_type": "code",
   "execution_count": null,
   "id": "af118122",
   "metadata": {},
   "outputs": [],
   "source": [
    "# correlation.plot_correlation_distribution(sample_size=100)"
   ]
  },
  {
   "cell_type": "markdown",
   "id": "3034f999",
   "metadata": {},
   "source": [
    "## Disturbed"
   ]
  },
  {
   "cell_type": "code",
   "execution_count": null,
   "id": "550791ad",
   "metadata": {},
   "outputs": [],
   "source": [
    "unique_values = df[\"disturbance_year\"].unique()\n",
    "print(f\"Nunique: {len(unique_values)}\")\n",
    "print(f\"Unique Values:\\n{unique_values}\")"
   ]
  },
  {
   "cell_type": "code",
   "execution_count": null,
   "id": "9890ebea",
   "metadata": {},
   "outputs": [],
   "source": [
    "dist_disturbance_df = df[\"is_disturbed\"].value_counts().reset_index()\n",
    "dist_disturbance_df.columns = [\"is_disturbed\", \"count\"]\n",
    "\n",
    "\n",
    "plt.figure(figsize=(8, 5))\n",
    "plt.bar(dist_disturbance_df[\"is_disturbed\"].astype(str), dist_disturbance_df[\"count\"])\n",
    "plt.xlabel(\"Disturbed\")\n",
    "plt.ylabel(\"Count\")\n",
    "plt.title(\"Comparison of distrubed values\")\n",
    "plt.grid()\n",
    "plt.show()"
   ]
  },
  {
   "cell_type": "code",
   "execution_count": null,
   "id": "c09d7cfe",
   "metadata": {},
   "outputs": [],
   "source": [
    "filtered = df[df[\"disturbance_year\"] != 0]\n",
    "crosstab = pd.crosstab(filtered[\"disturbance_year\"], filtered[\"species\"])\n",
    "crosstab.plot(kind=\"bar\", stacked=True, figsize=(10, 6))\n",
    "\n",
    "plt.xlabel(\"Disturbance Year\")\n",
    "plt.ylabel(\"Anzahl\")\n",
    "plt.title(\"Distribution of Disturbance Year by Species\")\n",
    "plt.legend(title=\"Species\")\n",
    "plt.tight_layout()\n",
    "plt.grid()\n",
    "plt.show()"
   ]
  },
  {
   "cell_type": "code",
   "execution_count": null,
   "id": "580a0c89",
   "metadata": {},
   "outputs": [],
   "source": [
    "test = df[df[\"is_disturbed\"]].copy()\n",
    "test[\"disturbance_year_diff\"] = test[\"disturbance_year\"] - test[\"year\"]\n",
    "test"
   ]
  },
  {
   "cell_type": "code",
   "execution_count": null,
   "id": "61dc6026",
   "metadata": {},
   "outputs": [],
   "source": [
    "values = test[\"disturbance_year_diff\"].dropna()\n",
    "\n",
    "fig = plt.figure(figsize=(10, 6))\n",
    "grid = fig.add_gridspec(2, 1, height_ratios=[1, 4], hspace=0.05)\n",
    "ax_box = fig.add_subplot(grid[0, 0])\n",
    "ax_box.boxplot(values, vert=False, patch_artist=True)\n",
    "ax_box.set(xticks=[], xlabel=\"\")\n",
    "ax_box.set_yticks([])\n",
    "ax_box.set_title(\"Distribution of Disturbance Year Differences\")\n",
    "ax_hist = fig.add_subplot(grid[1, 0])\n",
    "ax_hist.hist(values, bins=30, alpha=0.7, edgecolor=\"black\")\n",
    "ax_hist.set_xlabel(\"disturbance_year_diff\")\n",
    "ax_hist.set_ylabel(\"Frequency\")\n",
    "ax_hist.grid()\n",
    "plt.show()"
   ]
  },
  {
   "cell_type": "code",
   "execution_count": null,
   "id": "4a7f6320",
   "metadata": {},
   "outputs": [],
   "source": [
    "filtered.sort_values(by=\"disturbance_year\", ascending=True)"
   ]
  },
  {
   "cell_type": "code",
   "execution_count": null,
   "id": "63c4813c",
   "metadata": {},
   "outputs": [],
   "source": [
    "filtered = df[df[\"disturbance_year\"] != 0]\n",
    "id_df = filtered[filtered[\"id\"] == 11759]\n",
    "id_df"
   ]
  },
  {
   "cell_type": "code",
   "execution_count": null,
   "id": "cfb1cbc4",
   "metadata": {},
   "outputs": [],
   "source": [
    "band_columns = [col for col in id_df.columns if col.startswith(\"b\")]\n",
    "fig = px.line(id_df, x=\"time\", y=band_columns, markers=\":\")\n",
    "fig.show()"
   ]
  },
  {
   "cell_type": "markdown",
   "id": "82409757",
   "metadata": {},
   "source": [
    "## Explore Spectral"
   ]
  },
  {
   "cell_type": "code",
   "execution_count": null,
   "id": "3ca65a33",
   "metadata": {},
   "outputs": [],
   "source": [
    "spectral = SpectralBandPlotter(df)\n",
    "spectral.plot_all_years(sample_size=500, showfliers=True)"
   ]
  },
  {
   "cell_type": "code",
   "execution_count": null,
   "id": "2fe4c47f",
   "metadata": {},
   "outputs": [],
   "source": [
    "spectral.plot_per_year(sample_size=500)"
   ]
  },
  {
   "cell_type": "code",
   "execution_count": null,
   "id": "19d18859",
   "metadata": {},
   "outputs": [],
   "source": [
    "spectral.plot_species_season_distribution()"
   ]
  },
  {
   "cell_type": "markdown",
   "id": "108411ba",
   "metadata": {},
   "source": [
    "## Time Series Analysis"
   ]
  },
  {
   "cell_type": "code",
   "execution_count": null,
   "id": "5e3f4274",
   "metadata": {},
   "outputs": [],
   "source": [
    "plot_date_diff_distribution(df)"
   ]
  },
  {
   "cell_type": "code",
   "execution_count": null,
   "id": "bc93514a",
   "metadata": {},
   "outputs": [],
   "source": [
    "ts_agg = TimeSeriesAggregate(id_df)\n",
    "df_2w = ts_agg.aggregate_timeseries(freq=\"2W\", method=\"median\")\n",
    "dataloader = DataLoader()\n",
    "df_2w_features = dataloader.date_feature_extraction(df_2w)"
   ]
  },
  {
   "cell_type": "code",
   "execution_count": null,
   "id": "967d37b0",
   "metadata": {},
   "outputs": [],
   "source": [
    "spectral = SpectralBandPlotter(df_2w_features)\n",
    "spectral.plot_spectral_development_over_years(addition=\"aggregated\")"
   ]
  },
  {
   "cell_type": "code",
   "execution_count": null,
   "id": "bd5a4aac",
   "metadata": {},
   "outputs": [],
   "source": [
    "plot_intervals_timestamps(df_2w_features, addition=\"aggregated\")"
   ]
  },
  {
   "cell_type": "markdown",
   "id": "9eefb896",
   "metadata": {},
   "source": [
    "### Autocorrelation"
   ]
  },
  {
   "cell_type": "code",
   "execution_count": null,
   "id": "af09738b",
   "metadata": {},
   "outputs": [],
   "source": [
    "plot_autocorrelation(df_2w_features, \"ndvi\")"
   ]
  },
  {
   "cell_type": "code",
   "execution_count": null,
   "id": "28e9c16d",
   "metadata": {},
   "outputs": [],
   "source": [
    "plot_band_differences(df_2w_features)"
   ]
  },
  {
   "cell_type": "markdown",
   "id": "ce68b712",
   "metadata": {},
   "source": [
    "# Anomaly Detection"
   ]
  },
  {
   "cell_type": "code",
   "execution_count": null,
   "id": "fef6fc94",
   "metadata": {},
   "outputs": [],
   "source": [
    "df_sample = get_sample(df, n_ids=40)\n",
    "\n",
    "cleaner = SITSOutlierCleaner()\n",
    "cleaner.fit_transform(df_sample, band_columns=spectral_bands)\n",
    "df_with_any_flag = cleaner.add_any_outlier_flag()\n",
    "id_df = df_with_any_flag[df_with_any_flag[\"id\"] == 24]\n",
    "df_interpolated = cleaner.get_interpolated_only()"
   ]
  },
  {
   "cell_type": "code",
   "execution_count": null,
   "id": "fa57b2db",
   "metadata": {},
   "outputs": [],
   "source": [
    "plot_with_outliers_subplot(id_df, spectral_bands)"
   ]
  },
  {
   "cell_type": "code",
   "execution_count": null,
   "id": "f5a62343",
   "metadata": {},
   "outputs": [],
   "source": [
    "plot_outlier_detection_grid(id_df, bands=spectral_bands)"
   ]
  },
  {
   "cell_type": "code",
   "execution_count": null,
   "id": "896e6514",
   "metadata": {},
   "outputs": [],
   "source": [
    "df_interpolated"
   ]
  }
 ],
 "metadata": {
  "kernelspec": {
   "display_name": "venv (3.11.5)",
   "language": "python",
   "name": "python3"
  },
  "language_info": {
   "codemirror_mode": {
    "name": "ipython",
    "version": 3
   },
   "file_extension": ".py",
   "mimetype": "text/x-python",
   "name": "python",
   "nbconvert_exporter": "python",
   "pygments_lexer": "ipython3",
   "version": "3.11.5"
  }
 },
 "nbformat": 4,
 "nbformat_minor": 5
}
