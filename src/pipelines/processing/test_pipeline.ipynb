{
 "cells": [
  {
   "cell_type": "code",
   "execution_count": 1,
   "id": "685ad71c",
   "metadata": {},
   "outputs": [],
   "source": [
    "from processing_steps.interpolation import Interpolation\n",
    "from processing_steps.detect_disturbed_trees import DetectDisturbedTrees\n",
    "from features.spectral_indices import CalculateIndices\n",
    "from features.basic_features import BasicFeatures\n",
    "from features.temporal_features import TemporalFeatures\n",
    "from processing_steps.data_augmentation import DataAugmentation\n",
    "from processing_steps.adjust_labels import AdjustLabels\n",
    "from processing_pipeline import ProcessingPipeline"
   ]
  },
  {
   "cell_type": "code",
   "execution_count": null,
   "id": "5138fb78",
   "metadata": {},
   "outputs": [
    {
     "data": {
      "application/vnd.microsoft.datawrangler.viewer.v0+json": {
       "columns": [
        {
         "name": "index",
         "rawType": "object",
         "type": "string"
        },
        {
         "name": "0",
         "rawType": "object",
         "type": "unknown"
        }
       ],
       "ref": "7daf654f-cbe0-4649-91c0-33ab4be011d7",
       "rows": [
        [
         "species",
         "object"
        ],
        [
         "time",
         "datetime64[ns]"
        ],
        [
         "b2",
         "float64"
        ],
        [
         "b3",
         "float64"
        ],
        [
         "b4",
         "float64"
        ],
        [
         "b5",
         "float64"
        ],
        [
         "b6",
         "float64"
        ],
        [
         "b7",
         "float64"
        ],
        [
         "b8",
         "float64"
        ],
        [
         "b8a",
         "float64"
        ],
        [
         "b11",
         "float64"
        ],
        [
         "b12",
         "float64"
        ],
        [
         "is_disturbed",
         "object"
        ],
        [
         "month_num",
         "float64"
        ],
        [
         "year",
         "float64"
        ],
        [
         "season",
         "object"
        ],
        [
         "month_sin",
         "float64"
        ],
        [
         "month_cos",
         "float64"
        ],
        [
         "date_diff",
         "float64"
        ],
        [
         "ndvi",
         "float64"
        ],
        [
         "gndvi",
         "float64"
        ],
        [
         "wdvi",
         "float64"
        ],
        [
         "tndvi",
         "float64"
        ],
        [
         "savi",
         "float64"
        ],
        [
         "ipvi",
         "float64"
        ],
        [
         "mcari",
         "float64"
        ],
        [
         "reip",
         "float64"
        ],
        [
         "masvi2",
         "float64"
        ],
        [
         "dvi",
         "float64"
        ]
       ],
       "shape": {
        "columns": 1,
        "rows": 29
       }
      },
      "text/plain": [
       "species                 object\n",
       "time            datetime64[ns]\n",
       "b2                     float64\n",
       "b3                     float64\n",
       "b4                     float64\n",
       "b5                     float64\n",
       "b6                     float64\n",
       "b7                     float64\n",
       "b8                     float64\n",
       "b8a                    float64\n",
       "b11                    float64\n",
       "b12                    float64\n",
       "is_disturbed            object\n",
       "month_num              float64\n",
       "year                   float64\n",
       "season                  object\n",
       "month_sin              float64\n",
       "month_cos              float64\n",
       "date_diff              float64\n",
       "ndvi                   float64\n",
       "gndvi                  float64\n",
       "wdvi                   float64\n",
       "tndvi                  float64\n",
       "savi                   float64\n",
       "ipvi                   float64\n",
       "mcari                  float64\n",
       "reip                   float64\n",
       "masvi2                 float64\n",
       "dvi                    float64\n",
       "dtype: object"
      ]
     },
     "execution_count": 5,
     "metadata": {},
     "output_type": "execute_result"
    }
   ],
   "source": [
    "PATH = \"../../../data/preprocessed/df_preprocessed.csv\"\n",
    "\n",
    "steps = [\n",
    "    BasicFeatures(on=True),\n",
    "    TemporalFeatures(on=True),\n",
    "    Interpolation(on=True),\n",
    "    DataAugmentation(on=True),\n",
    "    CalculateIndices(on=True),\n",
    "    AdjustLabels(on=False),\n",
    "    DetectDisturbedTrees(on=False),\n",
    "]\n",
    "\n",
    "pipeline = ProcessingPipeline(\n",
    "    path = PATH,\n",
    "    steps = steps\n",
    ")\n",
    "\n",
    "df_processed = pipeline.run()"
   ]
  }
 ],
 "metadata": {
  "kernelspec": {
   "display_name": "Python 3",
   "language": "python",
   "name": "python3"
  },
  "language_info": {
   "codemirror_mode": {
    "name": "ipython",
    "version": 3
   },
   "file_extension": ".py",
   "mimetype": "text/x-python",
   "name": "python",
   "nbconvert_exporter": "python",
   "pygments_lexer": "ipython3",
   "version": "3.12.0"
  }
 },
 "nbformat": 4,
 "nbformat_minor": 5
}
