{
 "cells": [
  {
   "cell_type": "code",
   "execution_count": 2,
   "id": "685ad71c",
   "metadata": {},
   "outputs": [],
   "source": [
    "from processing_steps.interpolation import Interpolation\n",
    "from processing_steps.detect_disturbed_trees import DetectDisturbedTrees\n",
    "from features.spectral_indices import CalculateIndices\n",
    "from features.basic_features import BasicFeatures\n",
    "from features.temporal_features import TemporalFeatures\n",
    "from processing_steps.data_augmentation import DataAugmentation\n",
    "from processing_steps.adjust_labels import AdjustLabels\n",
    "from processing_pipeline import ProcessingPipeline\n",
    "\n",
    "from processing_steps.aggregation import TimeSeriesAggregate\n",
    "from processing_steps.interpolate_nans import InterpolateNaNs\n",
    "\n",
    "from data_reduction.old_disturbance_pruner import OldDisturbancePruner"
   ]
  },
  {
   "cell_type": "code",
   "execution_count": null,
   "id": "5138fb78",
   "metadata": {},
   "outputs": [],
   "source": [
    "PATH = \"../../../data/preprocessed/testset.csv\"\n",
    "\n",
    "train_steps = [\n",
    "    BasicFeatures(on=True),\n",
    "    OldDisturbancePruner(on=True),\n",
    "    TimeSeriesAggregate(on=True, freq=2, method=\"mean\"),\n",
    "    DataAugmentation(on=False),\n",
    "    CalculateIndices(on=True),\n",
    "    InterpolateNaNs(on=True, method=\"quadratic\"),\n",
    "    TemporalFeatures(on=False),\n",
    "    Interpolation(on=True),\n",
    "    DetectDisturbedTrees(on=False),\n",
    "    AdjustLabels(on=False),\n",
    "]\n",
    "\n",
    "pipeline = ProcessingPipeline(path=PATH, steps=train_steps)\n",
    "\n",
    "df_processed = pipeline.run()\n",
    "df_processed"
   ]
  }
 ],
 "metadata": {
  "kernelspec": {
   "display_name": ".tree_venv",
   "language": "python",
   "name": "python3"
  },
  "language_info": {
   "codemirror_mode": {
    "name": "ipython",
    "version": 3
   },
   "file_extension": ".py",
   "mimetype": "text/x-python",
   "name": "python",
   "nbconvert_exporter": "python",
   "pygments_lexer": "ipython3",
   "version": "3.13.3"
  }
 },
 "nbformat": 4,
 "nbformat_minor": 5
}
