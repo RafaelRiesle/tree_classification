{
 "cells": [
  {
   "cell_type": "markdown",
   "id": "2241968a",
   "metadata": {},
   "source": [
    "# Tree Classification"
   ]
  },
  {
   "cell_type": "code",
   "execution_count": 1,
   "id": "1154db1e",
   "metadata": {},
   "outputs": [],
   "source": [
    "import os\n",
    "import sys\n",
    "import matplotlib.pyplot as plt\n",
    "import pandas as pd\n",
    "import plotly.express as px\n",
    "\n",
    "module_path = os.path.abspath(os.path.join(\"..\"))\n",
    "if module_path not in sys.path:\n",
    "    sys.path.append(module_path)\n",
    "    \n",
    "from utils.data_loader import DataLoader\n",
    "from utils.calculate_indices import CalculateIndices\n",
    "from utils.basic_analysis import BasicDataAnalysis\n",
    "from utils.visualization_histogram import HistogramDataVisualization\n",
    "from utils.time_series_aggregate import TimeSeriesAggregate\n",
    "from utils.visualization_spectral import SpectralBandPlotter\n",
    "\n",
    "\n",
    "from utils.data_loader import DataLoader\n",
    "from utils.basic_analysis import BasicDataAnalysis\n",
    "\n",
    "from utils.correlation_analysis import CorrelationAnalysis\n",
    "\n",
    "from utils.time_series_aggregate import TimeSeriesAggregate\n",
    "\n",
    "\n",
    "from utils.visualization_spectral import SpectralBandPlotter\n",
    "from utils.visualization_histogram import HistogramDataVisualization\n",
    "from utils.visualization_function import (\n",
    "    plot_intervals_timestamps,\n",
    "    plot_top_correlations,\n",
    "    plot_autocorrelation\n",
    ")"
   ]
  },
  {
   "cell_type": "code",
   "execution_count": 2,
   "id": "92656350",
   "metadata": {},
   "outputs": [],
   "source": [
    "dataloader = DataLoader()\n",
    "df_base = dataloader.load_transform(\"../../data/raw_trainset.csv\")"
   ]
  },
  {
   "cell_type": "markdown",
   "id": "3e408bb2",
   "metadata": {},
   "source": [
    "## Basic Data Analysis"
   ]
  },
  {
   "cell_type": "code",
   "execution_count": 3,
   "id": "3d3cd6ca",
   "metadata": {},
   "outputs": [
    {
     "data": {
      "application/vnd.microsoft.datawrangler.viewer.v0+json": {
       "columns": [
        {
         "name": "index",
         "rawType": "object",
         "type": "string"
        },
        {
         "name": "0",
         "rawType": "object",
         "type": "unknown"
        }
       ],
       "ref": "81d2036e-f22b-4318-b415-d0f3acf592ae",
       "rows": [
        [
         "time",
         "datetime64[ns]"
        ],
        [
         "id",
         "int64"
        ],
        [
         "disturbance_year",
         "int64"
        ],
        [
         "doy",
         "int64"
        ],
        [
         "b2",
         "int64"
        ],
        [
         "b3",
         "int64"
        ],
        [
         "b4",
         "int64"
        ],
        [
         "b5",
         "int64"
        ],
        [
         "b6",
         "int64"
        ],
        [
         "b7",
         "int64"
        ],
        [
         "b8",
         "int64"
        ],
        [
         "b8a",
         "int64"
        ],
        [
         "b11",
         "int64"
        ],
        [
         "b12",
         "int64"
        ],
        [
         "species",
         "object"
        ]
       ],
       "shape": {
        "columns": 1,
        "rows": 15
       }
      },
      "text/plain": [
       "time                datetime64[ns]\n",
       "id                           int64\n",
       "disturbance_year             int64\n",
       "doy                          int64\n",
       "b2                           int64\n",
       "b3                           int64\n",
       "b4                           int64\n",
       "b5                           int64\n",
       "b6                           int64\n",
       "b7                           int64\n",
       "b8                           int64\n",
       "b8a                          int64\n",
       "b11                          int64\n",
       "b12                          int64\n",
       "species                     object\n",
       "dtype: object"
      ]
     },
     "execution_count": 3,
     "metadata": {},
     "output_type": "execute_result"
    }
   ],
   "source": [
    "basicanalysis = BasicDataAnalysis(df_base)\n",
    "basicanalysis.get_dtypes()"
   ]
  },
  {
   "cell_type": "code",
   "execution_count": 4,
   "id": "a8679948",
   "metadata": {},
   "outputs": [
    {
     "name": "stdout",
     "output_type": "stream",
     "text": [
      "Raw Dataset cols:15\n",
      "Raw Dataset rows:4074354\n"
     ]
    }
   ],
   "source": [
    "print(f\"Raw Dataset cols:{basicanalysis.get_num_cols()}\")\n",
    "print(f\"Raw Dataset rows:{basicanalysis.get_num_rows()}\")"
   ]
  },
  {
   "cell_type": "code",
   "execution_count": 5,
   "id": "98447354",
   "metadata": {},
   "outputs": [
    {
     "data": {
      "application/vnd.microsoft.datawrangler.viewer.v0+json": {
       "columns": [
        {
         "name": "index",
         "rawType": "object",
         "type": "string"
        },
        {
         "name": "time",
         "rawType": "object",
         "type": "unknown"
        },
        {
         "name": "id",
         "rawType": "float64",
         "type": "float"
        },
        {
         "name": "disturbance_year",
         "rawType": "float64",
         "type": "float"
        },
        {
         "name": "doy",
         "rawType": "float64",
         "type": "float"
        },
        {
         "name": "b2",
         "rawType": "float64",
         "type": "float"
        },
        {
         "name": "b3",
         "rawType": "float64",
         "type": "float"
        },
        {
         "name": "b4",
         "rawType": "float64",
         "type": "float"
        },
        {
         "name": "b5",
         "rawType": "float64",
         "type": "float"
        },
        {
         "name": "b6",
         "rawType": "float64",
         "type": "float"
        },
        {
         "name": "b7",
         "rawType": "float64",
         "type": "float"
        },
        {
         "name": "b8",
         "rawType": "float64",
         "type": "float"
        },
        {
         "name": "b8a",
         "rawType": "float64",
         "type": "float"
        },
        {
         "name": "b11",
         "rawType": "float64",
         "type": "float"
        },
        {
         "name": "b12",
         "rawType": "float64",
         "type": "float"
        }
       ],
       "ref": "9a82112f-b8f6-4f1f-8ee2-8d85a642c108",
       "rows": [
        [
         "count",
         "4074354",
         "4074354.0",
         "4074354.0",
         "4074354.0",
         "4074354.0",
         "4074354.0",
         "4074354.0",
         "4074354.0",
         "4074354.0",
         "4074354.0",
         "4074354.0",
         "4074354.0",
         "4074354.0",
         "4074354.0"
        ],
        [
         "mean",
         "2020-02-05 05:16:36.360551936",
         "14086.753694941579",
         "252.29878773420276",
         "176.3385110866655",
         "272.60732548030927",
         "430.949475426043",
         "346.5769162424276",
         "676.4690827061173",
         "1683.0920361853682",
         "2040.237238835899",
         "2166.9785180669132",
         "2290.82797886487",
         "1158.527094601991",
         "601.5298457129645"
        ],
        [
         "min",
         "2017-01-01 00:00:00",
         "1.0",
         "0.0",
         "1.0",
         "0.0",
         "1.0",
         "0.0",
         "0.0",
         "0.0",
         "0.0",
         "1.0",
         "0.0",
         "0.0",
         "1.0"
        ],
        [
         "25%",
         "2018-09-24 00:00:00",
         "7038.0",
         "0.0",
         "106.0",
         "156.0",
         "281.0",
         "175.0",
         "460.0",
         "1268.0",
         "1529.0",
         "1629.0",
         "1741.0",
         "730.0",
         "336.0"
        ],
        [
         "50%",
         "2020-03-15 00:00:00",
         "14063.0",
         "0.0",
         "176.0",
         "223.0",
         "371.0",
         "257.0",
         "588.0",
         "1547.0",
         "1856.0",
         "1971.0",
         "2092.0",
         "1011.0",
         "481.0"
        ],
        [
         "75%",
         "2021-06-16 00:00:00",
         "21133.0",
         "0.0",
         "245.0",
         "322.0",
         "503.0",
         "399.0",
         "784.0",
         "1924.0",
         "2327.0",
         "2464.0",
         "2610.0",
         "1441.0",
         "709.0"
        ],
        [
         "max",
         "2022-11-02 00:00:00",
         "28212.0",
         "2020.0",
         "366.0",
         "20087.0",
         "17534.0",
         "17524.0",
         "17940.0",
         "19827.0",
         "21439.0",
         "21811.0",
         "24694.0",
         "18554.0",
         "17587.0"
        ],
        [
         "std",
         null,
         "8145.028490169213",
         "667.5001291609874",
         "85.21530785820138",
         "220.25388766382596",
         "260.22148220053595",
         "308.61277352235794",
         "348.2985330690618",
         "645.7464025951186",
         "802.4450702068899",
         "853.2377468531171",
         "859.7645426526673",
         "609.2414087243052",
         "419.6676774899636"
        ]
       ],
       "shape": {
        "columns": 14,
        "rows": 8
       }
      },
      "text/html": [
       "<div>\n",
       "<style scoped>\n",
       "    .dataframe tbody tr th:only-of-type {\n",
       "        vertical-align: middle;\n",
       "    }\n",
       "\n",
       "    .dataframe tbody tr th {\n",
       "        vertical-align: top;\n",
       "    }\n",
       "\n",
       "    .dataframe thead th {\n",
       "        text-align: right;\n",
       "    }\n",
       "</style>\n",
       "<table border=\"1\" class=\"dataframe\">\n",
       "  <thead>\n",
       "    <tr style=\"text-align: right;\">\n",
       "      <th></th>\n",
       "      <th>time</th>\n",
       "      <th>id</th>\n",
       "      <th>disturbance_year</th>\n",
       "      <th>doy</th>\n",
       "      <th>b2</th>\n",
       "      <th>b3</th>\n",
       "      <th>b4</th>\n",
       "      <th>b5</th>\n",
       "      <th>b6</th>\n",
       "      <th>b7</th>\n",
       "      <th>b8</th>\n",
       "      <th>b8a</th>\n",
       "      <th>b11</th>\n",
       "      <th>b12</th>\n",
       "    </tr>\n",
       "  </thead>\n",
       "  <tbody>\n",
       "    <tr>\n",
       "      <th>count</th>\n",
       "      <td>4074354</td>\n",
       "      <td>4.074354e+06</td>\n",
       "      <td>4.074354e+06</td>\n",
       "      <td>4.074354e+06</td>\n",
       "      <td>4.074354e+06</td>\n",
       "      <td>4.074354e+06</td>\n",
       "      <td>4.074354e+06</td>\n",
       "      <td>4.074354e+06</td>\n",
       "      <td>4.074354e+06</td>\n",
       "      <td>4.074354e+06</td>\n",
       "      <td>4.074354e+06</td>\n",
       "      <td>4.074354e+06</td>\n",
       "      <td>4.074354e+06</td>\n",
       "      <td>4.074354e+06</td>\n",
       "    </tr>\n",
       "    <tr>\n",
       "      <th>mean</th>\n",
       "      <td>2020-02-05 05:16:36.360551936</td>\n",
       "      <td>1.408675e+04</td>\n",
       "      <td>2.522988e+02</td>\n",
       "      <td>1.763385e+02</td>\n",
       "      <td>2.726073e+02</td>\n",
       "      <td>4.309495e+02</td>\n",
       "      <td>3.465769e+02</td>\n",
       "      <td>6.764691e+02</td>\n",
       "      <td>1.683092e+03</td>\n",
       "      <td>2.040237e+03</td>\n",
       "      <td>2.166979e+03</td>\n",
       "      <td>2.290828e+03</td>\n",
       "      <td>1.158527e+03</td>\n",
       "      <td>6.015298e+02</td>\n",
       "    </tr>\n",
       "    <tr>\n",
       "      <th>min</th>\n",
       "      <td>2017-01-01 00:00:00</td>\n",
       "      <td>1.000000e+00</td>\n",
       "      <td>0.000000e+00</td>\n",
       "      <td>1.000000e+00</td>\n",
       "      <td>0.000000e+00</td>\n",
       "      <td>1.000000e+00</td>\n",
       "      <td>0.000000e+00</td>\n",
       "      <td>0.000000e+00</td>\n",
       "      <td>0.000000e+00</td>\n",
       "      <td>0.000000e+00</td>\n",
       "      <td>1.000000e+00</td>\n",
       "      <td>0.000000e+00</td>\n",
       "      <td>0.000000e+00</td>\n",
       "      <td>1.000000e+00</td>\n",
       "    </tr>\n",
       "    <tr>\n",
       "      <th>25%</th>\n",
       "      <td>2018-09-24 00:00:00</td>\n",
       "      <td>7.038000e+03</td>\n",
       "      <td>0.000000e+00</td>\n",
       "      <td>1.060000e+02</td>\n",
       "      <td>1.560000e+02</td>\n",
       "      <td>2.810000e+02</td>\n",
       "      <td>1.750000e+02</td>\n",
       "      <td>4.600000e+02</td>\n",
       "      <td>1.268000e+03</td>\n",
       "      <td>1.529000e+03</td>\n",
       "      <td>1.629000e+03</td>\n",
       "      <td>1.741000e+03</td>\n",
       "      <td>7.300000e+02</td>\n",
       "      <td>3.360000e+02</td>\n",
       "    </tr>\n",
       "    <tr>\n",
       "      <th>50%</th>\n",
       "      <td>2020-03-15 00:00:00</td>\n",
       "      <td>1.406300e+04</td>\n",
       "      <td>0.000000e+00</td>\n",
       "      <td>1.760000e+02</td>\n",
       "      <td>2.230000e+02</td>\n",
       "      <td>3.710000e+02</td>\n",
       "      <td>2.570000e+02</td>\n",
       "      <td>5.880000e+02</td>\n",
       "      <td>1.547000e+03</td>\n",
       "      <td>1.856000e+03</td>\n",
       "      <td>1.971000e+03</td>\n",
       "      <td>2.092000e+03</td>\n",
       "      <td>1.011000e+03</td>\n",
       "      <td>4.810000e+02</td>\n",
       "    </tr>\n",
       "    <tr>\n",
       "      <th>75%</th>\n",
       "      <td>2021-06-16 00:00:00</td>\n",
       "      <td>2.113300e+04</td>\n",
       "      <td>0.000000e+00</td>\n",
       "      <td>2.450000e+02</td>\n",
       "      <td>3.220000e+02</td>\n",
       "      <td>5.030000e+02</td>\n",
       "      <td>3.990000e+02</td>\n",
       "      <td>7.840000e+02</td>\n",
       "      <td>1.924000e+03</td>\n",
       "      <td>2.327000e+03</td>\n",
       "      <td>2.464000e+03</td>\n",
       "      <td>2.610000e+03</td>\n",
       "      <td>1.441000e+03</td>\n",
       "      <td>7.090000e+02</td>\n",
       "    </tr>\n",
       "    <tr>\n",
       "      <th>max</th>\n",
       "      <td>2022-11-02 00:00:00</td>\n",
       "      <td>2.821200e+04</td>\n",
       "      <td>2.020000e+03</td>\n",
       "      <td>3.660000e+02</td>\n",
       "      <td>2.008700e+04</td>\n",
       "      <td>1.753400e+04</td>\n",
       "      <td>1.752400e+04</td>\n",
       "      <td>1.794000e+04</td>\n",
       "      <td>1.982700e+04</td>\n",
       "      <td>2.143900e+04</td>\n",
       "      <td>2.181100e+04</td>\n",
       "      <td>2.469400e+04</td>\n",
       "      <td>1.855400e+04</td>\n",
       "      <td>1.758700e+04</td>\n",
       "    </tr>\n",
       "    <tr>\n",
       "      <th>std</th>\n",
       "      <td>NaN</td>\n",
       "      <td>8.145028e+03</td>\n",
       "      <td>6.675001e+02</td>\n",
       "      <td>8.521531e+01</td>\n",
       "      <td>2.202539e+02</td>\n",
       "      <td>2.602215e+02</td>\n",
       "      <td>3.086128e+02</td>\n",
       "      <td>3.482985e+02</td>\n",
       "      <td>6.457464e+02</td>\n",
       "      <td>8.024451e+02</td>\n",
       "      <td>8.532377e+02</td>\n",
       "      <td>8.597645e+02</td>\n",
       "      <td>6.092414e+02</td>\n",
       "      <td>4.196677e+02</td>\n",
       "    </tr>\n",
       "  </tbody>\n",
       "</table>\n",
       "</div>"
      ],
      "text/plain": [
       "                                time            id  disturbance_year  \\\n",
       "count                        4074354  4.074354e+06      4.074354e+06   \n",
       "mean   2020-02-05 05:16:36.360551936  1.408675e+04      2.522988e+02   \n",
       "min              2017-01-01 00:00:00  1.000000e+00      0.000000e+00   \n",
       "25%              2018-09-24 00:00:00  7.038000e+03      0.000000e+00   \n",
       "50%              2020-03-15 00:00:00  1.406300e+04      0.000000e+00   \n",
       "75%              2021-06-16 00:00:00  2.113300e+04      0.000000e+00   \n",
       "max              2022-11-02 00:00:00  2.821200e+04      2.020000e+03   \n",
       "std                              NaN  8.145028e+03      6.675001e+02   \n",
       "\n",
       "                doy            b2            b3            b4            b5  \\\n",
       "count  4.074354e+06  4.074354e+06  4.074354e+06  4.074354e+06  4.074354e+06   \n",
       "mean   1.763385e+02  2.726073e+02  4.309495e+02  3.465769e+02  6.764691e+02   \n",
       "min    1.000000e+00  0.000000e+00  1.000000e+00  0.000000e+00  0.000000e+00   \n",
       "25%    1.060000e+02  1.560000e+02  2.810000e+02  1.750000e+02  4.600000e+02   \n",
       "50%    1.760000e+02  2.230000e+02  3.710000e+02  2.570000e+02  5.880000e+02   \n",
       "75%    2.450000e+02  3.220000e+02  5.030000e+02  3.990000e+02  7.840000e+02   \n",
       "max    3.660000e+02  2.008700e+04  1.753400e+04  1.752400e+04  1.794000e+04   \n",
       "std    8.521531e+01  2.202539e+02  2.602215e+02  3.086128e+02  3.482985e+02   \n",
       "\n",
       "                 b6            b7            b8           b8a           b11  \\\n",
       "count  4.074354e+06  4.074354e+06  4.074354e+06  4.074354e+06  4.074354e+06   \n",
       "mean   1.683092e+03  2.040237e+03  2.166979e+03  2.290828e+03  1.158527e+03   \n",
       "min    0.000000e+00  0.000000e+00  1.000000e+00  0.000000e+00  0.000000e+00   \n",
       "25%    1.268000e+03  1.529000e+03  1.629000e+03  1.741000e+03  7.300000e+02   \n",
       "50%    1.547000e+03  1.856000e+03  1.971000e+03  2.092000e+03  1.011000e+03   \n",
       "75%    1.924000e+03  2.327000e+03  2.464000e+03  2.610000e+03  1.441000e+03   \n",
       "max    1.982700e+04  2.143900e+04  2.181100e+04  2.469400e+04  1.855400e+04   \n",
       "std    6.457464e+02  8.024451e+02  8.532377e+02  8.597645e+02  6.092414e+02   \n",
       "\n",
       "                b12  \n",
       "count  4.074354e+06  \n",
       "mean   6.015298e+02  \n",
       "min    1.000000e+00  \n",
       "25%    3.360000e+02  \n",
       "50%    4.810000e+02  \n",
       "75%    7.090000e+02  \n",
       "max    1.758700e+04  \n",
       "std    4.196677e+02  "
      ]
     },
     "execution_count": 5,
     "metadata": {},
     "output_type": "execute_result"
    }
   ],
   "source": [
    "basicanalysis.get_desricption()"
   ]
  },
  {
   "cell_type": "code",
   "execution_count": 6,
   "id": "757995f7",
   "metadata": {},
   "outputs": [
    {
     "data": {
      "application/vnd.microsoft.datawrangler.viewer.v0+json": {
       "columns": [
        {
         "name": "index",
         "rawType": "object",
         "type": "string"
        },
        {
         "name": "0",
         "rawType": "int64",
         "type": "integer"
        }
       ],
       "ref": "2c00adda-59cf-4401-81d0-54bad2508261",
       "rows": [
        [
         "time",
         "0"
        ],
        [
         "id",
         "0"
        ],
        [
         "disturbance_year",
         "0"
        ],
        [
         "doy",
         "0"
        ],
        [
         "b2",
         "0"
        ],
        [
         "b3",
         "0"
        ],
        [
         "b4",
         "0"
        ],
        [
         "b5",
         "0"
        ],
        [
         "b6",
         "0"
        ],
        [
         "b7",
         "0"
        ],
        [
         "b8",
         "0"
        ],
        [
         "b8a",
         "0"
        ],
        [
         "b11",
         "0"
        ],
        [
         "b12",
         "0"
        ],
        [
         "species",
         "0"
        ]
       ],
       "shape": {
        "columns": 1,
        "rows": 15
       }
      },
      "text/plain": [
       "time                0\n",
       "id                  0\n",
       "disturbance_year    0\n",
       "doy                 0\n",
       "b2                  0\n",
       "b3                  0\n",
       "b4                  0\n",
       "b5                  0\n",
       "b6                  0\n",
       "b7                  0\n",
       "b8                  0\n",
       "b8a                 0\n",
       "b11                 0\n",
       "b12                 0\n",
       "species             0\n",
       "dtype: int64"
      ]
     },
     "execution_count": 6,
     "metadata": {},
     "output_type": "execute_result"
    }
   ],
   "source": [
    "basicanalysis.get_missing_counts()"
   ]
  },
  {
   "cell_type": "markdown",
   "id": "9c26b036",
   "metadata": {},
   "source": [
    "## Feature Engineering"
   ]
  },
  {
   "cell_type": "code",
   "execution_count": null,
   "id": "63ebc76e",
   "metadata": {},
   "outputs": [],
   "source": [
    "Basic Feature Engineering"
   ]
  },
  {
   "cell_type": "markdown",
   "id": "4243be7f",
   "metadata": {},
   "source": [
    "### Datetime Feature Engineering"
   ]
  },
  {
   "cell_type": "code",
   "execution_count": null,
   "id": "89e2dbf0",
   "metadata": {},
   "outputs": [],
   "source": [
    "df = dataloader.date_feature_extraction(df_base)"
   ]
  },
  {
   "cell_type": "markdown",
   "id": "fc0c4c45",
   "metadata": {},
   "source": [
    "### Advanced Feature Engineering"
   ]
  },
  {
   "cell_type": "code",
   "execution_count": null,
   "id": "6f8101a1",
   "metadata": {},
   "outputs": [],
   "source": [
    "calcindices = CalculateIndices()\n",
    "df = calcindices.add_all_indices(df)"
   ]
  },
  {
   "cell_type": "code",
   "execution_count": null,
   "id": "25dcd017",
   "metadata": {},
   "outputs": [],
   "source": [
    "df"
   ]
  },
  {
   "cell_type": "markdown",
   "id": "84f9bc56",
   "metadata": {},
   "source": [
    "## Exploratory Data Analysis"
   ]
  },
  {
   "cell_type": "markdown",
   "id": "8626b430",
   "metadata": {},
   "source": [
    "### Visualization Base-Dataframe "
   ]
  },
  {
   "cell_type": "code",
   "execution_count": null,
   "id": "0fdf9bdb",
   "metadata": {},
   "outputs": [],
   "source": [
    "hist = HistogramDataVisualization(df)\n",
    "hist.plot_unique_ids(\"year\")"
   ]
  },
  {
   "cell_type": "code",
   "execution_count": null,
   "id": "929708de",
   "metadata": {},
   "outputs": [],
   "source": [
    "hist.plot_unique_ids(\"month_num\")"
   ]
  },
  {
   "cell_type": "code",
   "execution_count": null,
   "id": "017bc605",
   "metadata": {},
   "outputs": [],
   "source": [
    "hist.plot_unique_ids(\"species\")"
   ]
  },
  {
   "cell_type": "code",
   "execution_count": null,
   "id": "914aa930",
   "metadata": {},
   "outputs": [],
   "source": [
    "hist.plot_median_id_distribution()"
   ]
  },
  {
   "cell_type": "markdown",
   "id": "3034f999",
   "metadata": {},
   "source": [
    "## Disturbed"
   ]
  },
  {
   "cell_type": "code",
   "execution_count": null,
   "id": "545aec8a",
   "metadata": {},
   "outputs": [],
   "source": [
    "# Boolesche Spalte erstellen\n",
    "df[\"disturbed\"] = df[\"disturbance_year\"].apply(lambda x: False if x == 0 else True)"
   ]
  },
  {
   "cell_type": "code",
   "execution_count": null,
   "id": "550791ad",
   "metadata": {},
   "outputs": [],
   "source": [
    "unique_values = df[\"disturbance_year\"].unique()\n",
    "print(f\"Nunique: {len(unique_values)}\")\n",
    "print(f\"Unique Values:\\n{unique_values}\")"
   ]
  },
  {
   "cell_type": "code",
   "execution_count": null,
   "id": "9890ebea",
   "metadata": {},
   "outputs": [],
   "source": [
    "dist_disturbance_df = df[\"disturbed\"].value_counts().reset_index()\n",
    "dist_disturbance_df.columns = [\"disturbed\", \"count\"]\n",
    "\n",
    "\n",
    "plt.figure(figsize=(8, 5))\n",
    "plt.bar(dist_disturbance_df[\"disturbed\"].astype(str), dist_disturbance_df[\"count\"])\n",
    "plt.xlabel(\"Disturbed\")\n",
    "plt.ylabel(\"Count\")\n",
    "plt.title(\"Comparison of distrubed values\")\n",
    "plt.grid()\n",
    "plt.show()\n"
   ]
  },
  {
   "cell_type": "code",
   "execution_count": null,
   "id": "c09d7cfe",
   "metadata": {},
   "outputs": [],
   "source": [
    "filtered = df[df[\"disturbance_year\"] != 0]\n",
    "crosstab = pd.crosstab(filtered[\"disturbance_year\"], filtered[\"species\"])\n",
    "crosstab.plot(kind=\"bar\", stacked=True, figsize=(10, 6))\n",
    "\n",
    "plt.xlabel(\"Disturbance Year\")\n",
    "plt.ylabel(\"Anzahl\")\n",
    "plt.title(\"Distribution of Disturbance Year by Species\")\n",
    "plt.legend(title=\"Species\")\n",
    "plt.tight_layout()\n",
    "plt.grid()\n",
    "plt.show()"
   ]
  },
  {
   "cell_type": "code",
   "execution_count": null,
   "id": "4a7f6320",
   "metadata": {},
   "outputs": [],
   "source": [
    "filtered.sort_values(by=\"disturbance_year\", ascending=True)"
   ]
  },
  {
   "cell_type": "code",
   "execution_count": null,
   "id": "63c4813c",
   "metadata": {},
   "outputs": [],
   "source": [
    "filtered = df[df[\"disturbance_year\"] != 0]\n",
    "id_df = filtered[filtered[\"id\"]==11759]\n",
    "id_df"
   ]
  },
  {
   "cell_type": "code",
   "execution_count": null,
   "id": "cfb1cbc4",
   "metadata": {},
   "outputs": [],
   "source": [
    "band_columns = [col for col in id_df.columns if col.startswith(\"b\")]\n",
    "fig = px.line(\n",
    "    id_df,\n",
    "    x=\"time\",\n",
    "    y= band_columns,\n",
    "    markers=\"o\")\n",
    "fig.show()"
   ]
  },
  {
   "cell_type": "markdown",
   "id": "c781a189",
   "metadata": {},
   "source": [
    "## Correlation Analysis"
   ]
  },
  {
   "cell_type": "code",
   "execution_count": null,
   "id": "c6b0ddd1",
   "metadata": {},
   "outputs": [],
   "source": [
    "correlation = CorrelationAnalysis(df)\n",
    "corr_matrix = correlation.get_correlation_matrix()\n",
    "corr_matrix"
   ]
  },
  {
   "cell_type": "code",
   "execution_count": null,
   "id": "ca100235",
   "metadata": {},
   "outputs": [],
   "source": [
    "top_corr_df = correlation.get_top_correlations(top_n=15)\n",
    "plot_top_correlations(top_corr_df)"
   ]
  },
  {
   "cell_type": "code",
   "execution_count": null,
   "id": "65acf2fb",
   "metadata": {},
   "outputs": [],
   "source": [
    "correlation.plot_correlation_matrix()"
   ]
  },
  {
   "cell_type": "code",
   "execution_count": null,
   "id": "af118122",
   "metadata": {},
   "outputs": [],
   "source": [
    "correlation.plot_correlation_distribution(sample_size= 100)"
   ]
  },
  {
   "cell_type": "markdown",
   "id": "82409757",
   "metadata": {},
   "source": [
    "## Explore Spectral"
   ]
  },
  {
   "cell_type": "code",
   "execution_count": null,
   "id": "3ca65a33",
   "metadata": {},
   "outputs": [],
   "source": [
    "spectral = SpectralBandPlotter(df)\n",
    "spectral.plot_all_years(sample_size=500, showfliers=True)"
   ]
  },
  {
   "cell_type": "code",
   "execution_count": null,
   "id": "2fe4c47f",
   "metadata": {},
   "outputs": [],
   "source": [
    "spectral.plot_per_year(sample_size=500)"
   ]
  },
  {
   "cell_type": "code",
   "execution_count": null,
   "id": "19d18859",
   "metadata": {},
   "outputs": [],
   "source": [
    "spectral.plot_species_season_distribution()"
   ]
  },
  {
   "cell_type": "code",
   "execution_count": null,
   "id": "406dbbf1",
   "metadata": {},
   "outputs": [],
   "source": []
  },
  {
   "cell_type": "markdown",
   "id": "108411ba",
   "metadata": {},
   "source": [
    "## Time Series Analysis"
   ]
  },
  {
   "cell_type": "code",
   "execution_count": null,
   "id": "5e3f4274",
   "metadata": {},
   "outputs": [],
   "source": [
    "data = df[\"date_diff\"].dropna()\n",
    "median_val = data.median()\n",
    "\n",
    "plt.figure(figsize=(10, 5))\n",
    "plt.hist(data, bins=20, color=\"black\")\n",
    "\n",
    "plt.axvline(\n",
    "    median_val,\n",
    "    color=\"red\",\n",
    "    linestyle=\"--\",\n",
    "    linewidth=2,\n",
    "    label=f\"Median: {median_val:.1f}\",\n",
    ")\n",
    "\n",
    "plt.title(\"Distribution of Time Gaps (in Days)\")\n",
    "plt.xlabel(\"Days Between Observations\")\n",
    "plt.ylabel(\"Count\")\n",
    "plt.legend()\n",
    "plt.grid(True)\n",
    "plt.tight_layout()\n",
    "plt.show()"
   ]
  },
  {
   "cell_type": "code",
   "execution_count": null,
   "id": "bc93514a",
   "metadata": {},
   "outputs": [],
   "source": [
    "ts_agg = TimeSeriesAggregate(id_df)\n",
    "df_2w = ts_agg.aggregate_timeseries(freq=\"2W\", method=\"median\")\n",
    "dataloader = DataLoader()\n",
    "df_2w_features = dataloader.date_feature_extraction(df_2w)"
   ]
  },
  {
   "cell_type": "code",
   "execution_count": null,
   "id": "967d37b0",
   "metadata": {},
   "outputs": [],
   "source": [
    "spectral = SpectralBandPlotter(df_2w_features)\n",
    "spectral.plot_spectral_development_over_years(addition=\"aggregated\")"
   ]
  },
  {
   "cell_type": "code",
   "execution_count": null,
   "id": "bd5a4aac",
   "metadata": {},
   "outputs": [],
   "source": []
  }
 ],
 "metadata": {
  "kernelspec": {
   "display_name": "venv",
   "language": "python",
   "name": "python3"
  },
  "language_info": {
   "codemirror_mode": {
    "name": "ipython",
    "version": 3
   },
   "file_extension": ".py",
   "mimetype": "text/x-python",
   "name": "python",
   "nbconvert_exporter": "python",
   "pygments_lexer": "ipython3",
   "version": "3.12.3"
  }
 },
 "nbformat": 4,
 "nbformat_minor": 5
}
