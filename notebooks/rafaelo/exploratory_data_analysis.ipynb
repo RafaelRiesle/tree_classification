{
 "cells": [
  {
   "cell_type": "markdown",
   "id": "2241968a",
   "metadata": {},
   "source": [
    "# Tree Classification"
   ]
  },
  {
   "cell_type": "code",
   "execution_count": null,
   "id": "1154db1e",
   "metadata": {},
   "outputs": [],
   "source": [
    "import os\n",
    "import sys\n",
    "import matplotlib.pyplot as plt\n",
    "import pandas as pd\n",
    "import plotly.express as px\n",
    "\n",
    "module_path = os.path.abspath(os.path.join(\"..\"))\n",
    "if module_path not in sys.path:\n",
    "    sys.path.append(module_path)\n",
    "\n",
    "from utils.data_loader import DataLoader\n",
    "from utils.calculate_indices import CalculateIndices\n",
    "from utils.basic_analysis import BasicDataAnalysis\n",
    "from utils.visualization_histogram import HistogramDataVisualization\n",
    "from utils.time_series_aggregate import TimeSeriesAggregate\n",
    "from utils.visualization_spectral import SpectralBandPlotter\n",
    "\n",
    "\n",
    "from utils.data_loader import DataLoader\n",
    "from utils.basic_analysis import BasicDataAnalysis\n",
    "\n",
    "from utils.correlation_analysis import CorrelationAnalysis\n",
    "\n",
    "from utils.time_series_aggregate import TimeSeriesAggregate\n",
    "from utils.visualization_time_series import plot_date_diff_distribution\n",
    "\n",
    "\n",
    "from utils.visualization_spectral import SpectralBandPlotter\n",
    "from utils.visualization_histogram import HistogramDataVisualization\n",
    "from utils.visualization_function import (\n",
    "    plot_intervals_timestamps,\n",
    "    plot_top_correlations,\n",
    "    plot_autocorrelation,\n",
    "    plot_band_differences,\n",
    ")"
   ]
  },
  {
   "cell_type": "code",
   "execution_count": null,
   "id": "92656350",
   "metadata": {},
   "outputs": [],
   "source": [
    "dataloader = DataLoader()\n",
    "df_base = dataloader.load_transform(\"../../data/raw_trainset.csv\")"
   ]
  },
  {
   "cell_type": "markdown",
   "id": "3e408bb2",
   "metadata": {},
   "source": [
    "## Basic Data Analysis"
   ]
  },
  {
   "cell_type": "code",
   "execution_count": null,
   "id": "3d3cd6ca",
   "metadata": {},
   "outputs": [],
   "source": [
    "basicanalysis = BasicDataAnalysis(df_base)\n",
    "basicanalysis.get_dtypes()"
   ]
  },
  {
   "cell_type": "code",
   "execution_count": null,
   "id": "a8679948",
   "metadata": {},
   "outputs": [],
   "source": [
    "print(f\"Raw Dataset cols:{basicanalysis.get_num_cols()}\")\n",
    "print(f\"Raw Dataset rows:{basicanalysis.get_num_rows()}\")"
   ]
  },
  {
   "cell_type": "code",
   "execution_count": null,
   "id": "98447354",
   "metadata": {},
   "outputs": [],
   "source": [
    "basicanalysis.get_desricption()"
   ]
  },
  {
   "cell_type": "code",
   "execution_count": null,
   "id": "757995f7",
   "metadata": {},
   "outputs": [],
   "source": [
    "basicanalysis.get_missing_counts()"
   ]
  },
  {
   "cell_type": "markdown",
   "id": "9c26b036",
   "metadata": {},
   "source": [
    "## Feature Engineering"
   ]
  },
  {
   "cell_type": "markdown",
   "id": "63ebc76e",
   "metadata": {},
   "source": [
    "### Basic Feature Engineering"
   ]
  },
  {
   "cell_type": "code",
   "execution_count": null,
   "id": "88c3d7d8",
   "metadata": {},
   "outputs": [],
   "source": [
    "df = dataloader.feature_extraction(df_base)"
   ]
  },
  {
   "cell_type": "markdown",
   "id": "4243be7f",
   "metadata": {},
   "source": [
    "### Datetime Feature Engineering"
   ]
  },
  {
   "cell_type": "code",
   "execution_count": null,
   "id": "89e2dbf0",
   "metadata": {},
   "outputs": [],
   "source": [
    "df = dataloader.date_feature_extraction(df)"
   ]
  },
  {
   "cell_type": "markdown",
   "id": "fc0c4c45",
   "metadata": {},
   "source": [
    "### Advanced Feature Engineering"
   ]
  },
  {
   "cell_type": "code",
   "execution_count": null,
   "id": "6f8101a1",
   "metadata": {},
   "outputs": [],
   "source": [
    "calcindices = CalculateIndices()\n",
    "df = calcindices.add_all_indices(df)"
   ]
  },
  {
   "cell_type": "markdown",
   "id": "84f9bc56",
   "metadata": {},
   "source": [
    "## Exploratory Data Analysis"
   ]
  },
  {
   "cell_type": "markdown",
   "id": "8626b430",
   "metadata": {},
   "source": [
    "### Visualization Base-Dataframe "
   ]
  },
  {
   "cell_type": "code",
   "execution_count": null,
   "id": "0fdf9bdb",
   "metadata": {},
   "outputs": [],
   "source": [
    "hist = HistogramDataVisualization(df)\n",
    "hist.plot_unique_ids(\"year\")"
   ]
  },
  {
   "cell_type": "code",
   "execution_count": null,
   "id": "929708de",
   "metadata": {},
   "outputs": [],
   "source": [
    "hist.plot_unique_ids(\"month_num\")"
   ]
  },
  {
   "cell_type": "code",
   "execution_count": null,
   "id": "017bc605",
   "metadata": {},
   "outputs": [],
   "source": [
    "hist.plot_unique_ids(\"species\")"
   ]
  },
  {
   "cell_type": "code",
   "execution_count": null,
   "id": "914aa930",
   "metadata": {},
   "outputs": [],
   "source": [
    "hist.plot_median_id_distribution()"
   ]
  },
  {
   "cell_type": "markdown",
   "id": "c781a189",
   "metadata": {},
   "source": [
    "## Correlation Analysis"
   ]
  },
  {
   "cell_type": "code",
   "execution_count": null,
   "id": "c6b0ddd1",
   "metadata": {},
   "outputs": [],
   "source": [
    "correlation = CorrelationAnalysis(df)\n",
    "corr_matrix = correlation.get_correlation_matrix()\n",
    "corr_matrix"
   ]
  },
  {
   "cell_type": "code",
   "execution_count": null,
   "id": "65acf2fb",
   "metadata": {},
   "outputs": [],
   "source": [
    "correlation.plot_correlation_matrix()"
   ]
  },
  {
   "cell_type": "code",
   "execution_count": null,
   "id": "ca100235",
   "metadata": {},
   "outputs": [],
   "source": [
    "top_corr_df = correlation.get_top_correlations(top_n=15)\n",
    "plot_top_correlations(top_corr_df)"
   ]
  },
  {
   "cell_type": "code",
   "execution_count": null,
   "id": "af118122",
   "metadata": {},
   "outputs": [],
   "source": [
    "correlation.plot_correlation_distribution(sample_size=100)"
   ]
  },
  {
   "cell_type": "markdown",
   "id": "3034f999",
   "metadata": {},
   "source": [
    "## Disturbed"
   ]
  },
  {
   "cell_type": "code",
   "execution_count": null,
   "id": "550791ad",
   "metadata": {},
   "outputs": [],
   "source": [
    "unique_values = df[\"disturbance_year\"].unique()\n",
    "print(f\"Nunique: {len(unique_values)}\")\n",
    "print(f\"Unique Values:\\n{unique_values}\")"
   ]
  },
  {
   "cell_type": "code",
   "execution_count": null,
   "id": "9890ebea",
   "metadata": {},
   "outputs": [],
   "source": [
    "dist_disturbance_df = df[\"disturbed\"].value_counts().reset_index()\n",
    "dist_disturbance_df.columns = [\"disturbed\", \"count\"]\n",
    "\n",
    "\n",
    "plt.figure(figsize=(8, 5))\n",
    "plt.bar(dist_disturbance_df[\"disturbed\"].astype(str), dist_disturbance_df[\"count\"])\n",
    "plt.xlabel(\"Disturbed\")\n",
    "plt.ylabel(\"Count\")\n",
    "plt.title(\"Comparison of distrubed values\")\n",
    "plt.grid()\n",
    "plt.show()\n"
   ]
  },
  {
   "cell_type": "code",
   "execution_count": null,
   "id": "c09d7cfe",
   "metadata": {},
   "outputs": [],
   "source": [
    "filtered = df[df[\"disturbance_year\"] != 0]\n",
    "crosstab = pd.crosstab(filtered[\"disturbance_year\"], filtered[\"species\"])\n",
    "crosstab.plot(kind=\"bar\", stacked=True, figsize=(10, 6))\n",
    "\n",
    "plt.xlabel(\"Disturbance Year\")\n",
    "plt.ylabel(\"Anzahl\")\n",
    "plt.title(\"Distribution of Disturbance Year by Species\")\n",
    "plt.legend(title=\"Species\")\n",
    "plt.tight_layout()\n",
    "plt.grid()\n",
    "plt.show()"
   ]
  },
  {
   "cell_type": "code",
   "execution_count": null,
   "id": "4a7f6320",
   "metadata": {},
   "outputs": [],
   "source": [
    "filtered.sort_values(by=\"disturbance_year\", ascending=True)"
   ]
  },
  {
   "cell_type": "code",
   "execution_count": null,
   "id": "63c4813c",
   "metadata": {},
   "outputs": [],
   "source": [
    "filtered = df[df[\"disturbance_year\"] != 0]\n",
    "id_df = filtered[filtered[\"id\"] == 11759]\n",
    "id_df"
   ]
  },
  {
   "cell_type": "code",
   "execution_count": null,
   "id": "cfb1cbc4",
   "metadata": {},
   "outputs": [],
   "source": [
    "band_columns = [col for col in id_df.columns if col.startswith(\"b\")]\n",
    "fig = px.line(id_df, x=\"time\", y=band_columns, markers=\"o\")\n",
    "fig.show()"
   ]
  },
  {
   "cell_type": "markdown",
   "id": "82409757",
   "metadata": {},
   "source": [
    "## Explore Spectral"
   ]
  },
  {
   "cell_type": "code",
   "execution_count": null,
   "id": "3ca65a33",
   "metadata": {},
   "outputs": [],
   "source": [
    "spectral = SpectralBandPlotter(df)\n",
    "spectral.plot_all_years(sample_size=500, showfliers=True)"
   ]
  },
  {
   "cell_type": "code",
   "execution_count": null,
   "id": "2fe4c47f",
   "metadata": {},
   "outputs": [],
   "source": [
    "spectral.plot_per_year(sample_size=500)"
   ]
  },
  {
   "cell_type": "code",
   "execution_count": null,
   "id": "19d18859",
   "metadata": {},
   "outputs": [],
   "source": [
    "spectral.plot_species_season_distribution()"
   ]
  },
  {
   "cell_type": "markdown",
   "id": "108411ba",
   "metadata": {},
   "source": [
    "## Time Series Analysis"
   ]
  },
  {
   "cell_type": "code",
   "execution_count": null,
   "id": "5e3f4274",
   "metadata": {},
   "outputs": [],
   "source": [
    "plot_date_diff_distribution(df)"
   ]
  },
  {
   "cell_type": "code",
   "execution_count": null,
   "id": "bc93514a",
   "metadata": {},
   "outputs": [],
   "source": [
    "ts_agg = TimeSeriesAggregate(id_df)\n",
    "df_2w = ts_agg.aggregate_timeseries(freq=\"2W\", method=\"median\")\n",
    "dataloader = DataLoader()\n",
    "df_2w_features = dataloader.date_feature_extraction(df_2w)"
   ]
  },
  {
   "cell_type": "code",
   "execution_count": null,
   "id": "967d37b0",
   "metadata": {},
   "outputs": [],
   "source": [
    "spectral = SpectralBandPlotter(df_2w_features)\n",
    "spectral.plot_spectral_development_over_years(addition=\"aggregated\")"
   ]
  },
  {
   "cell_type": "code",
   "execution_count": null,
   "id": "bd5a4aac",
   "metadata": {},
   "outputs": [],
   "source": [
    "plot_intervals_timestamps(df_2w_features, addition=\"aggregated\")"
   ]
  },
  {
   "cell_type": "markdown",
   "id": "9eefb896",
   "metadata": {},
   "source": [
    "### Autocorrelation"
   ]
  },
  {
   "cell_type": "code",
   "execution_count": null,
   "id": "af09738b",
   "metadata": {},
   "outputs": [],
   "source": [
    "plot_autocorrelation(df_2w_features, \"ndvi\")"
   ]
  },
  {
   "cell_type": "code",
   "execution_count": null,
   "id": "28e9c16d",
   "metadata": {},
   "outputs": [],
   "source": [
    "plot_band_differences(df_2w_features)"
   ]
  }
 ],
 "metadata": {
  "kernelspec": {
   "display_name": "venv",
   "language": "python",
   "name": "python3"
  },
  "language_info": {
   "codemirror_mode": {
    "name": "ipython",
    "version": 3
   },
   "file_extension": ".py",
   "mimetype": "text/x-python",
   "name": "python",
   "nbconvert_exporter": "python",
   "pygments_lexer": "ipython3",
   "version": "3.12.3"
  }
 },
 "nbformat": 4,
 "nbformat_minor": 5
}
