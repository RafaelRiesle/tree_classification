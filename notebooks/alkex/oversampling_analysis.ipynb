{
 "cells": [
  {
   "cell_type": "code",
   "execution_count": null,
   "id": "fe8bd8b7",
   "metadata": {},
   "outputs": [],
   "source": [
    "import pandas as pd\n",
    "import matplotlib.pyplot as plt\n",
    "import plotly.express as px\n",
    "import seaborn as sns\n",
    "import pandas as pd\n",
    "import warnings\n",
    "from pipelines.processing.processing_steps.data_augmentation import DataAugmentation\n",
    "warnings.filterwarnings(\"ignore\")"
   ]
  },
  {
   "cell_type": "code",
   "execution_count": null,
   "id": "0fec331b",
   "metadata": {},
   "outputs": [],
   "source": [
    "df_trees_raw = pd.read_csv(\"../../data/raw/raw_trainset.csv\")\n",
    "df_trees = df_trees_raw.copy()\n",
    "df_trees[\"time\"] = pd.to_datetime(df_trees[\"time\"])\n",
    "df_aug_all = pd.read_csv(\"result.csv\")\n",
    "df_aug_all[\"time\"] = pd.to_datetime(df_aug_all[\"time\"])"
   ]
  },
  {
   "cell_type": "code",
   "execution_count": null,
   "id": "1831ae03",
   "metadata": {},
   "outputs": [],
   "source": [
    "df_trees = df_trees.sort_values(['id', 'time'])\n",
    "df_trees['time_diff'] = df_trees.groupby('id')['time'].diff()\n",
    "mean_time_diff = df_trees.groupby('species')['time_diff'].mean()\n",
    "\n",
    "print(\"AVG. DAYS PER SPECIES\", mean_time_diff)\n",
    "df_trees.drop(columns=\"time_diff\")"
   ]
  },
  {
   "cell_type": "code",
   "execution_count": null,
   "id": "ceb7b62a",
   "metadata": {},
   "outputs": [],
   "source": [
    "filter = df_trees.groupby(\"id\").count().sort_values(\"time\", ascending=True)\n",
    "filter[filter[\"time\"] == 100]"
   ]
  },
  {
   "cell_type": "markdown",
   "id": "0610f80e",
   "metadata": {},
   "source": [
    "#### Goal:\n",
    "\n",
    "#### - All species should be equaly represented\n",
    "#### - All datapoints should be 2 week from one another appart --> 152 Datapoints per ID"
   ]
  },
  {
   "cell_type": "code",
   "execution_count": null,
   "id": "13fc7746",
   "metadata": {},
   "outputs": [],
   "source": [
    "days = df_trees.time.max() - df_trees.time.min()\n",
    "print(f\"Ziel: {days/14} Datenpunkte pro Zeitreihe\")"
   ]
  },
  {
   "cell_type": "code",
   "execution_count": null,
   "id": "628363f6",
   "metadata": {},
   "outputs": [],
   "source": [
    "px.histogram(df_trees[df_trees[\"species\"] == \"Norway_spruce\"].groupby(\"id\").count(), x=\"species\")"
   ]
  },
  {
   "cell_type": "code",
   "execution_count": null,
   "id": "d847f6a8",
   "metadata": {},
   "outputs": [],
   "source": [
    "px.line(df_trees[df_trees[\"id\"]==15037], x=\"time\", y=\"b6\")"
   ]
  },
  {
   "cell_type": "code",
   "execution_count": null,
   "id": "88801ecd",
   "metadata": {},
   "outputs": [],
   "source": [
    "px.line(df_trees[df_trees[\"id\"]==21027], x=\"time\", y=\"b6\")"
   ]
  },
  {
   "cell_type": "code",
   "execution_count": null,
   "id": "0489684e",
   "metadata": {},
   "outputs": [],
   "source": [
    "px.line(df_trees[df_trees[\"id\"]==11], x=\"time\", y=\"b6\")"
   ]
  },
  {
   "cell_type": "code",
   "execution_count": null,
   "id": "b8495f6d",
   "metadata": {},
   "outputs": [],
   "source": [
    "example_id = 8999"
   ]
  },
  {
   "cell_type": "code",
   "execution_count": null,
   "id": "66135d4c",
   "metadata": {},
   "outputs": [],
   "source": [
    "df_trees[\"year\"] = df_trees[\"time\"].dt.year\n",
    "df_aug_all[\"year\"] = df_aug_all[\"time\"].dt.year\n",
    "\n",
    "def compare_species_year(year, id, band=\"b12\"):\n",
    "\n",
    "    df_orig = df_trees[\n",
    "        (df_trees[\"year\"] == year) & (df_trees[\"id\"] == id)\n",
    "    ].sort_values(\"time\")\n",
    "\n",
    "    df_aug = df_aug_all[\n",
    "        (df_aug_all[\"year\"] == year) & (df_aug_all[\"id\"] == id)\n",
    "    ].sort_values(\"time\")\n",
    "\n",
    "\n",
    "\n",
    "    # Plot\n",
    "    plt.figure(figsize=(10, 5))\n",
    "    sns.lineplot(x=\"time\", y=band, data=df_orig, label=\"Original\", linewidth=2)\n",
    "    sns.lineplot(x=\"time\", y=band, data=df_aug, label=\"Augmented\", linewidth=2, linestyle=\"--\")\n",
    "\n",
    "    plt.title(f\"Example: {id} – {band} – Year {year}\")\n",
    "    plt.xlabel(\"Zeit\")\n",
    "    plt.ylabel(\"Wert\")\n",
    "    plt.legend()\n",
    "    plt.tight_layout()\n",
    "    plt.show()\n",
    "\n",
    "compare_species_year(2019, example_id,\"b12\")"
   ]
  },
  {
   "cell_type": "code",
   "execution_count": null,
   "id": "ff91e5ff",
   "metadata": {},
   "outputs": [],
   "source": [
    "def compare_species_year(id, band=\"b12\"):\n",
    "\n",
    "    df_orig = df_trees[df_trees[\"id\"] == id].sort_values(\"time\")\n",
    "    df_aug = df_aug_all[df_aug_all[\"id\"] == id].sort_values(\"time\")\n",
    "\n",
    "    plt.figure(figsize=(10, 5))\n",
    "    sns.lineplot(x=\"time\", y=band, data=df_orig, label=\"Original\", linewidth=2)\n",
    "    sns.lineplot(x=\"time\", y=band, data=df_aug, label=\"Augmented\", linewidth=2, linestyle=\":\")\n",
    "    plt.scatter(df_orig[\"time\"], df_orig[band], color=\"blue\", s=40, alpha=0.6)\n",
    "    plt.scatter(df_aug[\"time\"], df_aug[band], color=\"orange\", s=40, alpha=0.6)\n",
    "\n",
    "    plt.title(f\"Example: {id} – {band}\")\n",
    "    plt.xlabel(\"Zeit\")\n",
    "    plt.ylabel(\"Wert\")\n",
    "    plt.legend()\n",
    "    plt.tight_layout()\n",
    "    plt.show()\n",
    "\n",
    "compare_species_year(example_id,\"b12\")"
   ]
  },
  {
   "cell_type": "code",
   "execution_count": null,
   "id": "e814b1d7",
   "metadata": {},
   "outputs": [],
   "source": [
    "print(f\"Old dataframe lenght for ID {example_id}: {len(df_trees[df_trees[\"id\"]==example_id])}\")\n",
    "print(f\"New dataframe lenght for ID {example_id}: {len(df_aug_all[df_aug_all[\"id\"]==example_id])}\")"
   ]
  },
  {
   "cell_type": "code",
   "execution_count": null,
   "id": "f48ed47e",
   "metadata": {},
   "outputs": [],
   "source": [
    "#px.histogram(df_trees, x=\"species\", title=\"New species distribution\")"
   ]
  },
  {
   "cell_type": "code",
   "execution_count": null,
   "id": "85d2ade1",
   "metadata": {},
   "outputs": [],
   "source": [
    "#px.histogram(df_aug_all, x=\"species\", title=\"New species distribution\")"
   ]
  },
  {
   "cell_type": "code",
   "execution_count": null,
   "id": "dc6fb891",
   "metadata": {},
   "outputs": [],
   "source": [
    "filter = df_trees.groupby(\"id\").size()\n",
    "ids_le_max = filter[filter >= 152].index\n",
    "df_ids_max = df_trees[df_trees[\"id\"].isin(ids_le_max)].copy()"
   ]
  },
  {
   "cell_type": "code",
   "execution_count": null,
   "id": "3f51fa63",
   "metadata": {},
   "outputs": [],
   "source": [
    "df_trees"
   ]
  },
  {
   "cell_type": "code",
   "execution_count": null,
   "id": "efaaa1d0",
   "metadata": {},
   "outputs": [],
   "source": [
    "df_aug_all[df_aug_all[\"id\"]==\"10536_aug\"].sort_values(by=\"time\")"
   ]
  },
  {
   "cell_type": "code",
   "execution_count": null,
   "id": "8655f804",
   "metadata": {},
   "outputs": [],
   "source": [
    "df_not_in_trees = df_aug_all[~df_aug_all.index.isin(df_trees.index)]\n",
    "df_not_in_trees"
   ]
  },
  {
   "cell_type": "code",
   "execution_count": null,
   "id": "575480ce",
   "metadata": {},
   "outputs": [],
   "source": [
    "px.histogram(df_aug_all, x=\"species\", title=\"New species distribution\")"
   ]
  }
 ],
 "metadata": {
  "kernelspec": {
   "display_name": "trees_venv (3.12.3)",
   "language": "python",
   "name": "python3"
  },
  "language_info": {
   "codemirror_mode": {
    "name": "ipython",
    "version": 3
   },
   "file_extension": ".py",
   "mimetype": "text/x-python",
   "name": "python",
   "nbconvert_exporter": "python",
   "pygments_lexer": "ipython3",
   "version": "3.12.3"
  }
 },
 "nbformat": 4,
 "nbformat_minor": 5
}
