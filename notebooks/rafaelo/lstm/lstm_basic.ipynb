{
 "cells": [
  {
   "cell_type": "markdown",
   "id": "be6b704d",
   "metadata": {},
   "source": [
    "# LSTM-Model Basic"
   ]
  },
  {
   "cell_type": "code",
   "execution_count": 1,
   "id": "7554bf97",
   "metadata": {},
   "outputs": [
    {
     "name": "stderr",
     "output_type": "stream",
     "text": [
      "Seed set to 42\n"
     ]
    }
   ],
   "source": [
    "import pandas as pd\n",
    "import numpy as np\n",
    "import matplotlib.pyplot as plt\n",
    "import torch\n",
    "import torch.nn as nn\n",
    "import torch.optim as optim\n",
    "import pytorch_lightning as pl\n",
    "from torch.utils.data import Dataset\n",
    "from torchmetrics import Accuracy\n",
    "import pandas as pd\n",
    "\n",
    "from sklearn.metrics import accuracy_score\n",
    "from collections import Counter\n",
    "from sklearn.preprocessing import LabelEncoder\n",
    "from lstm_utils.sequence_model import SequenceModel\n",
    "from lstm_utils.species_dataset import SpeciesDataset\n",
    "from lstm_utils.data_loader import DataLoader\n",
    "from lstm_utils.species_data_module import SpeciesDataModule\n",
    "from lstm_utils.species_predictor import SpeciesPredictor"
   ]
  },
  {
   "cell_type": "code",
   "execution_count": 2,
   "id": "3488ca25",
   "metadata": {},
   "outputs": [
    {
     "name": "stderr",
     "output_type": "stream",
     "text": [
      "Seed set to 42\n"
     ]
    },
    {
     "name": "stdout",
     "output_type": "stream",
     "text": [
      "Using device: cpu\n"
     ]
    }
   ],
   "source": [
    "pl.seed_everything(42)\n",
    "device = \"cuda\" if torch.cuda.is_available() else \"cpu\"\n",
    "print(f\"Using device: {device}\")"
   ]
  },
  {
   "cell_type": "code",
   "execution_count": 3,
   "id": "9bc07378",
   "metadata": {},
   "outputs": [],
   "source": [
    "def get_ids_with_most_common_sample_count(df, id_column=\"id\"):\n",
    "    counts = df[id_column].value_counts()\n",
    "    most_common_count = counts.value_counts().idxmax()\n",
    "    matching_ids = counts[counts == most_common_count].index.tolist()\n",
    "    print(f\"Most common sample count: {most_common_count}\")\n",
    "    return matching_ids\n",
    "\n",
    "\n",
    "def df_to_sequences(df):\n",
    "    sequences = []\n",
    "    for _, group in df.groupby(\"id\"):\n",
    "        X = group[feature_columns]\n",
    "        y = group[label_column].iloc[0]  \n",
    "        sequences.append((X, y))\n",
    "    return sequences\n",
    "\n",
    "\n",
    "def weighted_accuracy(y_true, y_pred):\n",
    "    class_counts = Counter(y_true)\n",
    "    sample_weights = [\n",
    "        1.0 / class_counts[y] for y in y_true\n",
    "    ]  \n",
    "    return accuracy_score(y_true, y_pred, sample_weight=sample_weights)\n",
    "\n",
    "\n",
    "\n",
    "def get_predictions(model, dataloader, device=\"cpu\"):\n",
    "    model.eval()\n",
    "    predictions = []\n",
    "    labels = []\n",
    "    with torch.no_grad():\n",
    "        for batch in dataloader:\n",
    "            seq_batch = batch[\"sequence\"].to(device)\n",
    "            label_batch = batch[\"label\"].to(device)\n",
    "            outputs = model(seq_batch)\n",
    "            preds = torch.argmax(outputs, dim=1)\n",
    "            predictions.extend(preds.cpu().tolist())\n",
    "            labels.extend(label_batch.cpu().tolist())\n",
    "    return labels, predictions"
   ]
  },
  {
   "cell_type": "code",
   "execution_count": 4,
   "id": "2d090579",
   "metadata": {},
   "outputs": [],
   "source": [
    "train_path = \"../../../data/baseline_training/trainset.csv\"\n",
    "val_path = \"../../../data/baseline_training/valset.csv\"\n",
    "test_path = \"../../../data/baseline_training/testset.csv\"\n",
    "\n",
    "\n",
    "\n",
    "loader = DataLoader()\n",
    "train_df = loader.load_transform(train_path)\n",
    "val_df = loader.load_transform(val_path)\n",
    "test_df = loader.load_transform(test_path)\n",
    "\n",
    "# train_ids = set(get_ids_with_most_common_sample_count(train_df))\n",
    "# val_ids   = set(get_ids_with_most_common_sample_count(val_df))\n",
    "# test_ids  = set(get_ids_with_most_common_sample_count(test_df))\n",
    "\n",
    "\n",
    "\n",
    "# train_df = train_df[train_df[\"id\"].isin(train_ids)].copy()\n",
    "# val_df   = val_df[val_df[\"id\"].isin(val_ids)].copy()\n",
    "# test_df  = test_df[test_df[\"id\"].isin(test_ids)].copy()\n",
    "\n",
    "# print(train_df.shape)\n",
    "# print(val_df.shape)\n",
    "# print(test_df.shape)"
   ]
  },
  {
   "cell_type": "code",
   "execution_count": 5,
   "id": "96937801",
   "metadata": {},
   "outputs": [
    {
     "data": {
      "text/plain": [
       "(       doy     b2     b3     b4     b5      b6      b7      b8     b8a  \\\n",
       " 0     13.0  176.0  229.0   69.0  329.0   996.0  1113.0  1067.0  1222.0   \n",
       " 1     27.0  382.0  429.0  205.0  405.0  1192.0  1308.0  1316.0  1529.0   \n",
       " 2     50.0  240.0  382.0  259.0  544.0  1387.0  1609.0  1825.0  1762.0   \n",
       " 3     86.0  244.0  375.0  287.0  579.0  1536.0  1776.0  1878.0  1884.0   \n",
       " 4    117.0  215.0  327.0  274.0  548.0  1499.0  1803.0  1766.0  1957.0   \n",
       " ..     ...    ...    ...    ...    ...     ...     ...     ...     ...   \n",
       " 132  245.0  417.0  617.0  534.0  845.0  2132.0  2406.0  2538.0  2767.0   \n",
       " 133  285.0  273.0  446.0  384.0  659.0  1673.0  2229.0  2246.0  2413.0   \n",
       " 134  287.0  176.0  292.0  206.0  475.0  1385.0  1632.0  1642.0  1838.0   \n",
       " 135  300.0  467.0  642.0  492.0  824.0  1927.0  2187.0  2538.0  2430.0   \n",
       " 136  301.0  248.0  481.0  286.0  585.0  1762.0  1969.0  2291.0  2184.0   \n",
       " \n",
       "         b11    b12  \n",
       " 0     298.0  139.0  \n",
       " 1     396.0  180.0  \n",
       " 2     732.0  338.0  \n",
       " 3    1013.0  488.0  \n",
       " 4    1003.0  540.0  \n",
       " ..      ...    ...  \n",
       " 132  1220.0  599.0  \n",
       " 133   927.0  408.0  \n",
       " 134   572.0  257.0  \n",
       " 135  1017.0  445.0  \n",
       " 136   747.0  326.0  \n",
       " \n",
       " [137 rows x 11 columns],\n",
       " 2)"
      ]
     },
     "execution_count": 5,
     "metadata": {},
     "output_type": "execute_result"
    }
   ],
   "source": [
    "feature_columns = [\n",
    "    col\n",
    "    for col in train_df.columns\n",
    "    if col not in [\"id\", \"time\", \"species\", \"disturbance_year\"]\n",
    "]\n",
    "label_column = \"species\"\n",
    "\n",
    "le = LabelEncoder()\n",
    "le.fit(train_df[label_column])             \n",
    "train_df[label_column] = le.transform(train_df[label_column])\n",
    "val_df[label_column]   = le.transform(val_df[label_column])\n",
    "test_df[label_column]  = le.transform(test_df[label_column])\n",
    "\n",
    "n_classes = len(le.classes_)\n",
    "\n",
    "\n",
    "train_sequences = df_to_sequences(train_df)\n",
    "val_sequences = df_to_sequences(val_df)\n",
    "test_sequences = df_to_sequences(test_df)\n",
    "train_sequences[0]"
   ]
  },
  {
   "cell_type": "code",
   "execution_count": 6,
   "id": "a95c4436",
   "metadata": {},
   "outputs": [],
   "source": [
    "\n",
    "\n",
    "class PaddedSpeciesDataset(Dataset):\n",
    "    def __init__(self, sequences, pad_value=0.0, max_len=None):\n",
    "        self.sequences = sequences\n",
    "        self.pad_value = pad_value\n",
    "        self.max_len = max_len if max_len is not None else max(len(X) for X, _ in sequences)\n",
    "\n",
    "    def __len__(self):\n",
    "        return len(self.sequences)\n",
    "\n",
    "    def __getitem__(self, idx):\n",
    "        X, y = self.sequences[idx]\n",
    "        if isinstance(X, pd.DataFrame):\n",
    "            X = X.values\n",
    "        seq_len, n_features = X.shape\n",
    "        padded_X = np.full((self.max_len, n_features), self.pad_value, dtype=np.float32)\n",
    "        padded_X[:seq_len, :] = X\n",
    "        return {\n",
    "            \"sequence\": torch.tensor(padded_X, dtype=torch.float32),\n",
    "            \"label\": torch.tensor(y, dtype=torch.long),\n",
    "            \"length\": seq_len\n",
    "        }\n",
    "\n",
    "\n",
    "# Maximal mögliche Länge aus dem Trainingsdatensatz bestimmen\n",
    "max_len_train = max(len(X) for X, _ in train_sequences)\n",
    "train_sequences = PaddedSpeciesDataset(train_sequences, max_len=max_len_train)\n",
    "val_sequences   = PaddedSpeciesDataset(val_sequences,   max_len=max_len_train)\n",
    "test_sequences  = PaddedSpeciesDataset(test_sequences,  max_len=max_len_train)\n"
   ]
  },
  {
   "cell_type": "code",
   "execution_count": 7,
   "id": "b5a1731e",
   "metadata": {},
   "outputs": [],
   "source": [
    "# %load_ext tensorboard\n",
    "# %tensorboard --logdir ./lightning_logs"
   ]
  },
  {
   "cell_type": "code",
   "execution_count": 8,
   "id": "5bffe83f",
   "metadata": {},
   "outputs": [
    {
     "name": "stderr",
     "output_type": "stream",
     "text": [
      "/Users/rafaelriesle/Documents/Rafael Riesle/Studium/Semster 7/AWP2/tree_classification/venv/lib/python3.11/site-packages/torch/nn/modules/rnn.py:83: UserWarning: dropout option adds dropout after all but last recurrent layer, so non-zero dropout expects num_layers greater than 1, but got dropout=0.2 and num_layers=1\n",
      "  warnings.warn(\"dropout option adds dropout after all but last \"\n",
      "💡 Tip: For seamless cloud uploads and versioning, try installing [litmodels](https://pypi.org/project/litmodels/) to enable LitModelCheckpoint, which syncs automatically with the Lightning model registry.\n",
      "GPU available: False, used: False\n",
      "TPU available: False, using: 0 TPU cores\n",
      "HPU available: False, using: 0 HPUs\n",
      "2025-10-09 11:58:22.875875: I tensorflow/core/platform/cpu_feature_guard.cc:210] This TensorFlow binary is optimized to use available CPU instructions in performance-critical operations.\n",
      "To enable the following instructions: AVX2 FMA, in other operations, rebuild TensorFlow with the appropriate compiler flags.\n",
      "\n",
      "  | Name      | Type               | Params | Mode \n",
      "---------------------------------------------------------\n",
      "0 | model     | SequenceModel      | 277 K  | train\n",
      "1 | criterion | CrossEntropyLoss   | 0      | train\n",
      "2 | train_acc | MulticlassAccuracy | 0      | train\n",
      "3 | val_acc   | MulticlassAccuracy | 0      | train\n",
      "4 | test_acc  | MulticlassAccuracy | 0      | train\n",
      "---------------------------------------------------------\n",
      "277 K     Trainable params\n",
      "0         Non-trainable params\n",
      "277 K     Total params\n",
      "1.109     Total estimated model params size (MB)\n",
      "7         Modules in train mode\n",
      "0         Modules in eval mode\n"
     ]
    },
    {
     "data": {
      "application/vnd.jupyter.widget-view+json": {
       "model_id": "579c939199d649248e014aafc58a267f",
       "version_major": 2,
       "version_minor": 0
      },
      "text/plain": [
       "Sanity Checking: |          | 0/? [00:00<?, ?it/s]"
      ]
     },
     "metadata": {},
     "output_type": "display_data"
    },
    {
     "name": "stderr",
     "output_type": "stream",
     "text": [
      "Traceback (most recent call last):\n",
      "  File \"<string>\", line 1, in <module>\n",
      "  File \"/Library/Frameworks/Python.framework/Versions/3.11/lib/python3.11/multiprocessing/spawn.py\", line 122, in spawn_main\n",
      "    exitcode = _main(fd, parent_sentinel)\n",
      "               ^^^^^^^^^^^^^^^^^^^^^^^^^^\n",
      "  File \"/Library/Frameworks/Python.framework/Versions/3.11/lib/python3.11/multiprocessing/spawn.py\", line 132, in _main\n",
      "    self = reduction.pickle.load(from_parent)\n",
      "           ^^^^^^^^^^^^^^^^^^^^^^^^^^^^^^^^^^\n",
      "AttributeError: Can't get attribute 'PaddedSpeciesDataset' on <module '__main__' (built-in)>\n",
      "\n",
      "Detected KeyboardInterrupt, attempting graceful shutdown ...\n"
     ]
    },
    {
     "ename": "SystemExit",
     "evalue": "1",
     "output_type": "error",
     "traceback": [
      "An exception has occurred, use %tb to see the full traceback.\n",
      "\u001b[31mSystemExit\u001b[39m\u001b[31m:\u001b[39m 1\n"
     ]
    },
    {
     "name": "stderr",
     "output_type": "stream",
     "text": [
      "/Users/rafaelriesle/Documents/Rafael Riesle/Studium/Semster 7/AWP2/tree_classification/venv/lib/python3.11/site-packages/IPython/core/interactiveshell.py:3707: UserWarning: To exit: use 'exit', 'quit', or Ctrl-D.\n",
      "  warn(\"To exit: use 'exit', 'quit', or Ctrl-D.\", stacklevel=1)\n"
     ]
    }
   ],
   "source": [
    "\n",
    "n_features = len(feature_columns)\n",
    "n_classes = len(set(train_df[label_column]))\n",
    "batch_size = 4\n",
    "lr = 1e-3\n",
    "max_epochs = 2\n",
    "\n",
    "# DataModule & Model\n",
    "data_module = SpeciesDataModule(\n",
    "    train_sequences, val_sequences, test_sequences, batch_size=batch_size\n",
    ")\n",
    "model = SpeciesPredictor(n_features=n_features, n_classes=n_classes, lr=lr)\n",
    "\n",
    "# Trainer\n",
    "trainer = pl.Trainer(\n",
    "    max_epochs=max_epochs,\n",
    "    accelerator=\"gpu\" if device==\"cuda\" else \"cpu\",\n",
    "    devices=1,  \n",
    "    log_every_n_steps=10,\n",
    "    deterministic=True,\n",
    "\n",
    ")\n",
    "trainer.fit(model, datamodule=data_module)"
   ]
  },
  {
   "cell_type": "code",
   "execution_count": null,
   "id": "393ded60",
   "metadata": {},
   "outputs": [
    {
     "name": "stdout",
     "output_type": "stream",
     "text": [
      "Weighted Accuracy (Train): 0.3789\n",
      "Weighted Accuracy (Validation): 0.3411\n",
      "Weighted Accuracy (Test): 0.2897\n"
     ]
    }
   ],
   "source": [
    "# Train\n",
    "train_labels, train_preds = get_predictions(\n",
    "    model, data_module.train_dataloader(), device=device\n",
    ")\n",
    "train_weighted_acc = weighted_accuracy(train_labels, train_preds)\n",
    "\n",
    "# Validation\n",
    "val_labels, val_preds = get_predictions(\n",
    "    model, data_module.val_dataloader(), device=device\n",
    ")\n",
    "val_weighted_acc = weighted_accuracy(val_labels, val_preds)\n",
    "\n",
    "# Test\n",
    "test_labels, test_preds = get_predictions(\n",
    "    model, data_module.test_dataloader(), device=device\n",
    ")\n",
    "test_weighted_acc = weighted_accuracy(test_labels, test_preds)\n",
    "\n",
    "print(f\"Weighted Accuracy (Train): {train_weighted_acc:.4f}\")\n",
    "print(f\"Weighted Accuracy (Validation): {val_weighted_acc:.4f}\")\n",
    "print(f\"Weighted Accuracy (Test): {test_weighted_acc:.4f}\")"
   ]
  },
  {
   "cell_type": "code",
   "execution_count": null,
   "id": "8eeab98a",
   "metadata": {},
   "outputs": [
    {
     "data": {
      "image/png": "[encoded data removed]",
      "text/plain": [
       "<Figure size 600x400 with 1 Axes>"
      ]
     },
     "metadata": {},
     "output_type": "display_data"
    }
   ],
   "source": [
    "metrics = {\n",
    "    \"Train\": train_weighted_acc,\n",
    "    \"Validation\": val_weighted_acc,\n",
    "    \"Test\": test_weighted_acc,\n",
    "}\n",
    "\n",
    "plt.figure(figsize=(6, 4))\n",
    "plt.bar(metrics.keys(), metrics.values())\n",
    "plt.ylim(0, 1)\n",
    "plt.ylabel(\"Weighted Accuracy\")\n",
    "plt.title(\"Weighted Accuracy across Datasets\")\n",
    "plt.grid(axis=\"y\", linestyle=\"--\", alpha=0.7)\n",
    "plt.show()\n"
   ]
  }
 ],
 "metadata": {
  "kernelspec": {
   "display_name": "venv (3.11.5)",
   "language": "python",
   "name": "python3"
  },
  "language_info": {
   "codemirror_mode": {
    "name": "ipython",
    "version": 3
   },
   "file_extension": ".py",
   "mimetype": "text/x-python",
   "name": "python",
   "nbconvert_exporter": "python",
   "pygments_lexer": "ipython3",
   "version": "3.11.5"
  }
 },
 "nbformat": 4,
 "nbformat_minor": 5
}
