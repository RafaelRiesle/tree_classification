{
 "cells": [
  {
   "cell_type": "code",
   "execution_count": 1,
   "id": "496bcd59",
   "metadata": {},
   "outputs": [],
   "source": [
    "import pandas as pd\n",
    "from tsaug import Drift, AddNoise, TimeWarp\n",
    "import numpy as np\n",
    "import matplotlib.pyplot as plt\n",
    "import plotly.express as px\n",
    "import seaborn as sns\n",
    "import os\n",
    "import sys\n",
    "from sklearn.linear_model import LogisticRegression\n",
    "from sklearn.pipeline import make_pipeline\n",
    "from sklearn.preprocessing import StandardScaler\n",
    "from sklearn.model_selection import TimeSeriesSplit\n",
    "import numpy as np\n",
    "from statsmodels.tsa.stattools import adfuller, kpss\n",
    "from statsmodels.tsa.seasonal import STL\n",
    "\n",
    "\n",
    "module_path = os.path.abspath(os.path.join(\"..\"))\n",
    "if module_path not in sys.path:\n",
    "    sys.path.append(module_path)\n",
    "\n",
    "\n",
    "from utils.constants import spectral_bands\n",
    "from utils.calculate_indices import CalculateIndices\n",
    "\n",
    "# Load\n",
    "df_trees_raw = pd.read_csv(\"../../data/Trainings_Datensatz.csv\")\n",
    "\n",
    "# Processing\n",
    "df_trees = CalculateIndices.add_all_indices(df_trees_raw)\n",
    "df_trees[\"month\"] = pd.to_datetime(df_trees[\"time\"]).dt.month\n",
    "pd.set_option(\"display.max_columns\", 500)"
   ]
  },
  {
   "cell_type": "code",
   "execution_count": 2,
   "id": "9bfae2ef",
   "metadata": {},
   "outputs": [],
   "source": [
    "df_trees = df_trees.sample(frac=0.4)\n",
    "df_trees[\"time\"] = pd.to_datetime(df_trees[\"time\"])"
   ]
  },
  {
   "cell_type": "markdown",
   "id": "756f10b9",
   "metadata": {},
   "source": [
    "## Stationarität"
   ]
  },
  {
   "cell_type": "markdown",
   "id": "f59a50d6",
   "metadata": {},
   "source": [
    "#### --> Wenn man Feature basierte Modelle verwendet (RandomForest, SVM, XGBoost...) sollte man die Zeitreihe Stationär machen da sie Robustere features lifert (Mittelwert, Varianz, Frequenzen...)\n",
    "\n",
    "#### --> Bei Deeplearing (RNN, LSTM, CNN) und Transformern (TST) ist Trendbreinigung eher vom Nachteil, da die Modelle diese Muster selbst erkennen und man potentiel Informationen verliert. Hier sollte man nur Normalisieren z.B. mit z-score und Data Augmentation. Zusätzlich würde eine Zyklische Zeitkodierung Sinn machen, weil das Modell dann Peridische Zeitabhängigkeiten besser versteht, da sie als Vektor Kodiert sind:\n",
    "\n",
    "\\[\n",
    "\\begin{aligned}\n",
    "\\text{month}_{\\sin} &= \\sin\\left( 2\\pi \\cdot \\frac{m}{12} \\right) \\\\\n",
    "\\text{month}_{\\cos} &= \\cos\\left( 2\\pi \\cdot \\frac{m}{12} \\right)\n",
    "\\end{aligned}\n",
    "\\]\n",
    "\n",
    "\n",
    "\\[\n",
    "\\begin{aligned}\n",
    "x_{\\sin} &= \\sin\\left( 2\\pi \\cdot \\frac{x}{P} \\right) \\\\\n",
    "x_{\\cos} &= \\cos\\left( 2\\pi \\cdot \\frac{x}{P} \\right)\n",
    "\\end{aligned}\n",
    "\\]\n",
    "\n"
   ]
  },
  {
   "cell_type": "code",
   "execution_count": null,
   "id": "ad899682",
   "metadata": {},
   "outputs": [],
   "source": [
    "df_trees_stationary = df_trees_raw.drop(columns=[\"doy\", \"disturbance_year\", \"id\"])\n",
    "df_trees_stationary[\"time\"] = pd.to_datetime(df_trees[\"time\"])\n",
    "df_trees_stationary = df_trees_stationary[\n",
    "    (df_trees_stationary[\"species\"] == \"oak\")\n",
    "    & (df_trees_stationary[\"time\"].dt.year == 2020)\n",
    "]"
   ]
  },
  {
   "cell_type": "code",
   "execution_count": null,
   "id": "0fa03e9f",
   "metadata": {},
   "outputs": [],
   "source": [
    "df_trees_stationary = (\n",
    "    df_trees_stationary.groupby([\"time\", \"species\"])\n",
    "    .mean()\n",
    "    .reset_index()[[\"b12\", \"time\"]]\n",
    ")"
   ]
  },
  {
   "cell_type": "code",
   "execution_count": null,
   "id": "d3711dd4",
   "metadata": {},
   "outputs": [
    {
     "data": {
      "application/vnd.plotly.v1+json": {
       "config": {
        "plotlyServerURL": "https://plot.ly"
       },
       "data": [
        {
         "hovertemplate": "time=%{x}<br>b12=%{y}<extra></extra>",
         "legendgroup": "",
         "line": {
          "color": "#636efa",
          "dash": "solid"
         },
         "marker": {
          "symbol": "circle"
         },
         "mode": "lines",
         "name": "",
         "orientation": "v",
         "showlegend": false,
         "type": "scatter",
         "x": [
          "2020-01-01T00:00:00.000000000",
          "2020-01-02T00:00:00.000000000",
          "2020-01-03T00:00:00.000000000",
          "2020-01-04T00:00:00.000000000",
          "2020-01-05T00:00:00.000000000",
          "2020-01-06T00:00:00.000000000",
          "2020-01-07T00:00:00.000000000",
          "2020-01-08T00:00:00.000000000",
          "2020-01-09T00:00:00.000000000",
          "2020-01-10T00:00:00.000000000",
          "2020-01-11T00:00:00.000000000",
          "2020-01-12T00:00:00.000000000",
          "2020-01-13T00:00:00.000000000",
          "2020-01-14T00:00:00.000000000",
          "2020-01-15T00:00:00.000000000",
          "2020-01-16T00:00:00.000000000",
          "2020-01-17T00:00:00.000000000",
          "2020-01-18T00:00:00.000000000",
          "2020-01-19T00:00:00.000000000",
          "2020-01-20T00:00:00.000000000",
          "2020-01-21T00:00:00.000000000",
          "2020-01-22T00:00:00.000000000",
          "2020-01-23T00:00:00.000000000",
          "2020-01-24T00:00:00.000000000",
          "2020-01-25T00:00:00.000000000",
          "2020-01-26T00:00:00.000000000",
          "2020-01-27T00:00:00.000000000",
          "2020-01-28T00:00:00.000000000",
          "2020-01-29T00:00:00.000000000",
          "2020-02-01T00:00:00.000000000",
          "2020-02-03T00:00:00.000000000",
          "2020-02-04T00:00:00.000000000",
          "2020-02-05T00:00:00.000000000",
          "2020-02-06T00:00:00.000000000",
          "2020-02-07T00:00:00.000000000",
          "2020-02-08T00:00:00.000000000",
          "2020-02-09T00:00:00.000000000",
          "2020-02-10T00:00:00.000000000",
          "2020-02-11T00:00:00.000000000",
          "2020-02-12T00:00:00.000000000",
          "2020-02-14T00:00:00.000000000",
          "2020-02-15T00:00:00.000000000",
          "2020-02-16T00:00:00.000000000",
          "2020-02-17T00:00:00.000000000",
          "2020-02-18T00:00:00.000000000",
          "2020-02-19T00:00:00.000000000",
          "2020-02-20T00:00:00.000000000",
          "2020-02-21T00:00:00.000000000",
          "2020-02-22T00:00:00.000000000",
          "2020-02-23T00:00:00.000000000",
          "2020-02-24T00:00:00.000000000",
          "2020-02-25T00:00:00.000000000",
          "2020-02-26T00:00:00.000000000",
          "2020-02-27T00:00:00.000000000",
          "2020-02-28T00:00:00.000000000",
          "2020-02-29T00:00:00.000000000",
          "2020-03-01T00:00:00.000000000",
          "2020-03-02T00:00:00.000000000",
          "2020-03-03T00:00:00.000000000",
          "2020-03-04T00:00:00.000000000",
          "2020-03-05T00:00:00.000000000",
          "2020-03-06T00:00:00.000000000",
          "2020-03-07T00:00:00.000000000",
          "2020-03-08T00:00:00.000000000",
          "2020-03-09T00:00:00.000000000",
          "2020-03-10T00:00:00.000000000",
          "2020-03-11T00:00:00.000000000",
          "2020-03-12T00:00:00.000000000",
          "2020-03-13T00:00:00.000000000",
          "2020-03-14T00:00:00.000000000",
          "2020-03-15T00:00:00.000000000",
          "2020-03-16T00:00:00.000000000",
          "2020-03-17T00:00:00.000000000",
          "2020-03-18T00:00:00.000000000",
          "2020-03-19T00:00:00.000000000",
          "2020-03-20T00:00:00.000000000",
          "2020-03-21T00:00:00.000000000",
          "2020-03-22T00:00:00.000000000",
          "2020-03-23T00:00:00.000000000",
          "2020-03-24T00:00:00.000000000",
          "2020-03-25T00:00:00.000000000",
          "2020-03-26T00:00:00.000000000",
          "2020-03-27T00:00:00.000000000",
          "2020-03-28T00:00:00.000000000",
          "2020-03-29T00:00:00.000000000",
          "2020-03-30T00:00:00.000000000",
          "2020-03-31T00:00:00.000000000",
          "2020-04-01T00:00:00.000000000",
          "2020-04-02T00:00:00.000000000",
          "2020-04-03T00:00:00.000000000",
          "2020-04-04T00:00:00.000000000",
          "2020-04-05T00:00:00.000000000",
          "2020-04-06T00:00:00.000000000",
          "2020-04-07T00:00:00.000000000",
          "2020-04-08T00:00:00.000000000",
          "2020-04-09T00:00:00.000000000",
          "2020-04-10T00:00:00.000000000",
          "2020-04-11T00:00:00.000000000",
          "2020-04-12T00:00:00.000000000",
          "2020-04-13T00:00:00.000000000",
          "2020-04-14T00:00:00.000000000",
          "2020-04-15T00:00:00.000000000",
          "2020-04-16T00:00:00.000000000",
          "2020-04-17T00:00:00.000000000",
          "2020-04-18T00:00:00.000000000",
          "2020-04-19T00:00:00.000000000",
          "2020-04-20T00:00:00.000000000",
          "2020-04-21T00:00:00.000000000",
          "2020-04-22T00:00:00.000000000",
          "2020-04-23T00:00:00.000000000",
          "2020-04-24T00:00:00.000000000",
          "2020-04-25T00:00:00.000000000",
          "2020-04-26T00:00:00.000000000",
          "2020-04-27T00:00:00.000000000",
          "2020-04-28T00:00:00.000000000",
          "2020-04-29T00:00:00.000000000",
          "2020-04-30T00:00:00.000000000",
          "2020-05-01T00:00:00.000000000",
          "2020-05-02T00:00:00.000000000",
          "2020-05-03T00:00:00.000000000",
          "2020-05-04T00:00:00.000000000",
          "2020-05-05T00:00:00.000000000",
          "2020-05-06T00:00:00.000000000",
          "2020-05-07T00:00:00.000000000",
          "2020-05-08T00:00:00.000000000",
          "2020-05-09T00:00:00.000000000",
          "2020-05-10T00:00:00.000000000",
          "2020-05-11T00:00:00.000000000",
          "2020-05-12T00:00:00.000000000",
          "2020-05-13T00:00:00.000000000",
          "2020-05-14T00:00:00.000000000",
          "2020-05-15T00:00:00.000000000",
          "2020-05-16T00:00:00.000000000",
          "2020-05-17T00:00:00.000000000",
          "2020-05-18T00:00:00.000000000",
          "2020-05-19T00:00:00.000000000",
          "2020-05-20T00:00:00.000000000",
          "2020-05-21T00:00:00.000000000",
          "2020-05-22T00:00:00.000000000",
          "2020-05-23T00:00:00.000000000",
          "2020-05-24T00:00:00.000000000",
          "2020-05-25T00:00:00.000000000",
          "2020-05-26T00:00:00.000000000",
          "2020-05-27T00:00:00.000000000",
          "2020-05-28T00:00:00.000000000",
          "2020-05-29T00:00:00.000000000",
          "2020-05-30T00:00:00.000000000",
          "2020-05-31T00:00:00.000000000",
          "2020-06-01T00:00:00.000000000",
          "2020-06-02T00:00:00.000000000",
          "2020-06-03T00:00:00.000000000",
          "2020-06-04T00:00:00.000000000",
          "2020-06-05T00:00:00.000000000",
          "2020-06-06T00:00:00.000000000",
          "2020-06-07T00:00:00.000000000",
          "2020-06-08T00:00:00.000000000",
          "2020-06-09T00:00:00.000000000",
          "2020-06-10T00:00:00.000000000",
          "2020-06-11T00:00:00.000000000",
          "2020-06-12T00:00:00.000000000",
          "2020-06-13T00:00:00.000000000",
          "2020-06-14T00:00:00.000000000",
          "2020-06-15T00:00:00.000000000",
          "2020-06-16T00:00:00.000000000",
          "2020-06-17T00:00:00.000000000",
          "2020-06-18T00:00:00.000000000",
          "2020-06-19T00:00:00.000000000",
          "2020-06-20T00:00:00.000000000",
          "2020-06-21T00:00:00.000000000",
          "2020-06-22T00:00:00.000000000",
          "2020-06-23T00:00:00.000000000",
          "2020-06-24T00:00:00.000000000",
          "2020-06-25T00:00:00.000000000",
          "2020-06-26T00:00:00.000000000",
          "2020-06-27T00:00:00.000000000",
          "2020-06-28T00:00:00.000000000",
          "2020-06-29T00:00:00.000000000",
          "2020-06-30T00:00:00.000000000",
          "2020-07-01T00:00:00.000000000",
          "2020-07-02T00:00:00.000000000",
          "2020-07-03T00:00:00.000000000",
          "2020-07-04T00:00:00.000000000",
          "2020-07-05T00:00:00.000000000",
          "2020-07-06T00:00:00.000000000",
          "2020-07-07T00:00:00.000000000",
          "2020-07-08T00:00:00.000000000",
          "2020-07-09T00:00:00.000000000",
          "2020-07-10T00:00:00.000000000",
          "2020-07-11T00:00:00.000000000",
          "2020-07-12T00:00:00.000000000",
          "2020-07-13T00:00:00.000000000",
          "2020-07-14T00:00:00.000000000",
          "2020-07-15T00:00:00.000000000",
          "2020-07-16T00:00:00.000000000",
          "2020-07-17T00:00:00.000000000",
          "2020-07-18T00:00:00.000000000",
          "2020-07-19T00:00:00.000000000",
          "2020-07-20T00:00:00.000000000",
          "2020-07-21T00:00:00.000000000",
          "2020-07-22T00:00:00.000000000",
          "2020-07-23T00:00:00.000000000",
          "2020-07-24T00:00:00.000000000",
          "2020-07-25T00:00:00.000000000",
          "2020-07-26T00:00:00.000000000",
          "2020-07-27T00:00:00.000000000",
          "2020-07-28T00:00:00.000000000",
          "2020-07-29T00:00:00.000000000",
          "2020-07-30T00:00:00.000000000",
          "2020-07-31T00:00:00.000000000",
          "2020-08-01T00:00:00.000000000",
          "2020-08-02T00:00:00.000000000",
          "2020-08-03T00:00:00.000000000",
          "2020-08-04T00:00:00.000000000",
          "2020-08-05T00:00:00.000000000",
          "2020-08-06T00:00:00.000000000",
          "2020-08-07T00:00:00.000000000",
          "2020-08-08T00:00:00.000000000",
          "2020-08-09T00:00:00.000000000",
          "2020-08-10T00:00:00.000000000",
          "2020-08-11T00:00:00.000000000",
          "2020-08-12T00:00:00.000000000",
          "2020-08-13T00:00:00.000000000",
          "2020-08-14T00:00:00.000000000",
          "2020-08-15T00:00:00.000000000",
          "2020-08-16T00:00:00.000000000",
          "2020-08-17T00:00:00.000000000",
          "2020-08-18T00:00:00.000000000",
          "2020-08-19T00:00:00.000000000",
          "2020-08-20T00:00:00.000000000",
          "2020-08-21T00:00:00.000000000",
          "2020-08-22T00:00:00.000000000",
          "2020-08-23T00:00:00.000000000",
          "2020-08-24T00:00:00.000000000",
          "2020-08-25T00:00:00.000000000",
          "2020-08-26T00:00:00.000000000",
          "2020-08-27T00:00:00.000000000",
          "2020-08-29T00:00:00.000000000",
          "2020-08-30T00:00:00.000000000",
          "2020-08-31T00:00:00.000000000",
          "2020-09-01T00:00:00.000000000",
          "2020-09-02T00:00:00.000000000",
          "2020-09-03T00:00:00.000000000",
          "2020-09-04T00:00:00.000000000",
          "2020-09-05T00:00:00.000000000",
          "2020-09-06T00:00:00.000000000",
          "2020-09-07T00:00:00.000000000",
          "2020-09-08T00:00:00.000000000",
          "2020-09-09T00:00:00.000000000",
          "2020-09-10T00:00:00.000000000",
          "2020-09-11T00:00:00.000000000",
          "2020-09-12T00:00:00.000000000",
          "2020-09-13T00:00:00.000000000",
          "2020-09-14T00:00:00.000000000",
          "2020-09-15T00:00:00.000000000",
          "2020-09-16T00:00:00.000000000",
          "2020-09-17T00:00:00.000000000",
          "2020-09-18T00:00:00.000000000",
          "2020-09-19T00:00:00.000000000",
          "2020-09-20T00:00:00.000000000",
          "2020-09-21T00:00:00.000000000",
          "2020-09-22T00:00:00.000000000",
          "2020-09-23T00:00:00.000000000",
          "2020-09-24T00:00:00.000000000",
          "2020-09-25T00:00:00.000000000",
          "2020-09-26T00:00:00.000000000",
          "2020-09-27T00:00:00.000000000",
          "2020-09-28T00:00:00.000000000",
          "2020-09-29T00:00:00.000000000",
          "2020-09-30T00:00:00.000000000",
          "2020-10-01T00:00:00.000000000",
          "2020-10-02T00:00:00.000000000",
          "2020-10-03T00:00:00.000000000",
          "2020-10-04T00:00:00.000000000",
          "2020-10-05T00:00:00.000000000",
          "2020-10-06T00:00:00.000000000",
          "2020-10-07T00:00:00.000000000",
          "2020-10-08T00:00:00.000000000",
          "2020-10-09T00:00:00.000000000",
          "2020-10-10T00:00:00.000000000",
          "2020-10-11T00:00:00.000000000",
          "2020-10-12T00:00:00.000000000",
          "2020-10-13T00:00:00.000000000",
          "2020-10-14T00:00:00.000000000",
          "2020-10-16T00:00:00.000000000",
          "2020-10-17T00:00:00.000000000",
          "2020-10-18T00:00:00.000000000",
          "2020-10-19T00:00:00.000000000",
          "2020-10-20T00:00:00.000000000",
          "2020-10-21T00:00:00.000000000",
          "2020-10-22T00:00:00.000000000",
          "2020-10-23T00:00:00.000000000",
          "2020-10-24T00:00:00.000000000",
          "2020-10-25T00:00:00.000000000",
          "2020-10-26T00:00:00.000000000",
          "2020-10-27T00:00:00.000000000",
          "2020-10-28T00:00:00.000000000",
          "2020-10-29T00:00:00.000000000",
          "2020-10-30T00:00:00.000000000",
          "2020-10-31T00:00:00.000000000",
          "2020-11-01T00:00:00.000000000",
          "2020-11-02T00:00:00.000000000",
          "2020-11-03T00:00:00.000000000",
          "2020-11-04T00:00:00.000000000",
          "2020-11-05T00:00:00.000000000",
          "2020-11-06T00:00:00.000000000",
          "2020-11-07T00:00:00.000000000",
          "2020-11-08T00:00:00.000000000",
          "2020-11-09T00:00:00.000000000",
          "2020-11-10T00:00:00.000000000",
          "2020-11-11T00:00:00.000000000",
          "2020-11-12T00:00:00.000000000",
          "2020-11-13T00:00:00.000000000",
          "2020-11-14T00:00:00.000000000",
          "2020-11-15T00:00:00.000000000",
          "2020-11-16T00:00:00.000000000",
          "2020-11-17T00:00:00.000000000",
          "2020-11-18T00:00:00.000000000",
          "2020-11-19T00:00:00.000000000",
          "2020-11-20T00:00:00.000000000",
          "2020-11-21T00:00:00.000000000",
          "2020-11-22T00:00:00.000000000",
          "2020-11-23T00:00:00.000000000",
          "2020-11-24T00:00:00.000000000",
          "2020-11-25T00:00:00.000000000",
          "2020-11-26T00:00:00.000000000",
          "2020-11-27T00:00:00.000000000",
          "2020-11-28T00:00:00.000000000",
          "2020-11-29T00:00:00.000000000",
          "2020-11-30T00:00:00.000000000",
          "2020-12-01T00:00:00.000000000",
          "2020-12-02T00:00:00.000000000",
          "2020-12-03T00:00:00.000000000",
          "2020-12-04T00:00:00.000000000",
          "2020-12-05T00:00:00.000000000",
          "2020-12-06T00:00:00.000000000",
          "2020-12-07T00:00:00.000000000",
          "2020-12-08T00:00:00.000000000",
          "2020-12-09T00:00:00.000000000",
          "2020-12-10T00:00:00.000000000",
          "2020-12-11T00:00:00.000000000",
          "2020-12-12T00:00:00.000000000",
          "2020-12-13T00:00:00.000000000",
          "2020-12-14T00:00:00.000000000",
          "2020-12-15T00:00:00.000000000",
          "2020-12-16T00:00:00.000000000",
          "2020-12-17T00:00:00.000000000",
          "2020-12-18T00:00:00.000000000",
          "2020-12-19T00:00:00.000000000",
          "2020-12-20T00:00:00.000000000",
          "2020-12-21T00:00:00.000000000",
          "2020-12-22T00:00:00.000000000",
          "2020-12-23T00:00:00.000000000",
          "2020-12-24T00:00:00.000000000",
          "2020-12-25T00:00:00.000000000",
          "2020-12-26T00:00:00.000000000",
          "2020-12-27T00:00:00.000000000",
          "2020-12-28T00:00:00.000000000",
          "2020-12-29T00:00:00.000000000",
          "2020-12-30T00:00:00.000000000",
          "2020-12-31T00:00:00.000000000"
         ],
         "xaxis": "x",
         "y": {
          "bdata": "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",
          "dtype": "f8"
         },
         "yaxis": "y"
        }
       ],
       "layout": {
        "legend": {
         "tracegroupgap": 0
        },
        "template": {
         "data": {
          "bar": [
           {
            "error_x": {
             "color": "#2a3f5f"
            },
            "error_y": {
             "color": "#2a3f5f"
            },
            "marker": {
             "line": {
              "color": "#E5ECF6",
              "width": 0.5
             },
             "pattern": {
              "fillmode": "overlay",
              "size": 10,
              "solidity": 0.2
             }
            },
            "type": "bar"
           }
          ],
          "barpolar": [
           {
            "marker": {
             "line": {
              "color": "#E5ECF6",
              "width": 0.5
             },
             "pattern": {
              "fillmode": "overlay",
              "size": 10,
              "solidity": 0.2
             }
            },
            "type": "barpolar"
           }
          ],
          "carpet": [
           {
            "aaxis": {
             "endlinecolor": "#2a3f5f",
             "gridcolor": "white",
             "linecolor": "white",
             "minorgridcolor": "white",
             "startlinecolor": "#2a3f5f"
            },
            "baxis": {
             "endlinecolor": "#2a3f5f",
             "gridcolor": "white",
             "linecolor": "white",
             "minorgridcolor": "white",
             "startlinecolor": "#2a3f5f"
            },
            "type": "carpet"
           }
          ],
          "choropleth": [
           {
            "colorbar": {
             "outlinewidth": 0,
             "ticks": ""
            },
            "type": "choropleth"
           }
          ],
          "contour": [
           {
            "colorbar": {
             "outlinewidth": 0,
             "ticks": ""
            },
            "colorscale": [
             [
              0,
              "#0d0887"
             ],
             [
              0.1111111111111111,
              "#46039f"
             ],
             [
              0.2222222222222222,
              "#7201a8"
             ],
             [
              0.3333333333333333,
              "#9c179e"
             ],
             [
              0.4444444444444444,
              "#bd3786"
             ],
             [
              0.5555555555555556,
              "#d8576b"
             ],
             [
              0.6666666666666666,
              "#ed7953"
             ],
             [
              0.7777777777777778,
              "#fb9f3a"
             ],
             [
              0.8888888888888888,
              "#fdca26"
             ],
             [
              1,
              "#f0f921"
             ]
            ],
            "type": "contour"
           }
          ],
          "contourcarpet": [
           {
            "colorbar": {
             "outlinewidth": 0,
             "ticks": ""
            },
            "type": "contourcarpet"
           }
          ],
          "heatmap": [
           {
            "colorbar": {
             "outlinewidth": 0,
             "ticks": ""
            },
            "colorscale": [
             [
              0,
              "#0d0887"
             ],
             [
              0.1111111111111111,
              "#46039f"
             ],
             [
              0.2222222222222222,
              "#7201a8"
             ],
             [
              0.3333333333333333,
              "#9c179e"
             ],
             [
              0.4444444444444444,
              "#bd3786"
             ],
             [
              0.5555555555555556,
              "#d8576b"
             ],
             [
              0.6666666666666666,
              "#ed7953"
             ],
             [
              0.7777777777777778,
              "#fb9f3a"
             ],
             [
              0.8888888888888888,
              "#fdca26"
             ],
             [
              1,
              "#f0f921"
             ]
            ],
            "type": "heatmap"
           }
          ],
          "histogram": [
           {
            "marker": {
             "pattern": {
              "fillmode": "overlay",
              "size": 10,
              "solidity": 0.2
             }
            },
            "type": "histogram"
           }
          ],
          "histogram2d": [
           {
            "colorbar": {
             "outlinewidth": 0,
             "ticks": ""
            },
            "colorscale": [
             [
              0,
              "#0d0887"
             ],
             [
              0.1111111111111111,
              "#46039f"
             ],
             [
              0.2222222222222222,
              "#7201a8"
             ],
             [
              0.3333333333333333,
              "#9c179e"
             ],
             [
              0.4444444444444444,
              "#bd3786"
             ],
             [
              0.5555555555555556,
              "#d8576b"
             ],
             [
              0.6666666666666666,
              "#ed7953"
             ],
             [
              0.7777777777777778,
              "#fb9f3a"
             ],
             [
              0.8888888888888888,
              "#fdca26"
             ],
             [
              1,
              "#f0f921"
             ]
            ],
            "type": "histogram2d"
           }
          ],
          "histogram2dcontour": [
           {
            "colorbar": {
             "outlinewidth": 0,
             "ticks": ""
            },
            "colorscale": [
             [
              0,
              "#0d0887"
             ],
             [
              0.1111111111111111,
              "#46039f"
             ],
             [
              0.2222222222222222,
              "#7201a8"
             ],
             [
              0.3333333333333333,
              "#9c179e"
             ],
             [
              0.4444444444444444,
              "#bd3786"
             ],
             [
              0.5555555555555556,
              "#d8576b"
             ],
             [
              0.6666666666666666,
              "#ed7953"
             ],
             [
              0.7777777777777778,
              "#fb9f3a"
             ],
             [
              0.8888888888888888,
              "#fdca26"
             ],
             [
              1,
              "#f0f921"
             ]
            ],
            "type": "histogram2dcontour"
           }
          ],
          "mesh3d": [
           {
            "colorbar": {
             "outlinewidth": 0,
             "ticks": ""
            },
            "type": "mesh3d"
           }
          ],
          "parcoords": [
           {
            "line": {
             "colorbar": {
              "outlinewidth": 0,
              "ticks": ""
             }
            },
            "type": "parcoords"
           }
          ],
          "pie": [
           {
            "automargin": true,
            "type": "pie"
           }
          ],
          "scatter": [
           {
            "fillpattern": {
             "fillmode": "overlay",
             "size": 10,
             "solidity": 0.2
            },
            "type": "scatter"
           }
          ],
          "scatter3d": [
           {
            "line": {
             "colorbar": {
              "outlinewidth": 0,
              "ticks": ""
             }
            },
            "marker": {
             "colorbar": {
              "outlinewidth": 0,
              "ticks": ""
             }
            },
            "type": "scatter3d"
           }
          ],
          "scattercarpet": [
           {
            "marker": {
             "colorbar": {
              "outlinewidth": 0,
              "ticks": ""
             }
            },
            "type": "scattercarpet"
           }
          ],
          "scattergeo": [
           {
            "marker": {
             "colorbar": {
              "outlinewidth": 0,
              "ticks": ""
             }
            },
            "type": "scattergeo"
           }
          ],
          "scattergl": [
           {
            "marker": {
             "colorbar": {
              "outlinewidth": 0,
              "ticks": ""
             }
            },
            "type": "scattergl"
           }
          ],
          "scattermap": [
           {
            "marker": {
             "colorbar": {
              "outlinewidth": 0,
              "ticks": ""
             }
            },
            "type": "scattermap"
           }
          ],
          "scattermapbox": [
           {
            "marker": {
             "colorbar": {
              "outlinewidth": 0,
              "ticks": ""
             }
            },
            "type": "scattermapbox"
           }
          ],
          "scatterpolar": [
           {
            "marker": {
             "colorbar": {
              "outlinewidth": 0,
              "ticks": ""
             }
            },
            "type": "scatterpolar"
           }
          ],
          "scatterpolargl": [
           {
            "marker": {
             "colorbar": {
              "outlinewidth": 0,
              "ticks": ""
             }
            },
            "type": "scatterpolargl"
           }
          ],
          "scatterternary": [
           {
            "marker": {
             "colorbar": {
              "outlinewidth": 0,
              "ticks": ""
             }
            },
            "type": "scatterternary"
           }
          ],
          "surface": [
           {
            "colorbar": {
             "outlinewidth": 0,
             "ticks": ""
            },
            "colorscale": [
             [
              0,
              "#0d0887"
             ],
             [
              0.1111111111111111,
              "#46039f"
             ],
             [
              0.2222222222222222,
              "#7201a8"
             ],
             [
              0.3333333333333333,
              "#9c179e"
             ],
             [
              0.4444444444444444,
              "#bd3786"
             ],
             [
              0.5555555555555556,
              "#d8576b"
             ],
             [
              0.6666666666666666,
              "#ed7953"
             ],
             [
              0.7777777777777778,
              "#fb9f3a"
             ],
             [
              0.8888888888888888,
              "#fdca26"
             ],
             [
              1,
              "#f0f921"
             ]
            ],
            "type": "surface"
           }
          ],
          "table": [
           {
            "cells": {
             "fill": {
              "color": "#EBF0F8"
             },
             "line": {
              "color": "white"
             }
            },
            "header": {
             "fill": {
              "color": "#C8D4E3"
             },
             "line": {
              "color": "white"
             }
            },
            "type": "table"
           }
          ]
         },
         "layout": {
          "annotationdefaults": {
           "arrowcolor": "#2a3f5f",
           "arrowhead": 0,
           "arrowwidth": 1
          },
          "autotypenumbers": "strict",
          "coloraxis": {
           "colorbar": {
            "outlinewidth": 0,
            "ticks": ""
           }
          },
          "colorscale": {
           "diverging": [
            [
             0,
             "#8e0152"
            ],
            [
             0.1,
             "#c51b7d"
            ],
            [
             0.2,
             "#de77ae"
            ],
            [
             0.3,
             "#f1b6da"
            ],
            [
             0.4,
             "#fde0ef"
            ],
            [
             0.5,
             "#f7f7f7"
            ],
            [
             0.6,
             "#e6f5d0"
            ],
            [
             0.7,
             "#b8e186"
            ],
            [
             0.8,
             "#7fbc41"
            ],
            [
             0.9,
             "#4d9221"
            ],
            [
             1,
             "#276419"
            ]
           ],
           "sequential": [
            [
             0,
             "#0d0887"
            ],
            [
             0.1111111111111111,
             "#46039f"
            ],
            [
             0.2222222222222222,
             "#7201a8"
            ],
            [
             0.3333333333333333,
             "#9c179e"
            ],
            [
             0.4444444444444444,
             "#bd3786"
            ],
            [
             0.5555555555555556,
             "#d8576b"
            ],
            [
             0.6666666666666666,
             "#ed7953"
            ],
            [
             0.7777777777777778,
             "#fb9f3a"
            ],
            [
             0.8888888888888888,
             "#fdca26"
            ],
            [
             1,
             "#f0f921"
            ]
           ],
           "sequentialminus": [
            [
             0,
             "#0d0887"
            ],
            [
             0.1111111111111111,
             "#46039f"
            ],
            [
             0.2222222222222222,
             "#7201a8"
            ],
            [
             0.3333333333333333,
             "#9c179e"
            ],
            [
             0.4444444444444444,
             "#bd3786"
            ],
            [
             0.5555555555555556,
             "#d8576b"
            ],
            [
             0.6666666666666666,
             "#ed7953"
            ],
            [
             0.7777777777777778,
             "#fb9f3a"
            ],
            [
             0.8888888888888888,
             "#fdca26"
            ],
            [
             1,
             "#f0f921"
            ]
           ]
          },
          "colorway": [
           "#636efa",
           "#EF553B",
           "#00cc96",
           "#ab63fa",
           "#FFA15A",
           "#19d3f3",
           "#FF6692",
           "#B6E880",
           "#FF97FF",
           "#FECB52"
          ],
          "font": {
           "color": "#2a3f5f"
          },
          "geo": {
           "bgcolor": "white",
           "lakecolor": "white",
           "landcolor": "#E5ECF6",
           "showlakes": true,
           "showland": true,
           "subunitcolor": "white"
          },
          "hoverlabel": {
           "align": "left"
          },
          "hovermode": "closest",
          "mapbox": {
           "style": "light"
          },
          "paper_bgcolor": "white",
          "plot_bgcolor": "#E5ECF6",
          "polar": {
           "angularaxis": {
            "gridcolor": "white",
            "linecolor": "white",
            "ticks": ""
           },
           "bgcolor": "#E5ECF6",
           "radialaxis": {
            "gridcolor": "white",
            "linecolor": "white",
            "ticks": ""
           }
          },
          "scene": {
           "xaxis": {
            "backgroundcolor": "#E5ECF6",
            "gridcolor": "white",
            "gridwidth": 2,
            "linecolor": "white",
            "showbackground": true,
            "ticks": "",
            "zerolinecolor": "white"
           },
           "yaxis": {
            "backgroundcolor": "#E5ECF6",
            "gridcolor": "white",
            "gridwidth": 2,
            "linecolor": "white",
            "showbackground": true,
            "ticks": "",
            "zerolinecolor": "white"
           },
           "zaxis": {
            "backgroundcolor": "#E5ECF6",
            "gridcolor": "white",
            "gridwidth": 2,
            "linecolor": "white",
            "showbackground": true,
            "ticks": "",
            "zerolinecolor": "white"
           }
          },
          "shapedefaults": {
           "line": {
            "color": "#2a3f5f"
           }
          },
          "ternary": {
           "aaxis": {
            "gridcolor": "white",
            "linecolor": "white",
            "ticks": ""
           },
           "baxis": {
            "gridcolor": "white",
            "linecolor": "white",
            "ticks": ""
           },
           "bgcolor": "#E5ECF6",
           "caxis": {
            "gridcolor": "white",
            "linecolor": "white",
            "ticks": ""
           }
          },
          "title": {
           "x": 0.05
          },
          "xaxis": {
           "automargin": true,
           "gridcolor": "white",
           "linecolor": "white",
           "ticks": "",
           "title": {
            "standoff": 15
           },
           "zerolinecolor": "white",
           "zerolinewidth": 2
          },
          "yaxis": {
           "automargin": true,
           "gridcolor": "white",
           "linecolor": "white",
           "ticks": "",
           "title": {
            "standoff": 15
           },
           "zerolinecolor": "white",
           "zerolinewidth": 2
          }
         }
        },
        "title": {
         "text": "Oak - 2020"
        },
        "xaxis": {
         "anchor": "y",
         "domain": [
          0,
          1
         ],
         "title": {
          "text": "time"
         }
        },
        "yaxis": {
         "anchor": "x",
         "domain": [
          0,
          1
         ],
         "title": {
          "text": "b12"
         }
        }
       }
      }
     },
     "metadata": {},
     "output_type": "display_data"
    }
   ],
   "source": [
    "px.line(df_trees_stationary, x=\"time\", y=\"b12\", title=\"Oak - 2020\")"
   ]
  },
  {
   "cell_type": "code",
   "execution_count": null,
   "id": "8ce39f7a",
   "metadata": {},
   "outputs": [
    {
     "name": "stdout",
     "output_type": "stream",
     "text": [
      "ADF-Test:\n",
      "  Teststatistik: -2.1083\n",
      "  p-Wert:       0.2412\n",
      "  Kritische Werte: {'1%': np.float64(-3.44880082033912), '5%': np.float64(-2.869670179576637), '10%': np.float64(-2.5711012838861036)}\n",
      "  ⇒ Nullhypothese nicht verwerfen: Nicht stationär\n",
      "\n",
      "KPSS-Test:\n",
      "  Teststatistik: 1.2607\n",
      "  p-Wert:       0.0100\n",
      "  Kritische Werte: {'10%': 0.347, '5%': 0.463, '2.5%': 0.574, '1%': 0.739}\n",
      "  ⇒ Nullhypothese verwerfen: Nicht stationär\n",
      "\n"
     ]
    },
    {
     "name": "stderr",
     "output_type": "stream",
     "text": [
      "/tmp/ipykernel_3488/1987994906.py:19: InterpolationWarning:\n",
      "\n",
      "The test statistic is outside of the range of p-values available in the\n",
      "look-up table. The actual p-value is smaller than the p-value returned.\n",
      "\n",
      "\n"
     ]
    },
    {
     "data": {
      "image/png": "[encoded data removed]",
      "text/plain": [
       "<Figure size 640x480 with 1 Axes>"
      ]
     },
     "metadata": {},
     "output_type": "display_data"
    }
   ],
   "source": [
    "# Beispiel mit species oak\n",
    "\n",
    "\n",
    "# --- ADF Test ---\n",
    "def adf_test(series):\n",
    "    result = adfuller(series, autolag=\"AIC\")\n",
    "    print(\"ADF-Test:\")\n",
    "    print(f\"  Teststatistik: {result[0]:.4f}\")\n",
    "    print(f\"  p-Wert:       {result[1]:.4f}\")\n",
    "    print(f\"  Kritische Werte: {result[4]}\")\n",
    "    if result[1] < 0.05:\n",
    "        print(\"  ⇒ Nullhypothese verwerfen: Stationär\\n\")\n",
    "    else:\n",
    "        print(\"  ⇒ Nullhypothese nicht verwerfen: Nicht stationär\\n\")\n",
    "\n",
    "\n",
    "# --- KPSS Test ---\n",
    "def kpss_test(series):\n",
    "    result = kpss(series, regression=\"c\", nlags=\"auto\")\n",
    "    print(\"KPSS-Test:\")\n",
    "    print(f\"  Teststatistik: {result[0]:.4f}\")\n",
    "    print(f\"  p-Wert:       {result[1]:.4f}\")\n",
    "    print(f\"  Kritische Werte: {result[3]}\")\n",
    "    if result[1] < 0.05:\n",
    "        print(\"  ⇒ Nullhypothese verwerfen: Nicht stationär\\n\")\n",
    "    else:\n",
    "        print(\"  ⇒ Nullhypothese nicht verwerfen: Stationär\\n\")\n",
    "\n",
    "\n",
    "# Tests ausführen\n",
    "adf_test(df_trees_stationary[\"b12\"])\n",
    "kpss_test(df_trees_stationary[\"b12\"])\n",
    "\n",
    "# Plot zur Visualisierung\n",
    "df_trees_stationary[\"b12\"].plot(title=\"Beispielzeitreihe (mit Trend)\")\n",
    "plt.show()"
   ]
  },
  {
   "cell_type": "code",
   "execution_count": null,
   "id": "b8f76ed7",
   "metadata": {},
   "outputs": [
    {
     "data": {
      "image/png": "[encoded data removed]",
      "text/plain": [
       "<Figure size 640x480 with 4 Axes>"
      ]
     },
     "metadata": {},
     "output_type": "display_data"
    }
   ],
   "source": [
    "stl = STL(df_trees_stationary[\"b12\"], period=12, robust=True)\n",
    "res = stl.fit()\n",
    "\n",
    "# Komponenten\n",
    "trend = res.trend\n",
    "season = res.seasonal\n",
    "residual = res.resid\n",
    "\n",
    "# Visualisierung\n",
    "res.plot()\n",
    "plt.show()\n",
    "\n",
    "# Trend- und Saisonbereinigung\n",
    "df_trees_stationary[\"b12_adjusted\"] = residual"
   ]
  },
  {
   "cell_type": "code",
   "execution_count": null,
   "id": "36f5ba9b",
   "metadata": {},
   "outputs": [
    {
     "data": {
      "application/vnd.plotly.v1+json": {
       "config": {
        "plotlyServerURL": "https://plot.ly"
       },
       "data": [
        {
         "hovertemplate": "time=%{x}<br>b12_adjusted=%{y}<extra></extra>",
         "legendgroup": "",
         "line": {
          "color": "#636efa",
          "dash": "solid"
         },
         "marker": {
          "symbol": "circle"
         },
         "mode": "lines",
         "name": "",
         "orientation": "v",
         "showlegend": false,
         "type": "scatter",
         "x": [
          "2020-01-01T00:00:00.000000000",
          "2020-01-02T00:00:00.000000000",
          "2020-01-03T00:00:00.000000000",
          "2020-01-04T00:00:00.000000000",
          "2020-01-05T00:00:00.000000000",
          "2020-01-06T00:00:00.000000000",
          "2020-01-07T00:00:00.000000000",
          "2020-01-08T00:00:00.000000000",
          "2020-01-09T00:00:00.000000000",
          "2020-01-10T00:00:00.000000000",
          "2020-01-11T00:00:00.000000000",
          "2020-01-12T00:00:00.000000000",
          "2020-01-13T00:00:00.000000000",
          "2020-01-14T00:00:00.000000000",
          "2020-01-15T00:00:00.000000000",
          "2020-01-16T00:00:00.000000000",
          "2020-01-17T00:00:00.000000000",
          "2020-01-18T00:00:00.000000000",
          "2020-01-19T00:00:00.000000000",
          "2020-01-20T00:00:00.000000000",
          "2020-01-21T00:00:00.000000000",
          "2020-01-22T00:00:00.000000000",
          "2020-01-23T00:00:00.000000000",
          "2020-01-24T00:00:00.000000000",
          "2020-01-25T00:00:00.000000000",
          "2020-01-26T00:00:00.000000000",
          "2020-01-27T00:00:00.000000000",
          "2020-01-28T00:00:00.000000000",
          "2020-01-29T00:00:00.000000000",
          "2020-02-01T00:00:00.000000000",
          "2020-02-03T00:00:00.000000000",
          "2020-02-04T00:00:00.000000000",
          "2020-02-05T00:00:00.000000000",
          "2020-02-06T00:00:00.000000000",
          "2020-02-07T00:00:00.000000000",
          "2020-02-08T00:00:00.000000000",
          "2020-02-09T00:00:00.000000000",
          "2020-02-10T00:00:00.000000000",
          "2020-02-11T00:00:00.000000000",
          "2020-02-12T00:00:00.000000000",
          "2020-02-14T00:00:00.000000000",
          "2020-02-15T00:00:00.000000000",
          "2020-02-16T00:00:00.000000000",
          "2020-02-17T00:00:00.000000000",
          "2020-02-18T00:00:00.000000000",
          "2020-02-19T00:00:00.000000000",
          "2020-02-20T00:00:00.000000000",
          "2020-02-21T00:00:00.000000000",
          "2020-02-22T00:00:00.000000000",
          "2020-02-23T00:00:00.000000000",
          "2020-02-24T00:00:00.000000000",
          "2020-02-25T00:00:00.000000000",
          "2020-02-26T00:00:00.000000000",
          "2020-02-27T00:00:00.000000000",
          "2020-02-28T00:00:00.000000000",
          "2020-02-29T00:00:00.000000000",
          "2020-03-01T00:00:00.000000000",
          "2020-03-02T00:00:00.000000000",
          "2020-03-03T00:00:00.000000000",
          "2020-03-04T00:00:00.000000000",
          "2020-03-05T00:00:00.000000000",
          "2020-03-06T00:00:00.000000000",
          "2020-03-07T00:00:00.000000000",
          "2020-03-08T00:00:00.000000000",
          "2020-03-09T00:00:00.000000000",
          "2020-03-10T00:00:00.000000000",
          "2020-03-11T00:00:00.000000000",
          "2020-03-12T00:00:00.000000000",
          "2020-03-13T00:00:00.000000000",
          "2020-03-14T00:00:00.000000000",
          "2020-03-15T00:00:00.000000000",
          "2020-03-16T00:00:00.000000000",
          "2020-03-17T00:00:00.000000000",
          "2020-03-18T00:00:00.000000000",
          "2020-03-19T00:00:00.000000000",
          "2020-03-20T00:00:00.000000000",
          "2020-03-21T00:00:00.000000000",
          "2020-03-22T00:00:00.000000000",
          "2020-03-23T00:00:00.000000000",
          "2020-03-24T00:00:00.000000000",
          "2020-03-25T00:00:00.000000000",
          "2020-03-26T00:00:00.000000000",
          "2020-03-27T00:00:00.000000000",
          "2020-03-28T00:00:00.000000000",
          "2020-03-29T00:00:00.000000000",
          "2020-03-30T00:00:00.000000000",
          "2020-03-31T00:00:00.000000000",
          "2020-04-01T00:00:00.000000000",
          "2020-04-02T00:00:00.000000000",
          "2020-04-03T00:00:00.000000000",
          "2020-04-04T00:00:00.000000000",
          "2020-04-05T00:00:00.000000000",
          "2020-04-06T00:00:00.000000000",
          "2020-04-07T00:00:00.000000000",
          "2020-04-08T00:00:00.000000000",
          "2020-04-09T00:00:00.000000000",
          "2020-04-10T00:00:00.000000000",
          "2020-04-11T00:00:00.000000000",
          "2020-04-12T00:00:00.000000000",
          "2020-04-13T00:00:00.000000000",
          "2020-04-14T00:00:00.000000000",
          "2020-04-15T00:00:00.000000000",
          "2020-04-16T00:00:00.000000000",
          "2020-04-17T00:00:00.000000000",
          "2020-04-18T00:00:00.000000000",
          "2020-04-19T00:00:00.000000000",
          "2020-04-20T00:00:00.000000000",
          "2020-04-21T00:00:00.000000000",
          "2020-04-22T00:00:00.000000000",
          "2020-04-23T00:00:00.000000000",
          "2020-04-24T00:00:00.000000000",
          "2020-04-25T00:00:00.000000000",
          "2020-04-26T00:00:00.000000000",
          "2020-04-27T00:00:00.000000000",
          "2020-04-28T00:00:00.000000000",
          "2020-04-29T00:00:00.000000000",
          "2020-04-30T00:00:00.000000000",
          "2020-05-01T00:00:00.000000000",
          "2020-05-02T00:00:00.000000000",
          "2020-05-03T00:00:00.000000000",
          "2020-05-04T00:00:00.000000000",
          "2020-05-05T00:00:00.000000000",
          "2020-05-06T00:00:00.000000000",
          "2020-05-07T00:00:00.000000000",
          "2020-05-08T00:00:00.000000000",
          "2020-05-09T00:00:00.000000000",
          "2020-05-10T00:00:00.000000000",
          "2020-05-11T00:00:00.000000000",
          "2020-05-12T00:00:00.000000000",
          "2020-05-13T00:00:00.000000000",
          "2020-05-14T00:00:00.000000000",
          "2020-05-15T00:00:00.000000000",
          "2020-05-16T00:00:00.000000000",
          "2020-05-17T00:00:00.000000000",
          "2020-05-18T00:00:00.000000000",
          "2020-05-19T00:00:00.000000000",
          "2020-05-20T00:00:00.000000000",
          "2020-05-21T00:00:00.000000000",
          "2020-05-22T00:00:00.000000000",
          "2020-05-23T00:00:00.000000000",
          "2020-05-24T00:00:00.000000000",
          "2020-05-25T00:00:00.000000000",
          "2020-05-26T00:00:00.000000000",
          "2020-05-27T00:00:00.000000000",
          "2020-05-28T00:00:00.000000000",
          "2020-05-29T00:00:00.000000000",
          "2020-05-30T00:00:00.000000000",
          "2020-05-31T00:00:00.000000000",
          "2020-06-01T00:00:00.000000000",
          "2020-06-02T00:00:00.000000000",
          "2020-06-03T00:00:00.000000000",
          "2020-06-04T00:00:00.000000000",
          "2020-06-05T00:00:00.000000000",
          "2020-06-06T00:00:00.000000000",
          "2020-06-07T00:00:00.000000000",
          "2020-06-08T00:00:00.000000000",
          "2020-06-09T00:00:00.000000000",
          "2020-06-10T00:00:00.000000000",
          "2020-06-11T00:00:00.000000000",
          "2020-06-12T00:00:00.000000000",
          "2020-06-13T00:00:00.000000000",
          "2020-06-14T00:00:00.000000000",
          "2020-06-15T00:00:00.000000000",
          "2020-06-16T00:00:00.000000000",
          "2020-06-17T00:00:00.000000000",
          "2020-06-18T00:00:00.000000000",
          "2020-06-19T00:00:00.000000000",
          "2020-06-20T00:00:00.000000000",
          "2020-06-21T00:00:00.000000000",
          "2020-06-22T00:00:00.000000000",
          "2020-06-23T00:00:00.000000000",
          "2020-06-24T00:00:00.000000000",
          "2020-06-25T00:00:00.000000000",
          "2020-06-26T00:00:00.000000000",
          "2020-06-27T00:00:00.000000000",
          "2020-06-28T00:00:00.000000000",
          "2020-06-29T00:00:00.000000000",
          "2020-06-30T00:00:00.000000000",
          "2020-07-01T00:00:00.000000000",
          "2020-07-02T00:00:00.000000000",
          "2020-07-03T00:00:00.000000000",
          "2020-07-04T00:00:00.000000000",
          "2020-07-05T00:00:00.000000000",
          "2020-07-06T00:00:00.000000000",
          "2020-07-07T00:00:00.000000000",
          "2020-07-08T00:00:00.000000000",
          "2020-07-09T00:00:00.000000000",
          "2020-07-10T00:00:00.000000000",
          "2020-07-11T00:00:00.000000000",
          "2020-07-12T00:00:00.000000000",
          "2020-07-13T00:00:00.000000000",
          "2020-07-14T00:00:00.000000000",
          "2020-07-15T00:00:00.000000000",
          "2020-07-16T00:00:00.000000000",
          "2020-07-17T00:00:00.000000000",
          "2020-07-18T00:00:00.000000000",
          "2020-07-19T00:00:00.000000000",
          "2020-07-20T00:00:00.000000000",
          "2020-07-21T00:00:00.000000000",
          "2020-07-22T00:00:00.000000000",
          "2020-07-23T00:00:00.000000000",
          "2020-07-24T00:00:00.000000000",
          "2020-07-25T00:00:00.000000000",
          "2020-07-26T00:00:00.000000000",
          "2020-07-27T00:00:00.000000000",
          "2020-07-28T00:00:00.000000000",
          "2020-07-29T00:00:00.000000000",
          "2020-07-30T00:00:00.000000000",
          "2020-07-31T00:00:00.000000000",
          "2020-08-01T00:00:00.000000000",
          "2020-08-02T00:00:00.000000000",
          "2020-08-03T00:00:00.000000000",
          "2020-08-04T00:00:00.000000000",
          "2020-08-05T00:00:00.000000000",
          "2020-08-06T00:00:00.000000000",
          "2020-08-07T00:00:00.000000000",
          "2020-08-08T00:00:00.000000000",
          "2020-08-09T00:00:00.000000000",
          "2020-08-10T00:00:00.000000000",
          "2020-08-11T00:00:00.000000000",
          "2020-08-12T00:00:00.000000000",
          "2020-08-13T00:00:00.000000000",
          "2020-08-14T00:00:00.000000000",
          "2020-08-15T00:00:00.000000000",
          "2020-08-16T00:00:00.000000000",
          "2020-08-17T00:00:00.000000000",
          "2020-08-18T00:00:00.000000000",
          "2020-08-19T00:00:00.000000000",
          "2020-08-20T00:00:00.000000000",
          "2020-08-21T00:00:00.000000000",
          "2020-08-22T00:00:00.000000000",
          "2020-08-23T00:00:00.000000000",
          "2020-08-24T00:00:00.000000000",
          "2020-08-25T00:00:00.000000000",
          "2020-08-26T00:00:00.000000000",
          "2020-08-27T00:00:00.000000000",
          "2020-08-29T00:00:00.000000000",
          "2020-08-30T00:00:00.000000000",
          "2020-08-31T00:00:00.000000000",
          "2020-09-01T00:00:00.000000000",
          "2020-09-02T00:00:00.000000000",
          "2020-09-03T00:00:00.000000000",
          "2020-09-04T00:00:00.000000000",
          "2020-09-05T00:00:00.000000000",
          "2020-09-06T00:00:00.000000000",
          "2020-09-07T00:00:00.000000000",
          "2020-09-08T00:00:00.000000000",
          "2020-09-09T00:00:00.000000000",
          "2020-09-10T00:00:00.000000000",
          "2020-09-11T00:00:00.000000000",
          "2020-09-12T00:00:00.000000000",
          "2020-09-13T00:00:00.000000000",
          "2020-09-14T00:00:00.000000000",
          "2020-09-15T00:00:00.000000000",
          "2020-09-16T00:00:00.000000000",
          "2020-09-17T00:00:00.000000000",
          "2020-09-18T00:00:00.000000000",
          "2020-09-19T00:00:00.000000000",
          "2020-09-20T00:00:00.000000000",
          "2020-09-21T00:00:00.000000000",
          "2020-09-22T00:00:00.000000000",
          "2020-09-23T00:00:00.000000000",
          "2020-09-24T00:00:00.000000000",
          "2020-09-25T00:00:00.000000000",
          "2020-09-26T00:00:00.000000000",
          "2020-09-27T00:00:00.000000000",
          "2020-09-28T00:00:00.000000000",
          "2020-09-29T00:00:00.000000000",
          "2020-09-30T00:00:00.000000000",
          "2020-10-01T00:00:00.000000000",
          "2020-10-02T00:00:00.000000000",
          "2020-10-03T00:00:00.000000000",
          "2020-10-04T00:00:00.000000000",
          "2020-10-05T00:00:00.000000000",
          "2020-10-06T00:00:00.000000000",
          "2020-10-07T00:00:00.000000000",
          "2020-10-08T00:00:00.000000000",
          "2020-10-09T00:00:00.000000000",
          "2020-10-10T00:00:00.000000000",
          "2020-10-11T00:00:00.000000000",
          "2020-10-12T00:00:00.000000000",
          "2020-10-13T00:00:00.000000000",
          "2020-10-14T00:00:00.000000000",
          "2020-10-16T00:00:00.000000000",
          "2020-10-17T00:00:00.000000000",
          "2020-10-18T00:00:00.000000000",
          "2020-10-19T00:00:00.000000000",
          "2020-10-20T00:00:00.000000000",
          "2020-10-21T00:00:00.000000000",
          "2020-10-22T00:00:00.000000000",
          "2020-10-23T00:00:00.000000000",
          "2020-10-24T00:00:00.000000000",
          "2020-10-25T00:00:00.000000000",
          "2020-10-26T00:00:00.000000000",
          "2020-10-27T00:00:00.000000000",
          "2020-10-28T00:00:00.000000000",
          "2020-10-29T00:00:00.000000000",
          "2020-10-30T00:00:00.000000000",
          "2020-10-31T00:00:00.000000000",
          "2020-11-01T00:00:00.000000000",
          "2020-11-02T00:00:00.000000000",
          "2020-11-03T00:00:00.000000000",
          "2020-11-04T00:00:00.000000000",
          "2020-11-05T00:00:00.000000000",
          "2020-11-06T00:00:00.000000000",
          "2020-11-07T00:00:00.000000000",
          "2020-11-08T00:00:00.000000000",
          "2020-11-09T00:00:00.000000000",
          "2020-11-10T00:00:00.000000000",
          "2020-11-11T00:00:00.000000000",
          "2020-11-12T00:00:00.000000000",
          "2020-11-13T00:00:00.000000000",
          "2020-11-14T00:00:00.000000000",
          "2020-11-15T00:00:00.000000000",
          "2020-11-16T00:00:00.000000000",
          "2020-11-17T00:00:00.000000000",
          "2020-11-18T00:00:00.000000000",
          "2020-11-19T00:00:00.000000000",
          "2020-11-20T00:00:00.000000000",
          "2020-11-21T00:00:00.000000000",
          "2020-11-22T00:00:00.000000000",
          "2020-11-23T00:00:00.000000000",
          "2020-11-24T00:00:00.000000000",
          "2020-11-25T00:00:00.000000000",
          "2020-11-26T00:00:00.000000000",
          "2020-11-27T00:00:00.000000000",
          "2020-11-28T00:00:00.000000000",
          "2020-11-29T00:00:00.000000000",
          "2020-11-30T00:00:00.000000000",
          "2020-12-01T00:00:00.000000000",
          "2020-12-02T00:00:00.000000000",
          "2020-12-03T00:00:00.000000000",
          "2020-12-04T00:00:00.000000000",
          "2020-12-05T00:00:00.000000000",
          "2020-12-06T00:00:00.000000000",
          "2020-12-07T00:00:00.000000000",
          "2020-12-08T00:00:00.000000000",
          "2020-12-09T00:00:00.000000000",
          "2020-12-10T00:00:00.000000000",
          "2020-12-11T00:00:00.000000000",
          "2020-12-12T00:00:00.000000000",
          "2020-12-13T00:00:00.000000000",
          "2020-12-14T00:00:00.000000000",
          "2020-12-15T00:00:00.000000000",
          "2020-12-16T00:00:00.000000000",
          "2020-12-17T00:00:00.000000000",
          "2020-12-18T00:00:00.000000000",
          "2020-12-19T00:00:00.000000000",
          "2020-12-20T00:00:00.000000000",
          "2020-12-21T00:00:00.000000000",
          "2020-12-22T00:00:00.000000000",
          "2020-12-23T00:00:00.000000000",
          "2020-12-24T00:00:00.000000000",
          "2020-12-25T00:00:00.000000000",
          "2020-12-26T00:00:00.000000000",
          "2020-12-27T00:00:00.000000000",
          "2020-12-28T00:00:00.000000000",
          "2020-12-29T00:00:00.000000000",
          "2020-12-30T00:00:00.000000000",
          "2020-12-31T00:00:00.000000000"
         ],
         "xaxis": "x",
         "y": {
          "bdata": "QD5BoS1PLMDAA9ZvUqwgwEDV3EyzkSbAoLHqMU9nOkBAuEj1L8UqQACFDtmBtB9AAD528bVyCkAAt1wgmIksQECeJKwUVSfAgHEUZzeTIsAgG2SF2VE+wKCaOAjDZTBAAGisRuw37r8AZr7/8y4VwGARVRhFYj9A4PpEJfRtRsAwiAop55hDwMARFKMFIjvAADi8DQGM9D8Aa02do3FPwKzFNiR+/WBAQJYPQpyjI0DAE6noStg4QECBYX5ZJjrAQCvd8f5iQkDADLrq+BBGQJCEcmU+O0zAQJGYmWeaOcAAYkxOi9hawODckWfVvjFAgEXQejz4KcAAkXqzEw8EwMDV5ju7fUZAmBehu5lYWEDgeR9w20lFQADEAbXMEgJAAGq+J7eK9L8AY0Mmgew2wIBtFmw7yx1AAPd2P30dI0DwCPk4G99IQMS+r7JQwWZAGDbLlIw0dkCgvFW4LaBBQEBSdTd/2zbApjVievDVcUAgY0bcgDg4wIjS3e8a1HBAzkVaCfaac0ClAvCMiZl1wFyYYoFH0XPA5M+iA+c/dcDq+prHKyB2wKR/2ESPFGLAUPaP0XtnT8CAG1FqfsszQFCxef4gTEBAAL9MisyfHcCALPnmQc8WwAxrPO1ag2TAwF9bF7nHNcBA6brwjH8zwMALM9DKFEvA5K/+0bYidsCAXld4omMawABzJMAmigzAANxDHQcHAUCA0grqIGshQGBHjAngo0jAQHGr5v8dM0DAwtDDn9A0QAD6ot2ODg7A4HuhzjRSVEBAhtbNhNoyQJDAIJzjHlBAAMDapJspzb+AhouQQw8uQEDI0A/usFZA4Kpq8bZpR0AAWBzsauNIwAAsxjG75CtAABnoBa6lEsAAVJT1ZcgowABSwVC9rClAAEwvrVh6KUAAwOSSzRTIvwBT5W+vjxNAgIO+0Wr8K0DA5uAj8HU7wIAzDKYCJkRAQL0hi8P9MEBAsdJFBzE/QGAFn4h2TVBAwIESqhL4MEAgD0EzYVdCQIAtY20fgDJAAGgKAAHR5D+AC6tcfQUnQNBtuLioCVdAIGE884+DR0CAI8DqwmolwIAahtgteyNAAOxD59FmEsAAkt0l8m0NwABMy1kDojXAAJ+UFBIqEsAAeD2nwQHwv8Af7rOc0ibAuDbpSWYBU0AAQJjys5I3QECh64Y3eyXA4AwJCJHJQMAArf6Mh+s1QOCPgr4c60PAyA8id/zNX8DIxOEWmUdWwDzksh96w2LAQFAB7wsRNUCIcE36Z5RpwFCvyWC7hERA4OY1mD6XN8BojZeD0PRTwIAVbrbecSDAwFnxuEcKMMAAKwJYbUgOQMDUfNXBASDAgCvonyX/FcCAUd6GUNAnwIDGiyDedRxAIEDCWJSKNsDAScFXxtA1wMDXK2AwOSXAgH+E+8I5M8AAeUC+TzknwEBV6rfBMSNAgP1/BcDhJ0Agy8pJHI03wAD9S8xX7gdAAOLgQ3NqE0CQTwRWMMJAQAAV4uavQAzAwF+PBLx+OMCAsLbIpHgpQICpRg4q3zfAwBv3xpsDO0AAGj3c33A5wABKpNtbhBdAgPGqhphwE0AAOG16eU8MQABvp+eU9EVAAItdtzgFOMAgIY8207ZBwEBKC5HUSifAgHk1AqPNE0BAqVI+TAEgwFBhgWC+Bl9AQGyq5T9BJcAg4X1IY0s6QABYjxXL6Pq/AKB45OU4s78AMOJgDD/VvwBUmfXulknAUPEQSGBdQ0Dwzpp7/ZJAQBB0j3hppkBAABzS2t+J7j+AbJY/Y9Q0wAD2IMx2ig1AAFgPCoWUEMAAPNxM5QLqP4D0+EnAKCTAAPOcT9ocKMDA86Rc8E4tQAA0uOsdmxpAwN6lo+UVJcAQbJzmJoVJwABo2AJ6NTXAYATlgoabNUAAnKcYk6L/P9TLCskCn21ADvrTv2S2eUAok4xb5O5uQEDPNdtHDTNAhrIDgCdscEBEgDZUvtRgQLT4aklpeWFAXBJ0M1oAZEAAqt4tNFoJQACwZ0wMryLAAJhogK37MMDAt6UPDGZCQADjO6V/WhfAAKjHO3TS47/AX6ArdpYkwGDZTjk+pjfAgBx4XnRgIkAQVbWaY+5GwAAmsN7K1xBAAL0pHN5EI8CA4AQh0+QrQECzAtIAVytAAICiOjupJUAAXAFM8TIFQACvMgOvRSBAwIGM8M/kIUBAKGeeCc8pQAD8J7UnpSVA4BQqmPIBM8AA7GZpZKHzvyDhMpbqZTLAAOXXt+tLF0DA9ctjTeYlwECmFecZqDzAgN37mMaIKMBg8Nj4Ugk9wGDl2/y+6jNAAGnjWz7iAUAAGDjegkkawICdzZThPRLAQKleMG85LEAwEqIV12VKQMDh2/FjhzFAACHKUtPYDsCAHLnBo4ISQOAquIh9TzJAAPfU04mpIEBAQ3DEVncmQFAk7jAtKETAAAlXwdoJKMAgdaqo7ZY2QCA8CKvjITHA4FLAvN2tX0CgcAErIT4wQIA+F1JrlRtANJAKQ2v/ZkCcyCdkl85pQABThk3BzAjAwH36szQ8J8D4jIk3JQFbQOyTBAkCxFjAAEKOefA3/z9gDCwylW1QwDCa8OLwHE1AQDTAM+mVIEDA03JoGEAzwOB+PM/Z7TDAgDo5QZ3qJkCAS/EE8RsYwMAmx6aZXSxAwM5RWUQOI0AA9DipaMsYwIBu+VVo+SLAAC/Fu5IwAsCAeWKo0QsbwMCcPYt2jStAAGT7/cxh8L+AZ7/Ps6IyQEBxdZpCgzBAAC6XgRTLIMAAh98VTkgZwMA8s5hVhCzAABNYsz5ZHEBAqLM8ypczQFDZa2LVDENAQDe5FuvnIsAgucdB6OwwwCBKIpcdsTPAQOW321jNJ8AA1uvvX6z0P4Cd0xx1FyRAIHXPcne2MkAAO7XxPUcQwIDnz6D5kRtAwBln9189O8DAbEruAn4awDASBKAqwjJA7PTM+d+0VkC8R9wa5KlQQAARfNaJQyDAWNc5vAm6QsAAbAQOgtEpwAA40hXbHeI/YAC2noxdS8CAYm7CwYsmQALBCCdB125A1s/W2+9KYEAgGzqDAfJJwCCEfUxIRFDAoLIGIblDOEBgIy7RAGlCQKAAUPyx8ELAcJ7C+5jWRECAAPKmdL9cQJCmHGiFokLAAMAEi8z1uD+ASHO7cGoQwEABFjC8BivA0EMyODwlRUAA0Dn6ERJCQAAIK+UggN+/AMgFxWGPPcCgz6V7RiwzwIBlRXLZMShAAEkjB6COB0AAHAKalSouwHDCquLqIl9AABi6tTII8L/gk8rjwqVHQKC9p8oPhTZAIAoKzLLRWUCI58cIvMxhQKCWtkRsjTLASO6UjeaZZcCAgpCZ0astwIDa5COkwxBAQKpGxScFKkB4snz0UmVTQMByQceSoDNAgKMYjt2uHEDAC5SMhH0nwIBXOqMaBRnAgAOL/zFXPMAAMX0L2XA6wDBxFZS/qUxA0PIuURFbQUBAwlIJiZohQKAYqumGrjBAgBWnfYejFkCwaR5BO0FgQIBZmOLYBBRAAAtzhPK0GUDANdnXKmsmwHhiz+R0xWLAyFF/lRaBVsCoovsr56FywPTfumfcKmHAwPYF/nv/L8BomY0zMghgwOaOZe/ffWXAoBXyyDnHXEDAuRRK/Sk5QIAQ7vpSBRlAgJ0iKAtSOUCA2aLpA6EfQEAgpLHxKjvAwDH/nnGOL0CAKcXhmusXQGD+KaIdazDAADqRjTgkBEAAzF+LU1P5PwAi6rWUsRrAAHWAB+UZBMDAyUzGlroxwADygiRHBBbAEK+juVlNM8AAT3Jn8kkMQPCktPKvgzdAAMwVXArVBsAAcd6eIrn8P+D9d0+TXCFA",
          "dtype": "f8"
         },
         "yaxis": "y"
        }
       ],
       "layout": {
        "legend": {
         "tracegroupgap": 0
        },
        "template": {
         "data": {
          "bar": [
           {
            "error_x": {
             "color": "#2a3f5f"
            },
            "error_y": {
             "color": "#2a3f5f"
            },
            "marker": {
             "line": {
              "color": "#E5ECF6",
              "width": 0.5
             },
             "pattern": {
              "fillmode": "overlay",
              "size": 10,
              "solidity": 0.2
             }
            },
            "type": "bar"
           }
          ],
          "barpolar": [
           {
            "marker": {
             "line": {
              "color": "#E5ECF6",
              "width": 0.5
             },
             "pattern": {
              "fillmode": "overlay",
              "size": 10,
              "solidity": 0.2
             }
            },
            "type": "barpolar"
           }
          ],
          "carpet": [
           {
            "aaxis": {
             "endlinecolor": "#2a3f5f",
             "gridcolor": "white",
             "linecolor": "white",
             "minorgridcolor": "white",
             "startlinecolor": "#2a3f5f"
            },
            "baxis": {
             "endlinecolor": "#2a3f5f",
             "gridcolor": "white",
             "linecolor": "white",
             "minorgridcolor": "white",
             "startlinecolor": "#2a3f5f"
            },
            "type": "carpet"
           }
          ],
          "choropleth": [
           {
            "colorbar": {
             "outlinewidth": 0,
             "ticks": ""
            },
            "type": "choropleth"
           }
          ],
          "contour": [
           {
            "colorbar": {
             "outlinewidth": 0,
             "ticks": ""
            },
            "colorscale": [
             [
              0,
              "#0d0887"
             ],
             [
              0.1111111111111111,
              "#46039f"
             ],
             [
              0.2222222222222222,
              "#7201a8"
             ],
             [
              0.3333333333333333,
              "#9c179e"
             ],
             [
              0.4444444444444444,
              "#bd3786"
             ],
             [
              0.5555555555555556,
              "#d8576b"
             ],
             [
              0.6666666666666666,
              "#ed7953"
             ],
             [
              0.7777777777777778,
              "#fb9f3a"
             ],
             [
              0.8888888888888888,
              "#fdca26"
             ],
             [
              1,
              "#f0f921"
             ]
            ],
            "type": "contour"
           }
          ],
          "contourcarpet": [
           {
            "colorbar": {
             "outlinewidth": 0,
             "ticks": ""
            },
            "type": "contourcarpet"
           }
          ],
          "heatmap": [
           {
            "colorbar": {
             "outlinewidth": 0,
             "ticks": ""
            },
            "colorscale": [
             [
              0,
              "#0d0887"
             ],
             [
              0.1111111111111111,
              "#46039f"
             ],
             [
              0.2222222222222222,
              "#7201a8"
             ],
             [
              0.3333333333333333,
              "#9c179e"
             ],
             [
              0.4444444444444444,
              "#bd3786"
             ],
             [
              0.5555555555555556,
              "#d8576b"
             ],
             [
              0.6666666666666666,
              "#ed7953"
             ],
             [
              0.7777777777777778,
              "#fb9f3a"
             ],
             [
              0.8888888888888888,
              "#fdca26"
             ],
             [
              1,
              "#f0f921"
             ]
            ],
            "type": "heatmap"
           }
          ],
          "histogram": [
           {
            "marker": {
             "pattern": {
              "fillmode": "overlay",
              "size": 10,
              "solidity": 0.2
             }
            },
            "type": "histogram"
           }
          ],
          "histogram2d": [
           {
            "colorbar": {
             "outlinewidth": 0,
             "ticks": ""
            },
            "colorscale": [
             [
              0,
              "#0d0887"
             ],
             [
              0.1111111111111111,
              "#46039f"
             ],
             [
              0.2222222222222222,
              "#7201a8"
             ],
             [
              0.3333333333333333,
              "#9c179e"
             ],
             [
              0.4444444444444444,
              "#bd3786"
             ],
             [
              0.5555555555555556,
              "#d8576b"
             ],
             [
              0.6666666666666666,
              "#ed7953"
             ],
             [
              0.7777777777777778,
              "#fb9f3a"
             ],
             [
              0.8888888888888888,
              "#fdca26"
             ],
             [
              1,
              "#f0f921"
             ]
            ],
            "type": "histogram2d"
           }
          ],
          "histogram2dcontour": [
           {
            "colorbar": {
             "outlinewidth": 0,
             "ticks": ""
            },
            "colorscale": [
             [
              0,
              "#0d0887"
             ],
             [
              0.1111111111111111,
              "#46039f"
             ],
             [
              0.2222222222222222,
              "#7201a8"
             ],
             [
              0.3333333333333333,
              "#9c179e"
             ],
             [
              0.4444444444444444,
              "#bd3786"
             ],
             [
              0.5555555555555556,
              "#d8576b"
             ],
             [
              0.6666666666666666,
              "#ed7953"
             ],
             [
              0.7777777777777778,
              "#fb9f3a"
             ],
             [
              0.8888888888888888,
              "#fdca26"
             ],
             [
              1,
              "#f0f921"
             ]
            ],
            "type": "histogram2dcontour"
           }
          ],
          "mesh3d": [
           {
            "colorbar": {
             "outlinewidth": 0,
             "ticks": ""
            },
            "type": "mesh3d"
           }
          ],
          "parcoords": [
           {
            "line": {
             "colorbar": {
              "outlinewidth": 0,
              "ticks": ""
             }
            },
            "type": "parcoords"
           }
          ],
          "pie": [
           {
            "automargin": true,
            "type": "pie"
           }
          ],
          "scatter": [
           {
            "fillpattern": {
             "fillmode": "overlay",
             "size": 10,
             "solidity": 0.2
            },
            "type": "scatter"
           }
          ],
          "scatter3d": [
           {
            "line": {
             "colorbar": {
              "outlinewidth": 0,
              "ticks": ""
             }
            },
            "marker": {
             "colorbar": {
              "outlinewidth": 0,
              "ticks": ""
             }
            },
            "type": "scatter3d"
           }
          ],
          "scattercarpet": [
           {
            "marker": {
             "colorbar": {
              "outlinewidth": 0,
              "ticks": ""
             }
            },
            "type": "scattercarpet"
           }
          ],
          "scattergeo": [
           {
            "marker": {
             "colorbar": {
              "outlinewidth": 0,
              "ticks": ""
             }
            },
            "type": "scattergeo"
           }
          ],
          "scattergl": [
           {
            "marker": {
             "colorbar": {
              "outlinewidth": 0,
              "ticks": ""
             }
            },
            "type": "scattergl"
           }
          ],
          "scattermap": [
           {
            "marker": {
             "colorbar": {
              "outlinewidth": 0,
              "ticks": ""
             }
            },
            "type": "scattermap"
           }
          ],
          "scattermapbox": [
           {
            "marker": {
             "colorbar": {
              "outlinewidth": 0,
              "ticks": ""
             }
            },
            "type": "scattermapbox"
           }
          ],
          "scatterpolar": [
           {
            "marker": {
             "colorbar": {
              "outlinewidth": 0,
              "ticks": ""
             }
            },
            "type": "scatterpolar"
           }
          ],
          "scatterpolargl": [
           {
            "marker": {
             "colorbar": {
              "outlinewidth": 0,
              "ticks": ""
             }
            },
            "type": "scatterpolargl"
           }
          ],
          "scatterternary": [
           {
            "marker": {
             "colorbar": {
              "outlinewidth": 0,
              "ticks": ""
             }
            },
            "type": "scatterternary"
           }
          ],
          "surface": [
           {
            "colorbar": {
             "outlinewidth": 0,
             "ticks": ""
            },
            "colorscale": [
             [
              0,
              "#0d0887"
             ],
             [
              0.1111111111111111,
              "#46039f"
             ],
             [
              0.2222222222222222,
              "#7201a8"
             ],
             [
              0.3333333333333333,
              "#9c179e"
             ],
             [
              0.4444444444444444,
              "#bd3786"
             ],
             [
              0.5555555555555556,
              "#d8576b"
             ],
             [
              0.6666666666666666,
              "#ed7953"
             ],
             [
              0.7777777777777778,
              "#fb9f3a"
             ],
             [
              0.8888888888888888,
              "#fdca26"
             ],
             [
              1,
              "#f0f921"
             ]
            ],
            "type": "surface"
           }
          ],
          "table": [
           {
            "cells": {
             "fill": {
              "color": "#EBF0F8"
             },
             "line": {
              "color": "white"
             }
            },
            "header": {
             "fill": {
              "color": "#C8D4E3"
             },
             "line": {
              "color": "white"
             }
            },
            "type": "table"
           }
          ]
         },
         "layout": {
          "annotationdefaults": {
           "arrowcolor": "#2a3f5f",
           "arrowhead": 0,
           "arrowwidth": 1
          },
          "autotypenumbers": "strict",
          "coloraxis": {
           "colorbar": {
            "outlinewidth": 0,
            "ticks": ""
           }
          },
          "colorscale": {
           "diverging": [
            [
             0,
             "#8e0152"
            ],
            [
             0.1,
             "#c51b7d"
            ],
            [
             0.2,
             "#de77ae"
            ],
            [
             0.3,
             "#f1b6da"
            ],
            [
             0.4,
             "#fde0ef"
            ],
            [
             0.5,
             "#f7f7f7"
            ],
            [
             0.6,
             "#e6f5d0"
            ],
            [
             0.7,
             "#b8e186"
            ],
            [
             0.8,
             "#7fbc41"
            ],
            [
             0.9,
             "#4d9221"
            ],
            [
             1,
             "#276419"
            ]
           ],
           "sequential": [
            [
             0,
             "#0d0887"
            ],
            [
             0.1111111111111111,
             "#46039f"
            ],
            [
             0.2222222222222222,
             "#7201a8"
            ],
            [
             0.3333333333333333,
             "#9c179e"
            ],
            [
             0.4444444444444444,
             "#bd3786"
            ],
            [
             0.5555555555555556,
             "#d8576b"
            ],
            [
             0.6666666666666666,
             "#ed7953"
            ],
            [
             0.7777777777777778,
             "#fb9f3a"
            ],
            [
             0.8888888888888888,
             "#fdca26"
            ],
            [
             1,
             "#f0f921"
            ]
           ],
           "sequentialminus": [
            [
             0,
             "#0d0887"
            ],
            [
             0.1111111111111111,
             "#46039f"
            ],
            [
             0.2222222222222222,
             "#7201a8"
            ],
            [
             0.3333333333333333,
             "#9c179e"
            ],
            [
             0.4444444444444444,
             "#bd3786"
            ],
            [
             0.5555555555555556,
             "#d8576b"
            ],
            [
             0.6666666666666666,
             "#ed7953"
            ],
            [
             0.7777777777777778,
             "#fb9f3a"
            ],
            [
             0.8888888888888888,
             "#fdca26"
            ],
            [
             1,
             "#f0f921"
            ]
           ]
          },
          "colorway": [
           "#636efa",
           "#EF553B",
           "#00cc96",
           "#ab63fa",
           "#FFA15A",
           "#19d3f3",
           "#FF6692",
           "#B6E880",
           "#FF97FF",
           "#FECB52"
          ],
          "font": {
           "color": "#2a3f5f"
          },
          "geo": {
           "bgcolor": "white",
           "lakecolor": "white",
           "landcolor": "#E5ECF6",
           "showlakes": true,
           "showland": true,
           "subunitcolor": "white"
          },
          "hoverlabel": {
           "align": "left"
          },
          "hovermode": "closest",
          "mapbox": {
           "style": "light"
          },
          "paper_bgcolor": "white",
          "plot_bgcolor": "#E5ECF6",
          "polar": {
           "angularaxis": {
            "gridcolor": "white",
            "linecolor": "white",
            "ticks": ""
           },
           "bgcolor": "#E5ECF6",
           "radialaxis": {
            "gridcolor": "white",
            "linecolor": "white",
            "ticks": ""
           }
          },
          "scene": {
           "xaxis": {
            "backgroundcolor": "#E5ECF6",
            "gridcolor": "white",
            "gridwidth": 2,
            "linecolor": "white",
            "showbackground": true,
            "ticks": "",
            "zerolinecolor": "white"
           },
           "yaxis": {
            "backgroundcolor": "#E5ECF6",
            "gridcolor": "white",
            "gridwidth": 2,
            "linecolor": "white",
            "showbackground": true,
            "ticks": "",
            "zerolinecolor": "white"
           },
           "zaxis": {
            "backgroundcolor": "#E5ECF6",
            "gridcolor": "white",
            "gridwidth": 2,
            "linecolor": "white",
            "showbackground": true,
            "ticks": "",
            "zerolinecolor": "white"
           }
          },
          "shapedefaults": {
           "line": {
            "color": "#2a3f5f"
           }
          },
          "ternary": {
           "aaxis": {
            "gridcolor": "white",
            "linecolor": "white",
            "ticks": ""
           },
           "baxis": {
            "gridcolor": "white",
            "linecolor": "white",
            "ticks": ""
           },
           "bgcolor": "#E5ECF6",
           "caxis": {
            "gridcolor": "white",
            "linecolor": "white",
            "ticks": ""
           }
          },
          "title": {
           "x": 0.05
          },
          "xaxis": {
           "automargin": true,
           "gridcolor": "white",
           "linecolor": "white",
           "ticks": "",
           "title": {
            "standoff": 15
           },
           "zerolinecolor": "white",
           "zerolinewidth": 2
          },
          "yaxis": {
           "automargin": true,
           "gridcolor": "white",
           "linecolor": "white",
           "ticks": "",
           "title": {
            "standoff": 15
           },
           "zerolinecolor": "white",
           "zerolinewidth": 2
          }
         }
        },
        "title": {
         "text": "Oak - 2020"
        },
        "xaxis": {
         "anchor": "y",
         "domain": [
          0,
          1
         ],
         "title": {
          "text": "time"
         }
        },
        "yaxis": {
         "anchor": "x",
         "domain": [
          0,
          1
         ],
         "title": {
          "text": "b12_adjusted"
         }
        }
       }
      }
     },
     "metadata": {},
     "output_type": "display_data"
    }
   ],
   "source": [
    "px.line(df_trees_stationary, x=\"time\", y=\"b12_adjusted\", title=\"Oak - 2020\")"
   ]
  },
  {
   "cell_type": "code",
   "execution_count": null,
   "id": "2b46549d",
   "metadata": {},
   "outputs": [
    {
     "name": "stdout",
     "output_type": "stream",
     "text": [
      "ADF-Test:\n",
      "  Teststatistik: -8.0183\n",
      "  p-Wert:       0.0000\n",
      "  Kritische Werte: {'1%': np.float64(-3.448853029339765), '5%': np.float64(-2.869693115704379), '10%': np.float64(-2.571113512498422)}\n",
      "  ⇒ Nullhypothese verwerfen: Stationär\n",
      "\n",
      "KPSS-Test:\n",
      "  Teststatistik: 0.0930\n",
      "  p-Wert:       0.1000\n",
      "  Kritische Werte: {'10%': 0.347, '5%': 0.463, '2.5%': 0.574, '1%': 0.739}\n",
      "  ⇒ Nullhypothese nicht verwerfen: Stationär\n",
      "\n"
     ]
    },
    {
     "name": "stderr",
     "output_type": "stream",
     "text": [
      "/tmp/ipykernel_3488/1647109396.py:19: InterpolationWarning:\n",
      "\n",
      "The test statistic is outside of the range of p-values available in the\n",
      "look-up table. The actual p-value is greater than the p-value returned.\n",
      "\n",
      "\n"
     ]
    },
    {
     "data": {
      "image/png": "[encoded data removed]",
      "text/plain": [
       "<Figure size 640x480 with 1 Axes>"
      ]
     },
     "metadata": {},
     "output_type": "display_data"
    }
   ],
   "source": [
    "# Beispiel mit species oak\n",
    "\n",
    "\n",
    "# --- ADF Test ---\n",
    "def adf_test(series):\n",
    "    result = adfuller(series, autolag=\"AIC\")\n",
    "    print(\"ADF-Test:\")\n",
    "    print(f\"  Teststatistik: {result[0]:.4f}\")\n",
    "    print(f\"  p-Wert:       {result[1]:.4f}\")\n",
    "    print(f\"  Kritische Werte: {result[4]}\")\n",
    "    if result[1] < 0.05:\n",
    "        print(\"  ⇒ Nullhypothese verwerfen: Stationär\\n\")\n",
    "    else:\n",
    "        print(\"  ⇒ Nullhypothese nicht verwerfen: Nicht stationär\\n\")\n",
    "\n",
    "\n",
    "# --- KPSS Test ---\n",
    "def kpss_test(series):\n",
    "    result = kpss(series, regression=\"c\", nlags=\"auto\")\n",
    "    print(\"KPSS-Test:\")\n",
    "    print(f\"  Teststatistik: {result[0]:.4f}\")\n",
    "    print(f\"  p-Wert:       {result[1]:.4f}\")\n",
    "    print(f\"  Kritische Werte: {result[3]}\")\n",
    "    if result[1] < 0.05:\n",
    "        print(\"  ⇒ Nullhypothese verwerfen: Nicht stationär\\n\")\n",
    "    else:\n",
    "        print(\"  ⇒ Nullhypothese nicht verwerfen: Stationär\\n\")\n",
    "\n",
    "\n",
    "# Tests ausführen\n",
    "adf_test(df_trees_stationary[\"b12_adjusted\"])\n",
    "kpss_test(df_trees_stationary[\"b12_adjusted\"])\n",
    "\n",
    "# Plot zur Visualisierung\n",
    "df_trees_stationary[\"b12_adjusted\"].plot(title=\"Beispielzeitreihe (mit Trend)\")\n",
    "plt.show()"
   ]
  }
 ],
 "metadata": {
  "kernelspec": {
   "display_name": ".venv (3.12.3)",
   "language": "python",
   "name": "python3"
  },
  "language_info": {
   "codemirror_mode": {
    "name": "ipython",
    "version": 3
   },
   "file_extension": ".py",
   "mimetype": "text/x-python",
   "name": "python",
   "nbconvert_exporter": "python",
   "pygments_lexer": "ipython3",
   "version": "3.12.3"
  }
 },
 "nbformat": 4,
 "nbformat_minor": 5
}
