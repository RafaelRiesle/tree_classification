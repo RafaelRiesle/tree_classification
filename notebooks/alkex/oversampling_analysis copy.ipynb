{
 "cells": [
  {
   "cell_type": "code",
   "execution_count": null,
   "id": "fe8bd8b7",
   "metadata": {},
   "outputs": [],
   "source": [
    "import pandas as pd\n",
    "import matplotlib.pyplot as plt\n",
    "import plotly.express as px\n",
    "import seaborn as sns\n",
    "import pandas as pd\n",
    "import warnings\n",
    "import numpy as np\n",
    "from general_utils.constants import spectral_bands\n",
    "warnings.filterwarnings(\"ignore\")"
   ]
  },
  {
   "cell_type": "code",
   "execution_count": null,
   "id": "0fec331b",
   "metadata": {},
   "outputs": [],
   "source": [
    "df_trees_raw = pd.read_csv(\"../../data/raw/raw_trainset.csv\")\n",
    "df1 = df_trees_raw.copy()\n",
    "df1[\"time\"] = pd.to_datetime(df1[\"time\"])\n",
    "df_aug = pd.read_csv(\"result.csv\")\n",
    "df2 = df_aug.copy()\n",
    "df2 = df2.replace([np.inf, -np.inf], -999)\n",
    "#df_aug[\"time\"] = pd.to_datetime(df_aug[\"time\"])"
   ]
  },
  {
   "cell_type": "code",
   "execution_count": null,
   "id": "0217e52b",
   "metadata": {},
   "outputs": [],
   "source": [
    "df2"
   ]
  },
  {
   "cell_type": "code",
   "execution_count": null,
   "id": "9e79292e",
   "metadata": {},
   "outputs": [],
   "source": [
    "common_cols = spectral_bands"
   ]
  },
  {
   "cell_type": "code",
   "execution_count": null,
   "id": "aac66b6a",
   "metadata": {},
   "outputs": [],
   "source": [
    "for col in common_cols:\n",
    "    plt.figure(figsize=(6, 4))\n",
    "    plt.hist(df1[col].dropna(), bins=30, alpha=0.5, label='Dataset 1')\n",
    "    plt.hist(df2[col].dropna(), bins=30, alpha=0.5, label='Dataset 2')\n",
    "    plt.title(f'Verteilung: {col}')\n",
    "    plt.xlabel(col)\n",
    "    plt.ylabel('Häufigkeit')\n",
    "    plt.legend()\n",
    "    plt.tight_layout()\n",
    "    plt.show()"
   ]
  },
  {
   "cell_type": "code",
   "execution_count": null,
   "id": "76e0f27e",
   "metadata": {},
   "outputs": [],
   "source": [
    "for col in common_cols:\n",
    "    plt.figure(figsize=(4, 5))\n",
    "    plt.boxplot([df1[col].dropna(), df2[col].dropna()], labels=['Data1', 'Data2'])\n",
    "    plt.title(f'Boxplot: {col}')\n",
    "    plt.show()\n"
   ]
  },
  {
   "cell_type": "code",
   "execution_count": null,
   "id": "dee04acb",
   "metadata": {},
   "outputs": [],
   "source": [
    "import pandas as pd\n",
    "import matplotlib.pyplot as plt\n",
    "\n",
    "# 🔹 Zeitspannen berechnen\n",
    "def zeitspanne(df, name):\n",
    "    agg = df.groupby('id')['time'].agg(['min', 'max'])\n",
    "    agg.columns = ['start', 'ende']\n",
    "    agg['dataset'] = name\n",
    "    return agg\n",
    "\n",
    "span1 = zeitspanne(df1, 'data1')\n",
    "span2 = zeitspanne(df2, 'data2')\n",
    "\n",
    "# 🔹 Alles zusammenführen\n",
    "alle = pd.concat([span1, span2])\n",
    "\n",
    "# -------------------------------------------------------------\n",
    "# 🔹 1. Häufigkeit der Start- und Endzeitpunkte pro Tag\n",
    "\n",
    "# Wir nehmen das Datum (ohne Uhrzeit)\n",
    "alle['start'] = pd.to_datetime(alle['start'], errors='coerce')\n",
    "alle['ende'] = pd.to_datetime(alle['ende'], errors='coerce')\n",
    "alle['start_date'] = alle['start'].dt.date\n",
    "alle['end_date'] = alle['ende'].dt.date\n",
    "\n",
    "# Gruppieren nach Datum und zählen\n",
    "starts = alle.groupby('start_date').size().reset_index(name='count_start')\n",
    "ends = alle.groupby('end_date').size().reset_index(name='count_end')\n",
    "\n",
    "# -------------------------------------------------------------\n",
    "# 🔹 2. Plot: Häufigkeit über Datum\n",
    "plt.figure(figsize=(10, 5))\n",
    "plt.plot(starts['start_date'], starts['count_start'], label='Startzeitpunkte', color='tab:blue')\n",
    "plt.plot(ends['end_date'], ends['count_end'], label='Endzeitpunkte', color='tab:orange')\n",
    "plt.xlabel('Datum')\n",
    "plt.ylabel('Anzahl IDs')\n",
    "plt.title('Häufigkeit der Start- und Endzeitpunkte über die Zeit')\n",
    "plt.legend()\n",
    "plt.tight_layout()\n",
    "plt.show()\n",
    "\n",
    "# -------------------------------------------------------------\n",
    "# 🔹 3. Optional: Vergleich pro Dataset (z. B. data1 vs data2)\n",
    "for dataset in alle['dataset'].unique():\n",
    "    subset = alle[alle['dataset'] == dataset]\n",
    "    starts_ds = subset.groupby(subset['start'].dt.date).size().reset_index(name='count_start')\n",
    "    ends_ds = subset.groupby(subset['ende'].dt.date).size().reset_index(name='count_end')\n",
    "    \n",
    "    plt.figure(figsize=(10, 5))\n",
    "    plt.plot(starts_ds['start'], starts_ds['count_start'], label=f'{dataset} Starts')\n",
    "    plt.plot(ends_ds['ende'], ends_ds['count_end'], label=f'{dataset} Enden')\n",
    "    plt.xlabel('Datum')\n",
    "    plt.ylabel('Anzahl IDs')\n",
    "    plt.title(f'Häufigkeit der Start- und Endzeitpunkte – {dataset}')\n",
    "    plt.legend()\n",
    "    plt.tight_layout()\n",
    "    plt.show()\n"
   ]
  },
  {
   "cell_type": "code",
   "execution_count": null,
   "id": "be344a02",
   "metadata": {},
   "outputs": [],
   "source": [
    "span1.start.unique()"
   ]
  },
  {
   "cell_type": "code",
   "execution_count": null,
   "id": "715ca369",
   "metadata": {},
   "outputs": [],
   "source": [
    "span2.groupby(\"start\").count()"
   ]
  },
  {
   "cell_type": "code",
   "execution_count": null,
   "id": "21eec740",
   "metadata": {},
   "outputs": [],
   "source": [
    "df2"
   ]
  },
  {
   "cell_type": "code",
   "execution_count": null,
   "id": "9f8e88cf",
   "metadata": {},
   "outputs": [],
   "source": [
    "# Convert df2's id to string to match with df1\n",
    "df2['id'] = df2['id'].astype(str)\n",
    "\n",
    "# Get all unique ids from both dataframes\n",
    "ids1 = set(df1['id'].astype(str))\n",
    "ids2 = set(df2['id'])\n",
    "\n",
    "# Find ids that are only in df1\n",
    "unique_to_1 = ids1 - ids2\n",
    "\n",
    "# Filter df1 to get only those rows\n",
    "df_unique_to_1 = df1[df1['id'].astype(str).isin(unique_to_1)]\n",
    "\n",
    "print(f\"Number of unique rows in df1: {len(df_unique_to_1)}\")\n",
    "df_unique_to_1[['id']]"
   ]
  }
 ],
 "metadata": {
  "kernelspec": {
   "display_name": "trees_venv (3.12.3)",
   "language": "python",
   "name": "python3"
  },
  "language_info": {
   "codemirror_mode": {
    "name": "ipython",
    "version": 3
   },
   "file_extension": ".py",
   "mimetype": "text/x-python",
   "name": "python",
   "nbconvert_exporter": "python",
   "pygments_lexer": "ipython3",
   "version": "3.12.3"
  }
 },
 "nbformat": 4,
 "nbformat_minor": 5
}
